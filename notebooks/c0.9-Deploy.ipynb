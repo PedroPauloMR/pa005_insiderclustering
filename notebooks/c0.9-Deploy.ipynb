{
 "cells": [
  {
   "cell_type": "markdown",
   "id": "fd800d5f",
   "metadata": {
    "hide_input": false
   },
   "source": [
    "# PA005: High Value Customer Identification (Insiders)"
   ]
  },
  {
   "cell_type": "markdown",
   "id": "bec5327c",
   "metadata": {},
   "source": [
    "# 0.0 Imports"
   ]
  },
  {
   "cell_type": "code",
   "execution_count": 121,
   "id": "1fe5b02b",
   "metadata": {
    "ExecuteTime": {
     "end_time": "2023-03-18T20:11:08.244320Z",
     "start_time": "2023-03-18T20:11:08.225871Z"
    }
   },
   "outputs": [],
   "source": [
    "import pandas as pd\n",
    "import numpy as np\n",
    "import matplotlib.pyplot as plt\n",
    "import seaborn as sns\n",
    "import re\n",
    "import scipy.stats as st\n",
    "\n",
    "from umap.umap_ import UMAP\n",
    "\n",
    "from plotly import express as px\n",
    "\n",
    "\n",
    "from sklearn.cluster import KMeans, DBSCAN\n",
    "\n",
    "from sklearn.preprocessing import StandardScaler,MinMaxScaler,RobustScaler\n",
    "\n",
    "from sklearn.decomposition import PCA\n",
    "\n",
    "from sklearn.manifold import TSNE\n",
    "\n",
    "from sklearn.ensemble import RandomForestRegressor\n",
    "\n",
    "from sklearn.mixture import GaussianMixture\n",
    "\n",
    "from sklearn.metrics import silhouette_score, silhouette_samples\n",
    "from yellowbrick.cluster import KElbowVisualizer, SilhouetteVisualizer\n",
    "\n",
    "from scipy.cluster.hierarchy import  linkage,dendrogram, fcluster\n",
    "\n",
    "from sklearn.neighbors import NearestNeighbors\n",
    "\n",
    "pd.set_option('display.float_format', lambda x: '%.4f' % x)\n",
    "import warnings\n",
    "warnings.filterwarnings(\"ignore\")"
   ]
  },
  {
   "cell_type": "markdown",
   "id": "cba79f5a",
   "metadata": {},
   "source": [
    "# 0.2 Load Data"
   ]
  },
  {
   "cell_type": "code",
   "execution_count": 122,
   "id": "ea5f2b5e",
   "metadata": {
    "ExecuteTime": {
     "end_time": "2023-03-18T20:11:08.928780Z",
     "start_time": "2023-03-18T20:11:08.246315Z"
    }
   },
   "outputs": [
    {
     "data": {
      "text/html": [
       "<div>\n",
       "<style scoped>\n",
       "    .dataframe tbody tr th:only-of-type {\n",
       "        vertical-align: middle;\n",
       "    }\n",
       "\n",
       "    .dataframe tbody tr th {\n",
       "        vertical-align: top;\n",
       "    }\n",
       "\n",
       "    .dataframe thead th {\n",
       "        text-align: right;\n",
       "    }\n",
       "</style>\n",
       "<table border=\"1\" class=\"dataframe\">\n",
       "  <thead>\n",
       "    <tr style=\"text-align: right;\">\n",
       "      <th></th>\n",
       "      <th>InvoiceNo</th>\n",
       "      <th>StockCode</th>\n",
       "      <th>Description</th>\n",
       "      <th>Quantity</th>\n",
       "      <th>InvoiceDate</th>\n",
       "      <th>UnitPrice</th>\n",
       "      <th>CustomerID</th>\n",
       "      <th>Country</th>\n",
       "    </tr>\n",
       "  </thead>\n",
       "  <tbody>\n",
       "    <tr>\n",
       "      <th>0</th>\n",
       "      <td>536365</td>\n",
       "      <td>85123A</td>\n",
       "      <td>WHITE HANGING HEART T-LIGHT HOLDER</td>\n",
       "      <td>6</td>\n",
       "      <td>29-Nov-16</td>\n",
       "      <td>2.5500</td>\n",
       "      <td>17850.0000</td>\n",
       "      <td>United Kingdom</td>\n",
       "    </tr>\n",
       "    <tr>\n",
       "      <th>1</th>\n",
       "      <td>536365</td>\n",
       "      <td>71053</td>\n",
       "      <td>WHITE METAL LANTERN</td>\n",
       "      <td>6</td>\n",
       "      <td>29-Nov-16</td>\n",
       "      <td>3.3900</td>\n",
       "      <td>17850.0000</td>\n",
       "      <td>United Kingdom</td>\n",
       "    </tr>\n",
       "    <tr>\n",
       "      <th>2</th>\n",
       "      <td>536365</td>\n",
       "      <td>84406B</td>\n",
       "      <td>CREAM CUPID HEARTS COAT HANGER</td>\n",
       "      <td>8</td>\n",
       "      <td>29-Nov-16</td>\n",
       "      <td>2.7500</td>\n",
       "      <td>17850.0000</td>\n",
       "      <td>United Kingdom</td>\n",
       "    </tr>\n",
       "    <tr>\n",
       "      <th>3</th>\n",
       "      <td>536365</td>\n",
       "      <td>84029G</td>\n",
       "      <td>KNITTED UNION FLAG HOT WATER BOTTLE</td>\n",
       "      <td>6</td>\n",
       "      <td>29-Nov-16</td>\n",
       "      <td>3.3900</td>\n",
       "      <td>17850.0000</td>\n",
       "      <td>United Kingdom</td>\n",
       "    </tr>\n",
       "    <tr>\n",
       "      <th>4</th>\n",
       "      <td>536365</td>\n",
       "      <td>84029E</td>\n",
       "      <td>RED WOOLLY HOTTIE WHITE HEART.</td>\n",
       "      <td>6</td>\n",
       "      <td>29-Nov-16</td>\n",
       "      <td>3.3900</td>\n",
       "      <td>17850.0000</td>\n",
       "      <td>United Kingdom</td>\n",
       "    </tr>\n",
       "  </tbody>\n",
       "</table>\n",
       "</div>"
      ],
      "text/plain": [
       "  InvoiceNo StockCode                          Description  Quantity  \\\n",
       "0    536365    85123A   WHITE HANGING HEART T-LIGHT HOLDER         6   \n",
       "1    536365     71053                  WHITE METAL LANTERN         6   \n",
       "2    536365    84406B       CREAM CUPID HEARTS COAT HANGER         8   \n",
       "3    536365    84029G  KNITTED UNION FLAG HOT WATER BOTTLE         6   \n",
       "4    536365    84029E       RED WOOLLY HOTTIE WHITE HEART.         6   \n",
       "\n",
       "  InvoiceDate  UnitPrice  CustomerID         Country  \n",
       "0   29-Nov-16     2.5500  17850.0000  United Kingdom  \n",
       "1   29-Nov-16     3.3900  17850.0000  United Kingdom  \n",
       "2   29-Nov-16     2.7500  17850.0000  United Kingdom  \n",
       "3   29-Nov-16     3.3900  17850.0000  United Kingdom  \n",
       "4   29-Nov-16     3.3900  17850.0000  United Kingdom  "
      ]
     },
     "execution_count": 122,
     "metadata": {},
     "output_type": "execute_result"
    }
   ],
   "source": [
    "caminho = r'..\\data\\raw'\n",
    "df_raw = pd.read_csv(caminho + '\\Ecommerce.csv', encoding = 'iso 8859-1')\n",
    "df_raw = df_raw.drop(['Unnamed: 8'], axis = 1)\n",
    "df_raw.head()"
   ]
  },
  {
   "cell_type": "code",
   "execution_count": null,
   "id": "77e7fc3b",
   "metadata": {},
   "outputs": [],
   "source": []
  },
  {
   "cell_type": "markdown",
   "id": "bcd500c2",
   "metadata": {
    "ExecuteTime": {
     "end_time": "2023-01-28T15:12:36.453933Z",
     "start_time": "2023-01-28T15:12:36.444960Z"
    }
   },
   "source": [
    "# 1.0 Descrição os dados"
   ]
  },
  {
   "cell_type": "code",
   "execution_count": 123,
   "id": "7eb2b3ee",
   "metadata": {
    "ExecuteTime": {
     "end_time": "2023-03-18T20:11:08.989697Z",
     "start_time": "2023-03-18T20:11:08.930757Z"
    }
   },
   "outputs": [],
   "source": [
    "df1 = df_raw.copy()"
   ]
  },
  {
   "cell_type": "markdown",
   "id": "f863e8c1",
   "metadata": {},
   "source": [
    "## 1.1 Rename columns"
   ]
  },
  {
   "cell_type": "code",
   "execution_count": 124,
   "id": "c438c9d4",
   "metadata": {
    "ExecuteTime": {
     "end_time": "2023-03-18T20:11:09.005654Z",
     "start_time": "2023-03-18T20:11:08.992687Z"
    }
   },
   "outputs": [
    {
     "data": {
      "text/html": [
       "<div>\n",
       "<style scoped>\n",
       "    .dataframe tbody tr th:only-of-type {\n",
       "        vertical-align: middle;\n",
       "    }\n",
       "\n",
       "    .dataframe tbody tr th {\n",
       "        vertical-align: top;\n",
       "    }\n",
       "\n",
       "    .dataframe thead th {\n",
       "        text-align: right;\n",
       "    }\n",
       "</style>\n",
       "<table border=\"1\" class=\"dataframe\">\n",
       "  <thead>\n",
       "    <tr style=\"text-align: right;\">\n",
       "      <th></th>\n",
       "      <th>invoice_no</th>\n",
       "      <th>stock_code</th>\n",
       "      <th>description</th>\n",
       "      <th>quantity</th>\n",
       "      <th>invoice_date</th>\n",
       "      <th>unit_price</th>\n",
       "      <th>customer_id</th>\n",
       "      <th>country</th>\n",
       "    </tr>\n",
       "  </thead>\n",
       "  <tbody>\n",
       "    <tr>\n",
       "      <th>0</th>\n",
       "      <td>536365</td>\n",
       "      <td>85123A</td>\n",
       "      <td>WHITE HANGING HEART T-LIGHT HOLDER</td>\n",
       "      <td>6</td>\n",
       "      <td>29-Nov-16</td>\n",
       "      <td>2.5500</td>\n",
       "      <td>17850.0000</td>\n",
       "      <td>United Kingdom</td>\n",
       "    </tr>\n",
       "    <tr>\n",
       "      <th>1</th>\n",
       "      <td>536365</td>\n",
       "      <td>71053</td>\n",
       "      <td>WHITE METAL LANTERN</td>\n",
       "      <td>6</td>\n",
       "      <td>29-Nov-16</td>\n",
       "      <td>3.3900</td>\n",
       "      <td>17850.0000</td>\n",
       "      <td>United Kingdom</td>\n",
       "    </tr>\n",
       "    <tr>\n",
       "      <th>2</th>\n",
       "      <td>536365</td>\n",
       "      <td>84406B</td>\n",
       "      <td>CREAM CUPID HEARTS COAT HANGER</td>\n",
       "      <td>8</td>\n",
       "      <td>29-Nov-16</td>\n",
       "      <td>2.7500</td>\n",
       "      <td>17850.0000</td>\n",
       "      <td>United Kingdom</td>\n",
       "    </tr>\n",
       "    <tr>\n",
       "      <th>3</th>\n",
       "      <td>536365</td>\n",
       "      <td>84029G</td>\n",
       "      <td>KNITTED UNION FLAG HOT WATER BOTTLE</td>\n",
       "      <td>6</td>\n",
       "      <td>29-Nov-16</td>\n",
       "      <td>3.3900</td>\n",
       "      <td>17850.0000</td>\n",
       "      <td>United Kingdom</td>\n",
       "    </tr>\n",
       "    <tr>\n",
       "      <th>4</th>\n",
       "      <td>536365</td>\n",
       "      <td>84029E</td>\n",
       "      <td>RED WOOLLY HOTTIE WHITE HEART.</td>\n",
       "      <td>6</td>\n",
       "      <td>29-Nov-16</td>\n",
       "      <td>3.3900</td>\n",
       "      <td>17850.0000</td>\n",
       "      <td>United Kingdom</td>\n",
       "    </tr>\n",
       "  </tbody>\n",
       "</table>\n",
       "</div>"
      ],
      "text/plain": [
       "  invoice_no stock_code                          description  quantity  \\\n",
       "0     536365     85123A   WHITE HANGING HEART T-LIGHT HOLDER         6   \n",
       "1     536365      71053                  WHITE METAL LANTERN         6   \n",
       "2     536365     84406B       CREAM CUPID HEARTS COAT HANGER         8   \n",
       "3     536365     84029G  KNITTED UNION FLAG HOT WATER BOTTLE         6   \n",
       "4     536365     84029E       RED WOOLLY HOTTIE WHITE HEART.         6   \n",
       "\n",
       "  invoice_date  unit_price  customer_id         country  \n",
       "0    29-Nov-16      2.5500   17850.0000  United Kingdom  \n",
       "1    29-Nov-16      3.3900   17850.0000  United Kingdom  \n",
       "2    29-Nov-16      2.7500   17850.0000  United Kingdom  \n",
       "3    29-Nov-16      3.3900   17850.0000  United Kingdom  \n",
       "4    29-Nov-16      3.3900   17850.0000  United Kingdom  "
      ]
     },
     "execution_count": 124,
     "metadata": {},
     "output_type": "execute_result"
    }
   ],
   "source": [
    "cols_new = ['invoice_no','stock_code','description','quantity','invoice_date','unit_price','customer_id','country']\n",
    "\n",
    "df1.columns = cols_new\n",
    "df1.head()"
   ]
  },
  {
   "cell_type": "markdown",
   "id": "87689e50",
   "metadata": {},
   "source": [
    "## 1.2 Data dimension"
   ]
  },
  {
   "cell_type": "code",
   "execution_count": 125,
   "id": "5d809de7",
   "metadata": {
    "ExecuteTime": {
     "end_time": "2023-03-18T20:11:09.020657Z",
     "start_time": "2023-03-18T20:11:09.007648Z"
    }
   },
   "outputs": [
    {
     "name": "stdout",
     "output_type": "stream",
     "text": [
      "Number of rows: 541909 \n",
      "Number of columns: 8\n"
     ]
    }
   ],
   "source": [
    "print(\"Number of rows: {} \\nNumber of columns: {}\".format(df1.shape[0], df1.shape[1]))"
   ]
  },
  {
   "cell_type": "markdown",
   "id": "ced0d42d",
   "metadata": {},
   "source": [
    "## 1.3 Data types"
   ]
  },
  {
   "cell_type": "code",
   "execution_count": 126,
   "id": "59d14ff9",
   "metadata": {
    "ExecuteTime": {
     "end_time": "2023-03-18T20:11:09.036011Z",
     "start_time": "2023-03-18T20:11:09.022609Z"
    }
   },
   "outputs": [
    {
     "data": {
      "text/plain": [
       "invoice_no       object\n",
       "stock_code       object\n",
       "description      object\n",
       "quantity          int64\n",
       "invoice_date     object\n",
       "unit_price      float64\n",
       "customer_id     float64\n",
       "country          object\n",
       "dtype: object"
      ]
     },
     "execution_count": 126,
     "metadata": {},
     "output_type": "execute_result"
    }
   ],
   "source": [
    "df1.dtypes"
   ]
  },
  {
   "cell_type": "markdown",
   "id": "19ab00d9",
   "metadata": {},
   "source": [
    "## 1.4 Check NA"
   ]
  },
  {
   "cell_type": "code",
   "execution_count": 127,
   "id": "d2fd5d32",
   "metadata": {
    "ExecuteTime": {
     "end_time": "2023-03-18T20:11:09.385549Z",
     "start_time": "2023-03-18T20:11:09.039002Z"
    }
   },
   "outputs": [
    {
     "data": {
      "text/plain": [
       "invoice_no           0\n",
       "stock_code           0\n",
       "description       1454\n",
       "quantity             0\n",
       "invoice_date         0\n",
       "unit_price           0\n",
       "customer_id     135080\n",
       "country              0\n",
       "dtype: int64"
      ]
     },
     "execution_count": 127,
     "metadata": {},
     "output_type": "execute_result"
    }
   ],
   "source": [
    "df1.isna().sum()"
   ]
  },
  {
   "cell_type": "markdown",
   "id": "df643360",
   "metadata": {},
   "source": [
    "## 1.5 Replace NA"
   ]
  },
  {
   "cell_type": "code",
   "execution_count": 128,
   "id": "e4f12b19",
   "metadata": {
    "ExecuteTime": {
     "end_time": "2023-03-18T20:11:09.462507Z",
     "start_time": "2023-03-18T20:11:09.388059Z"
    }
   },
   "outputs": [
    {
     "data": {
      "text/html": [
       "<div>\n",
       "<style scoped>\n",
       "    .dataframe tbody tr th:only-of-type {\n",
       "        vertical-align: middle;\n",
       "    }\n",
       "\n",
       "    .dataframe tbody tr th {\n",
       "        vertical-align: top;\n",
       "    }\n",
       "\n",
       "    .dataframe thead th {\n",
       "        text-align: right;\n",
       "    }\n",
       "</style>\n",
       "<table border=\"1\" class=\"dataframe\">\n",
       "  <thead>\n",
       "    <tr style=\"text-align: right;\">\n",
       "      <th></th>\n",
       "      <th>invoice_no</th>\n",
       "      <th>stock_code</th>\n",
       "      <th>description</th>\n",
       "      <th>quantity</th>\n",
       "      <th>invoice_date</th>\n",
       "      <th>unit_price</th>\n",
       "      <th>customer_id</th>\n",
       "      <th>country</th>\n",
       "    </tr>\n",
       "  </thead>\n",
       "  <tbody>\n",
       "    <tr>\n",
       "      <th>0</th>\n",
       "      <td>536365</td>\n",
       "      <td>85123A</td>\n",
       "      <td>WHITE HANGING HEART T-LIGHT HOLDER</td>\n",
       "      <td>6</td>\n",
       "      <td>29-Nov-16</td>\n",
       "      <td>2.5500</td>\n",
       "      <td>17850.0000</td>\n",
       "      <td>United Kingdom</td>\n",
       "    </tr>\n",
       "    <tr>\n",
       "      <th>1</th>\n",
       "      <td>536365</td>\n",
       "      <td>71053</td>\n",
       "      <td>WHITE METAL LANTERN</td>\n",
       "      <td>6</td>\n",
       "      <td>29-Nov-16</td>\n",
       "      <td>3.3900</td>\n",
       "      <td>17850.0000</td>\n",
       "      <td>United Kingdom</td>\n",
       "    </tr>\n",
       "    <tr>\n",
       "      <th>2</th>\n",
       "      <td>536365</td>\n",
       "      <td>84406B</td>\n",
       "      <td>CREAM CUPID HEARTS COAT HANGER</td>\n",
       "      <td>8</td>\n",
       "      <td>29-Nov-16</td>\n",
       "      <td>2.7500</td>\n",
       "      <td>17850.0000</td>\n",
       "      <td>United Kingdom</td>\n",
       "    </tr>\n",
       "    <tr>\n",
       "      <th>3</th>\n",
       "      <td>536365</td>\n",
       "      <td>84029G</td>\n",
       "      <td>KNITTED UNION FLAG HOT WATER BOTTLE</td>\n",
       "      <td>6</td>\n",
       "      <td>29-Nov-16</td>\n",
       "      <td>3.3900</td>\n",
       "      <td>17850.0000</td>\n",
       "      <td>United Kingdom</td>\n",
       "    </tr>\n",
       "    <tr>\n",
       "      <th>4</th>\n",
       "      <td>536365</td>\n",
       "      <td>84029E</td>\n",
       "      <td>RED WOOLLY HOTTIE WHITE HEART.</td>\n",
       "      <td>6</td>\n",
       "      <td>29-Nov-16</td>\n",
       "      <td>3.3900</td>\n",
       "      <td>17850.0000</td>\n",
       "      <td>United Kingdom</td>\n",
       "    </tr>\n",
       "  </tbody>\n",
       "</table>\n",
       "</div>"
      ],
      "text/plain": [
       "  invoice_no stock_code                          description  quantity  \\\n",
       "0     536365     85123A   WHITE HANGING HEART T-LIGHT HOLDER         6   \n",
       "1     536365      71053                  WHITE METAL LANTERN         6   \n",
       "2     536365     84406B       CREAM CUPID HEARTS COAT HANGER         8   \n",
       "3     536365     84029G  KNITTED UNION FLAG HOT WATER BOTTLE         6   \n",
       "4     536365     84029E       RED WOOLLY HOTTIE WHITE HEART.         6   \n",
       "\n",
       "  invoice_date  unit_price  customer_id         country  \n",
       "0    29-Nov-16      2.5500   17850.0000  United Kingdom  \n",
       "1    29-Nov-16      3.3900   17850.0000  United Kingdom  \n",
       "2    29-Nov-16      2.7500   17850.0000  United Kingdom  \n",
       "3    29-Nov-16      3.3900   17850.0000  United Kingdom  \n",
       "4    29-Nov-16      3.3900   17850.0000  United Kingdom  "
      ]
     },
     "execution_count": 128,
     "metadata": {},
     "output_type": "execute_result"
    }
   ],
   "source": [
    "df_missing = df1.loc[df1['customer_id'].isna() ]\n",
    "df_not_missing = df1.loc[~df1['customer_id'].isna() ]\n",
    "df_not_missing.head()"
   ]
  },
  {
   "cell_type": "code",
   "execution_count": 129,
   "id": "672f80d0",
   "metadata": {
    "ExecuteTime": {
     "end_time": "2023-03-18T20:11:09.478031Z",
     "start_time": "2023-03-18T20:11:09.463478Z"
    }
   },
   "outputs": [
    {
     "name": "stdout",
     "output_type": "stream",
     "text": [
      "Missing => 135080  and NOT missing => 406829\n"
     ]
    }
   ],
   "source": [
    "print('Missing => {}  and NOT missing => {}'.format(df_missing.shape[0],df_not_missing.shape[0]))"
   ]
  },
  {
   "cell_type": "code",
   "execution_count": 130,
   "id": "a9bb0407",
   "metadata": {
    "ExecuteTime": {
     "end_time": "2023-03-18T20:11:09.509369Z",
     "start_time": "2023-03-18T20:11:09.482020Z"
    }
   },
   "outputs": [
    {
     "data": {
      "text/plain": [
       "['536414',\n",
       " '536544',\n",
       " '536545',\n",
       " '536546',\n",
       " '536547',\n",
       " '536549',\n",
       " '536550',\n",
       " '536552',\n",
       " '536553']"
      ]
     },
     "execution_count": 130,
     "metadata": {},
     "output_type": "execute_result"
    }
   ],
   "source": [
    "missing_invoice = df_missing['invoice_no'].drop_duplicates().tolist()\n",
    "missing_invoice[0:9]"
   ]
  },
  {
   "cell_type": "code",
   "execution_count": 131,
   "id": "cb859e2a",
   "metadata": {
    "ExecuteTime": {
     "end_time": "2023-03-18T20:11:09.535782Z",
     "start_time": "2023-03-18T20:11:09.511363Z"
    }
   },
   "outputs": [
    {
     "data": {
      "text/html": [
       "<div>\n",
       "<style scoped>\n",
       "    .dataframe tbody tr th:only-of-type {\n",
       "        vertical-align: middle;\n",
       "    }\n",
       "\n",
       "    .dataframe tbody tr th {\n",
       "        vertical-align: top;\n",
       "    }\n",
       "\n",
       "    .dataframe thead th {\n",
       "        text-align: right;\n",
       "    }\n",
       "</style>\n",
       "<table border=\"1\" class=\"dataframe\">\n",
       "  <thead>\n",
       "    <tr style=\"text-align: right;\">\n",
       "      <th></th>\n",
       "      <th>invoice_no</th>\n",
       "      <th>stock_code</th>\n",
       "      <th>description</th>\n",
       "      <th>quantity</th>\n",
       "      <th>invoice_date</th>\n",
       "      <th>unit_price</th>\n",
       "      <th>customer_id</th>\n",
       "      <th>country</th>\n",
       "    </tr>\n",
       "  </thead>\n",
       "  <tbody>\n",
       "  </tbody>\n",
       "</table>\n",
       "</div>"
      ],
      "text/plain": [
       "Empty DataFrame\n",
       "Columns: [invoice_no, stock_code, description, quantity, invoice_date, unit_price, customer_id, country]\n",
       "Index: []"
      ]
     },
     "execution_count": 131,
     "metadata": {},
     "output_type": "execute_result"
    }
   ],
   "source": [
    "df_not_missing.loc[df_not_missing['invoice_no'].isin( missing_invoice )]\n",
    "# nao existe invoice_no do missing presente no not missing"
   ]
  },
  {
   "cell_type": "code",
   "execution_count": 132,
   "id": "02c13de6",
   "metadata": {
    "ExecuteTime": {
     "end_time": "2023-03-18T20:11:09.550785Z",
     "start_time": "2023-03-18T20:11:09.537779Z"
    }
   },
   "outputs": [],
   "source": [
    "# atribuição dos novos \"customer_id\", apenas para nao perder os dados dos 25%\n",
    "#df_not_missing['customer_id'].max()  # 18287"
   ]
  },
  {
   "cell_type": "code",
   "execution_count": 133,
   "id": "ec798dbf",
   "metadata": {
    "ExecuteTime": {
     "end_time": "2023-03-18T20:11:09.785431Z",
     "start_time": "2023-03-18T20:11:09.554370Z"
    }
   },
   "outputs": [
    {
     "data": {
      "text/html": [
       "<div>\n",
       "<style scoped>\n",
       "    .dataframe tbody tr th:only-of-type {\n",
       "        vertical-align: middle;\n",
       "    }\n",
       "\n",
       "    .dataframe tbody tr th {\n",
       "        vertical-align: top;\n",
       "    }\n",
       "\n",
       "    .dataframe thead th {\n",
       "        text-align: right;\n",
       "    }\n",
       "</style>\n",
       "<table border=\"1\" class=\"dataframe\">\n",
       "  <thead>\n",
       "    <tr style=\"text-align: right;\">\n",
       "      <th></th>\n",
       "      <th>invoice_no</th>\n",
       "      <th>stock_code</th>\n",
       "      <th>description</th>\n",
       "      <th>quantity</th>\n",
       "      <th>invoice_date</th>\n",
       "      <th>unit_price</th>\n",
       "      <th>country</th>\n",
       "      <th>customer_id</th>\n",
       "    </tr>\n",
       "  </thead>\n",
       "  <tbody>\n",
       "    <tr>\n",
       "      <th>0</th>\n",
       "      <td>536365</td>\n",
       "      <td>85123A</td>\n",
       "      <td>WHITE HANGING HEART T-LIGHT HOLDER</td>\n",
       "      <td>6</td>\n",
       "      <td>29-Nov-16</td>\n",
       "      <td>2.5500</td>\n",
       "      <td>United Kingdom</td>\n",
       "      <td>17850.0000</td>\n",
       "    </tr>\n",
       "    <tr>\n",
       "      <th>1</th>\n",
       "      <td>536365</td>\n",
       "      <td>71053</td>\n",
       "      <td>WHITE METAL LANTERN</td>\n",
       "      <td>6</td>\n",
       "      <td>29-Nov-16</td>\n",
       "      <td>3.3900</td>\n",
       "      <td>United Kingdom</td>\n",
       "      <td>17850.0000</td>\n",
       "    </tr>\n",
       "    <tr>\n",
       "      <th>2</th>\n",
       "      <td>536365</td>\n",
       "      <td>84406B</td>\n",
       "      <td>CREAM CUPID HEARTS COAT HANGER</td>\n",
       "      <td>8</td>\n",
       "      <td>29-Nov-16</td>\n",
       "      <td>2.7500</td>\n",
       "      <td>United Kingdom</td>\n",
       "      <td>17850.0000</td>\n",
       "    </tr>\n",
       "    <tr>\n",
       "      <th>3</th>\n",
       "      <td>536365</td>\n",
       "      <td>84029G</td>\n",
       "      <td>KNITTED UNION FLAG HOT WATER BOTTLE</td>\n",
       "      <td>6</td>\n",
       "      <td>29-Nov-16</td>\n",
       "      <td>3.3900</td>\n",
       "      <td>United Kingdom</td>\n",
       "      <td>17850.0000</td>\n",
       "    </tr>\n",
       "    <tr>\n",
       "      <th>4</th>\n",
       "      <td>536365</td>\n",
       "      <td>84029E</td>\n",
       "      <td>RED WOOLLY HOTTIE WHITE HEART.</td>\n",
       "      <td>6</td>\n",
       "      <td>29-Nov-16</td>\n",
       "      <td>3.3900</td>\n",
       "      <td>United Kingdom</td>\n",
       "      <td>17850.0000</td>\n",
       "    </tr>\n",
       "  </tbody>\n",
       "</table>\n",
       "</div>"
      ],
      "text/plain": [
       "  invoice_no stock_code                          description  quantity  \\\n",
       "0     536365     85123A   WHITE HANGING HEART T-LIGHT HOLDER         6   \n",
       "1     536365      71053                  WHITE METAL LANTERN         6   \n",
       "2     536365     84406B       CREAM CUPID HEARTS COAT HANGER         8   \n",
       "3     536365     84029G  KNITTED UNION FLAG HOT WATER BOTTLE         6   \n",
       "4     536365     84029E       RED WOOLLY HOTTIE WHITE HEART.         6   \n",
       "\n",
       "  invoice_date  unit_price         country  customer_id  \n",
       "0    29-Nov-16      2.5500  United Kingdom   17850.0000  \n",
       "1    29-Nov-16      3.3900  United Kingdom   17850.0000  \n",
       "2    29-Nov-16      2.7500  United Kingdom   17850.0000  \n",
       "3    29-Nov-16      3.3900  United Kingdom   17850.0000  \n",
       "4    29-Nov-16      3.3900  United Kingdom   17850.0000  "
      ]
     },
     "execution_count": 133,
     "metadata": {},
     "output_type": "execute_result"
    }
   ],
   "source": [
    "# create reference\n",
    "df_backup = pd.DataFrame(df_missing['invoice_no'].drop_duplicates() )\n",
    "df_backup['customer_id'] = np.arange(19000, 19000 + len(df_backup), 1)\n",
    "\n",
    "# merge original with reference dataframe\n",
    "df1 = pd.merge( df1, df_backup, on = 'invoice_no', how = 'left')\n",
    "\n",
    "# coalesce\n",
    "df1['customer_id'] = df1['customer_id_x'].combine_first( df1['customer_id_y'] )\n",
    "df1 = df1.drop(['customer_id_y','customer_id_x'], axis = 1)\n",
    "df1.head()"
   ]
  },
  {
   "cell_type": "code",
   "execution_count": 134,
   "id": "5f8f69b9",
   "metadata": {
    "ExecuteTime": {
     "end_time": "2023-03-18T20:11:10.096828Z",
     "start_time": "2023-03-18T20:11:09.787769Z"
    }
   },
   "outputs": [
    {
     "data": {
      "text/plain": [
       "invoice_no         0\n",
       "stock_code         0\n",
       "description     1454\n",
       "quantity           0\n",
       "invoice_date       0\n",
       "unit_price         0\n",
       "country            0\n",
       "customer_id        0\n",
       "dtype: int64"
      ]
     },
     "execution_count": 134,
     "metadata": {},
     "output_type": "execute_result"
    }
   ],
   "source": [
    "df1.isna().sum()"
   ]
  },
  {
   "cell_type": "code",
   "execution_count": 135,
   "id": "3ade3914",
   "metadata": {
    "ExecuteTime": {
     "end_time": "2023-03-18T20:11:10.112408Z",
     "start_time": "2023-03-18T20:11:10.098823Z"
    }
   },
   "outputs": [],
   "source": [
    "# com a mudança dos missings acima, rodar novamente as analises descritivas abaixo para verificar mudanças de comportamento"
   ]
  },
  {
   "cell_type": "code",
   "execution_count": null,
   "id": "1c0777cc",
   "metadata": {},
   "outputs": [],
   "source": []
  },
  {
   "cell_type": "code",
   "execution_count": 136,
   "id": "57a755b0",
   "metadata": {
    "ExecuteTime": {
     "end_time": "2023-03-18T20:11:10.127629Z",
     "start_time": "2023-03-18T20:11:10.113868Z"
    }
   },
   "outputs": [],
   "source": [
    "# # remove\n",
    "# df1 = df1.dropna(subset = ['description','customer_id'])\n",
    "\n",
    "# print('Removed data: {:.2f}%'.format(100*(1 - (df1.shape[0]/df_raw.shape[0]))))"
   ]
  },
  {
   "cell_type": "code",
   "execution_count": 137,
   "id": "f3ed91a1",
   "metadata": {
    "ExecuteTime": {
     "end_time": "2023-03-18T20:11:10.142757Z",
     "start_time": "2023-03-18T20:11:10.129622Z"
    }
   },
   "outputs": [],
   "source": [
    "# df1.isna().sum()"
   ]
  },
  {
   "cell_type": "code",
   "execution_count": null,
   "id": "24d2e22f",
   "metadata": {},
   "outputs": [],
   "source": []
  },
  {
   "cell_type": "markdown",
   "id": "8ac010ae",
   "metadata": {},
   "source": [
    "## 1.6 Change dtypes"
   ]
  },
  {
   "cell_type": "code",
   "execution_count": 138,
   "id": "f58b415b",
   "metadata": {
    "ExecuteTime": {
     "end_time": "2023-03-18T20:11:10.221633Z",
     "start_time": "2023-03-18T20:11:10.143754Z"
    }
   },
   "outputs": [
    {
     "data": {
      "text/html": [
       "<div>\n",
       "<style scoped>\n",
       "    .dataframe tbody tr th:only-of-type {\n",
       "        vertical-align: middle;\n",
       "    }\n",
       "\n",
       "    .dataframe tbody tr th {\n",
       "        vertical-align: top;\n",
       "    }\n",
       "\n",
       "    .dataframe thead th {\n",
       "        text-align: right;\n",
       "    }\n",
       "</style>\n",
       "<table border=\"1\" class=\"dataframe\">\n",
       "  <thead>\n",
       "    <tr style=\"text-align: right;\">\n",
       "      <th></th>\n",
       "      <th>invoice_no</th>\n",
       "      <th>stock_code</th>\n",
       "      <th>description</th>\n",
       "      <th>quantity</th>\n",
       "      <th>invoice_date</th>\n",
       "      <th>unit_price</th>\n",
       "      <th>country</th>\n",
       "      <th>customer_id</th>\n",
       "    </tr>\n",
       "  </thead>\n",
       "  <tbody>\n",
       "    <tr>\n",
       "      <th>0</th>\n",
       "      <td>536365</td>\n",
       "      <td>85123A</td>\n",
       "      <td>WHITE HANGING HEART T-LIGHT HOLDER</td>\n",
       "      <td>6</td>\n",
       "      <td>2016-11-29</td>\n",
       "      <td>2.5500</td>\n",
       "      <td>United Kingdom</td>\n",
       "      <td>17850</td>\n",
       "    </tr>\n",
       "    <tr>\n",
       "      <th>1</th>\n",
       "      <td>536365</td>\n",
       "      <td>71053</td>\n",
       "      <td>WHITE METAL LANTERN</td>\n",
       "      <td>6</td>\n",
       "      <td>2016-11-29</td>\n",
       "      <td>3.3900</td>\n",
       "      <td>United Kingdom</td>\n",
       "      <td>17850</td>\n",
       "    </tr>\n",
       "    <tr>\n",
       "      <th>2</th>\n",
       "      <td>536365</td>\n",
       "      <td>84406B</td>\n",
       "      <td>CREAM CUPID HEARTS COAT HANGER</td>\n",
       "      <td>8</td>\n",
       "      <td>2016-11-29</td>\n",
       "      <td>2.7500</td>\n",
       "      <td>United Kingdom</td>\n",
       "      <td>17850</td>\n",
       "    </tr>\n",
       "    <tr>\n",
       "      <th>3</th>\n",
       "      <td>536365</td>\n",
       "      <td>84029G</td>\n",
       "      <td>KNITTED UNION FLAG HOT WATER BOTTLE</td>\n",
       "      <td>6</td>\n",
       "      <td>2016-11-29</td>\n",
       "      <td>3.3900</td>\n",
       "      <td>United Kingdom</td>\n",
       "      <td>17850</td>\n",
       "    </tr>\n",
       "    <tr>\n",
       "      <th>4</th>\n",
       "      <td>536365</td>\n",
       "      <td>84029E</td>\n",
       "      <td>RED WOOLLY HOTTIE WHITE HEART.</td>\n",
       "      <td>6</td>\n",
       "      <td>2016-11-29</td>\n",
       "      <td>3.3900</td>\n",
       "      <td>United Kingdom</td>\n",
       "      <td>17850</td>\n",
       "    </tr>\n",
       "  </tbody>\n",
       "</table>\n",
       "</div>"
      ],
      "text/plain": [
       "  invoice_no stock_code                          description  quantity  \\\n",
       "0     536365     85123A   WHITE HANGING HEART T-LIGHT HOLDER         6   \n",
       "1     536365      71053                  WHITE METAL LANTERN         6   \n",
       "2     536365     84406B       CREAM CUPID HEARTS COAT HANGER         8   \n",
       "3     536365     84029G  KNITTED UNION FLAG HOT WATER BOTTLE         6   \n",
       "4     536365     84029E       RED WOOLLY HOTTIE WHITE HEART.         6   \n",
       "\n",
       "  invoice_date  unit_price         country  customer_id  \n",
       "0   2016-11-29      2.5500  United Kingdom        17850  \n",
       "1   2016-11-29      3.3900  United Kingdom        17850  \n",
       "2   2016-11-29      2.7500  United Kingdom        17850  \n",
       "3   2016-11-29      3.3900  United Kingdom        17850  \n",
       "4   2016-11-29      3.3900  United Kingdom        17850  "
      ]
     },
     "execution_count": 138,
     "metadata": {},
     "output_type": "execute_result"
    }
   ],
   "source": [
    "# invoice_date\n",
    "df1['invoice_date'] = pd.to_datetime(df1['invoice_date'], format='%d-%b-%y')\n",
    "\n",
    "# customer_id\n",
    "df1['customer_id'] = df1['customer_id'].astype('int64')\n",
    "df1.head()"
   ]
  },
  {
   "cell_type": "code",
   "execution_count": 139,
   "id": "46d4ba1e",
   "metadata": {
    "ExecuteTime": {
     "end_time": "2023-03-18T20:11:10.236957Z",
     "start_time": "2023-03-18T20:11:10.223584Z"
    }
   },
   "outputs": [
    {
     "data": {
      "text/plain": [
       "invoice_no              object\n",
       "stock_code              object\n",
       "description             object\n",
       "quantity                 int64\n",
       "invoice_date    datetime64[ns]\n",
       "unit_price             float64\n",
       "country                 object\n",
       "customer_id              int64\n",
       "dtype: object"
      ]
     },
     "execution_count": 139,
     "metadata": {},
     "output_type": "execute_result"
    }
   ],
   "source": [
    "df1.dtypes"
   ]
  },
  {
   "cell_type": "markdown",
   "id": "59615a9c",
   "metadata": {},
   "source": [
    "## 1.7 Descriptive Statistics"
   ]
  },
  {
   "cell_type": "code",
   "execution_count": 140,
   "id": "efc9b8c1",
   "metadata": {
    "ExecuteTime": {
     "end_time": "2023-03-18T20:11:10.315900Z",
     "start_time": "2023-03-18T20:11:10.239913Z"
    }
   },
   "outputs": [],
   "source": [
    "num_attributes = df1.select_dtypes(include=['int64','float64'])\n",
    "cat_attributes = df1.select_dtypes(exclude=['int64','float64','datetime64[ns]'])"
   ]
  },
  {
   "cell_type": "markdown",
   "id": "b95e413c",
   "metadata": {},
   "source": [
    "### 1.7.1 Numerical Attributes"
   ]
  },
  {
   "cell_type": "code",
   "execution_count": 141,
   "id": "ed82bec9",
   "metadata": {
    "ExecuteTime": {
     "end_time": "2023-03-18T20:11:10.456246Z",
     "start_time": "2023-03-18T20:11:10.317945Z"
    }
   },
   "outputs": [],
   "source": [
    "# central tendency - mean / median\n",
    "ct1 = pd.DataFrame(num_attributes.apply(np.mean)).T\n",
    "ct2 = pd.DataFrame(num_attributes.apply(np.median)).T\n",
    "\n",
    "# dispersion - std / skew / kurtosis / min / max\n",
    "d1 = pd.DataFrame(num_attributes.apply(np.std)).T\n",
    "d2 = pd.DataFrame(num_attributes.apply(np.min)).T\n",
    "d3 = pd.DataFrame(num_attributes.apply(np.max)).T\n",
    "d4 = pd.DataFrame(num_attributes.apply(lambda x: x.max() - x.min() )).T\n",
    "d5 = pd.DataFrame(num_attributes.apply(lambda x: x.skew() )).T\n",
    "d6 = pd.DataFrame(num_attributes.apply(lambda x: x.kurtosis() )).T\n",
    "\n",
    "# concatenate\n",
    "m = pd.concat( [d2,d3,d4,ct1,ct2,d1,d5,d6]).T.reset_index()\n",
    "m.columns = ['attributes','min','max','range','mean','median','std', 'skew','kurtosis']\n",
    "# m"
   ]
  },
  {
   "cell_type": "code",
   "execution_count": 142,
   "id": "c38ac102",
   "metadata": {
    "ExecuteTime": {
     "end_time": "2023-03-18T20:11:10.472047Z",
     "start_time": "2023-03-18T20:11:10.457984Z"
    }
   },
   "outputs": [],
   "source": [
    "# quantidade com valor negativo ? (Devolução)\n",
    "# preço unitario de zero ? Promoção ?\n"
   ]
  },
  {
   "cell_type": "code",
   "execution_count": null,
   "id": "43156007",
   "metadata": {},
   "outputs": [],
   "source": []
  },
  {
   "cell_type": "markdown",
   "id": "235700da",
   "metadata": {},
   "source": [
    "### 1.7.2 Categorical Attributes"
   ]
  },
  {
   "cell_type": "code",
   "execution_count": 143,
   "id": "4d4890cc",
   "metadata": {
    "ExecuteTime": {
     "end_time": "2023-03-18T20:11:11.213015Z",
     "start_time": "2023-03-18T20:11:10.474003Z"
    }
   },
   "outputs": [
    {
     "name": "stdout",
     "output_type": "stream",
     "text": [
      "Total of invoices with letter:  9291\n",
      "Total of invoices with letter and quantity < 0:  9288\n"
     ]
    }
   ],
   "source": [
    "# cat_attributes['invoice_no'].astype('int64')\n",
    "# invoice_no\n",
    "df_letter_invoices = df1.loc[df1['invoice_no'].apply( lambda x: bool(re.search('[^0-9]+', x)) )]\n",
    "print('Total of invoices with letter: ', df_letter_invoices.shape[0])\n",
    "print('Total of invoices with letter and quantity < 0: ',df_letter_invoices.loc[\n",
    "                                        df_letter_invoices['quantity'] < 0].shape[0])"
   ]
  },
  {
   "cell_type": "code",
   "execution_count": 144,
   "id": "5a289133",
   "metadata": {
    "ExecuteTime": {
     "end_time": "2023-03-18T20:11:11.879043Z",
     "start_time": "2023-03-18T20:11:11.215007Z"
    }
   },
   "outputs": [
    {
     "data": {
      "text/plain": [
       "array(['POST', 'D', 'DOT', 'M', 'S', 'AMAZONFEE', 'm', 'DCGSSBOY',\n",
       "       'DCGSSGIRL', 'PADS', 'B', 'CRUK'], dtype=object)"
      ]
     },
     "execution_count": 144,
     "metadata": {},
     "output_type": "execute_result"
    }
   ],
   "source": [
    "# stock code\n",
    "# pegar somente letras\n",
    "df1.loc[df1['stock_code'].apply( lambda x: bool(re.search('^[a-zA-Z]+$', x)) ),\n",
    "                   'stock_code'].unique()"
   ]
  },
  {
   "cell_type": "code",
   "execution_count": 145,
   "id": "e97a3f03",
   "metadata": {
    "ExecuteTime": {
     "end_time": "2023-03-18T20:11:11.895403Z",
     "start_time": "2023-03-18T20:11:11.881038Z"
    }
   },
   "outputs": [],
   "source": [
    "# acao:  remove stock_code in ['POST', 'D', 'M', 'PADS', 'DOT', 'CRUK']\n"
   ]
  },
  {
   "cell_type": "code",
   "execution_count": 146,
   "id": "262908fd",
   "metadata": {
    "ExecuteTime": {
     "end_time": "2023-03-18T20:11:11.911432Z",
     "start_time": "2023-03-18T20:11:11.896924Z"
    }
   },
   "outputs": [],
   "source": [
    "# description\n",
    "# df1.head()\n",
    "\n",
    "# delete description"
   ]
  },
  {
   "cell_type": "code",
   "execution_count": 147,
   "id": "95293dd5",
   "metadata": {
    "ExecuteTime": {
     "end_time": "2023-03-18T20:11:11.959045Z",
     "start_time": "2023-03-18T20:11:11.912433Z"
    }
   },
   "outputs": [
    {
     "data": {
      "text/plain": [
       "array(['United Kingdom', 'France', 'Australia', 'Netherlands', 'Germany',\n",
       "       'Norway', 'EIRE', 'Switzerland', 'Spain', 'Poland', 'Portugal',\n",
       "       'Italy', 'Belgium', 'Lithuania', 'Japan', 'Iceland',\n",
       "       'Channel Islands', 'Denmark', 'Cyprus', 'Sweden', 'Austria',\n",
       "       'Israel', 'Finland', 'Bahrain', 'Greece', 'Hong Kong', 'Singapore',\n",
       "       'Lebanon', 'United Arab Emirates', 'Saudi Arabia',\n",
       "       'Czech Republic', 'Canada', 'Unspecified', 'Brazil', 'USA',\n",
       "       'European Community', 'Malta', 'RSA'], dtype=object)"
      ]
     },
     "execution_count": 147,
     "metadata": {},
     "output_type": "execute_result"
    }
   ],
   "source": [
    "# country\n",
    "df1['country'].unique()"
   ]
  },
  {
   "cell_type": "code",
   "execution_count": 148,
   "id": "664b91b6",
   "metadata": {
    "ExecuteTime": {
     "end_time": "2023-03-18T20:11:12.005655Z",
     "start_time": "2023-03-18T20:11:11.965889Z"
    }
   },
   "outputs": [
    {
     "data": {
      "text/plain": [
       "United Kingdom   0.9143\n",
       "Germany          0.0175\n",
       "France           0.0158\n",
       "EIRE             0.0151\n",
       "Spain            0.0047\n",
       "Name: country, dtype: float64"
      ]
     },
     "execution_count": 148,
     "metadata": {},
     "output_type": "execute_result"
    }
   ],
   "source": [
    "df1['country'].value_counts( normalize = True).head()"
   ]
  },
  {
   "cell_type": "code",
   "execution_count": 149,
   "id": "ebf6bae4",
   "metadata": {
    "ExecuteTime": {
     "end_time": "2023-03-18T20:11:12.101206Z",
     "start_time": "2023-03-18T20:11:12.007374Z"
    }
   },
   "outputs": [
    {
     "data": {
      "text/html": [
       "<div>\n",
       "<style scoped>\n",
       "    .dataframe tbody tr th:only-of-type {\n",
       "        vertical-align: middle;\n",
       "    }\n",
       "\n",
       "    .dataframe tbody tr th {\n",
       "        vertical-align: top;\n",
       "    }\n",
       "\n",
       "    .dataframe thead th {\n",
       "        text-align: right;\n",
       "    }\n",
       "</style>\n",
       "<table border=\"1\" class=\"dataframe\">\n",
       "  <thead>\n",
       "    <tr style=\"text-align: right;\">\n",
       "      <th></th>\n",
       "      <th>customer_id</th>\n",
       "    </tr>\n",
       "    <tr>\n",
       "      <th>country</th>\n",
       "      <th></th>\n",
       "    </tr>\n",
       "  </thead>\n",
       "  <tbody>\n",
       "    <tr>\n",
       "      <th>United Kingdom</th>\n",
       "      <td>7587</td>\n",
       "    </tr>\n",
       "    <tr>\n",
       "      <th>Germany</th>\n",
       "      <td>95</td>\n",
       "    </tr>\n",
       "    <tr>\n",
       "      <th>France</th>\n",
       "      <td>90</td>\n",
       "    </tr>\n",
       "    <tr>\n",
       "      <th>EIRE</th>\n",
       "      <td>44</td>\n",
       "    </tr>\n",
       "    <tr>\n",
       "      <th>Spain</th>\n",
       "      <td>31</td>\n",
       "    </tr>\n",
       "  </tbody>\n",
       "</table>\n",
       "</div>"
      ],
      "text/plain": [
       "                customer_id\n",
       "country                    \n",
       "United Kingdom         7587\n",
       "Germany                  95\n",
       "France                   90\n",
       "EIRE                     44\n",
       "Spain                    31"
      ]
     },
     "execution_count": 149,
     "metadata": {},
     "output_type": "execute_result"
    }
   ],
   "source": [
    "df1[['country','customer_id']].drop_duplicates().groupby('country').count().sort_values(by = 'customer_id',\n",
    "                                                                                        ascending = False).head()"
   ]
  },
  {
   "cell_type": "code",
   "execution_count": null,
   "id": "159900ee",
   "metadata": {},
   "outputs": [],
   "source": []
  },
  {
   "cell_type": "code",
   "execution_count": null,
   "id": "31e7cde6",
   "metadata": {},
   "outputs": [],
   "source": []
  },
  {
   "cell_type": "markdown",
   "id": "97f2f075",
   "metadata": {},
   "source": [
    "# 2.0 Filtragem das variáveis"
   ]
  },
  {
   "cell_type": "code",
   "execution_count": 150,
   "id": "87d2010f",
   "metadata": {
    "ExecuteTime": {
     "end_time": "2023-03-18T20:11:12.147917Z",
     "start_time": "2023-03-18T20:11:12.104805Z"
    }
   },
   "outputs": [],
   "source": [
    "df2 = df1.copy()"
   ]
  },
  {
   "cell_type": "code",
   "execution_count": 151,
   "id": "7b6bed13",
   "metadata": {
    "ExecuteTime": {
     "end_time": "2023-03-18T20:11:12.479736Z",
     "start_time": "2023-03-18T20:11:12.149915Z"
    }
   },
   "outputs": [
    {
     "data": {
      "text/html": [
       "<div>\n",
       "<style scoped>\n",
       "    .dataframe tbody tr th:only-of-type {\n",
       "        vertical-align: middle;\n",
       "    }\n",
       "\n",
       "    .dataframe tbody tr th {\n",
       "        vertical-align: top;\n",
       "    }\n",
       "\n",
       "    .dataframe thead th {\n",
       "        text-align: right;\n",
       "    }\n",
       "</style>\n",
       "<table border=\"1\" class=\"dataframe\">\n",
       "  <thead>\n",
       "    <tr style=\"text-align: right;\">\n",
       "      <th></th>\n",
       "      <th>invoice_no</th>\n",
       "      <th>stock_code</th>\n",
       "      <th>description</th>\n",
       "      <th>quantity</th>\n",
       "      <th>invoice_date</th>\n",
       "      <th>unit_price</th>\n",
       "      <th>country</th>\n",
       "      <th>customer_id</th>\n",
       "    </tr>\n",
       "  </thead>\n",
       "  <tbody>\n",
       "    <tr>\n",
       "      <th>61619</th>\n",
       "      <td>541431</td>\n",
       "      <td>23166</td>\n",
       "      <td>MEDIUM CERAMIC TOP STORAGE JAR</td>\n",
       "      <td>74215</td>\n",
       "      <td>2017-01-16</td>\n",
       "      <td>1.0400</td>\n",
       "      <td>United Kingdom</td>\n",
       "      <td>12346</td>\n",
       "    </tr>\n",
       "    <tr>\n",
       "      <th>61624</th>\n",
       "      <td>C541433</td>\n",
       "      <td>23166</td>\n",
       "      <td>MEDIUM CERAMIC TOP STORAGE JAR</td>\n",
       "      <td>-74215</td>\n",
       "      <td>2017-01-16</td>\n",
       "      <td>1.0400</td>\n",
       "      <td>United Kingdom</td>\n",
       "      <td>12346</td>\n",
       "    </tr>\n",
       "    <tr>\n",
       "      <th>14966</th>\n",
       "      <td>537626</td>\n",
       "      <td>84558A</td>\n",
       "      <td>3D DOG PICTURE PLAYING CARDS</td>\n",
       "      <td>24</td>\n",
       "      <td>2016-12-05</td>\n",
       "      <td>2.9500</td>\n",
       "      <td>Iceland</td>\n",
       "      <td>12347</td>\n",
       "    </tr>\n",
       "    <tr>\n",
       "      <th>14939</th>\n",
       "      <td>537626</td>\n",
       "      <td>22375</td>\n",
       "      <td>AIRLINE BAG VINTAGE JET SET BROWN</td>\n",
       "      <td>4</td>\n",
       "      <td>2016-12-05</td>\n",
       "      <td>4.2500</td>\n",
       "      <td>Iceland</td>\n",
       "      <td>12347</td>\n",
       "    </tr>\n",
       "    <tr>\n",
       "      <th>14948</th>\n",
       "      <td>537626</td>\n",
       "      <td>22725</td>\n",
       "      <td>ALARM CLOCK BAKELIKE CHOCOLATE</td>\n",
       "      <td>4</td>\n",
       "      <td>2016-12-05</td>\n",
       "      <td>3.7500</td>\n",
       "      <td>Iceland</td>\n",
       "      <td>12347</td>\n",
       "    </tr>\n",
       "    <tr>\n",
       "      <th>14949</th>\n",
       "      <td>537626</td>\n",
       "      <td>22726</td>\n",
       "      <td>ALARM CLOCK BAKELIKE GREEN</td>\n",
       "      <td>4</td>\n",
       "      <td>2016-12-05</td>\n",
       "      <td>3.7500</td>\n",
       "      <td>Iceland</td>\n",
       "      <td>12347</td>\n",
       "    </tr>\n",
       "    <tr>\n",
       "      <th>14952</th>\n",
       "      <td>537626</td>\n",
       "      <td>22729</td>\n",
       "      <td>ALARM CLOCK BAKELIKE ORANGE</td>\n",
       "      <td>4</td>\n",
       "      <td>2016-12-05</td>\n",
       "      <td>3.7500</td>\n",
       "      <td>Iceland</td>\n",
       "      <td>12347</td>\n",
       "    </tr>\n",
       "    <tr>\n",
       "      <th>14951</th>\n",
       "      <td>537626</td>\n",
       "      <td>22728</td>\n",
       "      <td>ALARM CLOCK BAKELIKE PINK</td>\n",
       "      <td>4</td>\n",
       "      <td>2016-12-05</td>\n",
       "      <td>3.7500</td>\n",
       "      <td>Iceland</td>\n",
       "      <td>12347</td>\n",
       "    </tr>\n",
       "    <tr>\n",
       "      <th>14950</th>\n",
       "      <td>537626</td>\n",
       "      <td>22727</td>\n",
       "      <td>ALARM CLOCK BAKELIKE RED</td>\n",
       "      <td>4</td>\n",
       "      <td>2016-12-05</td>\n",
       "      <td>3.7500</td>\n",
       "      <td>Iceland</td>\n",
       "      <td>12347</td>\n",
       "    </tr>\n",
       "    <tr>\n",
       "      <th>14955</th>\n",
       "      <td>537626</td>\n",
       "      <td>21171</td>\n",
       "      <td>BATHROOM METAL SIGN</td>\n",
       "      <td>12</td>\n",
       "      <td>2016-12-05</td>\n",
       "      <td>1.4500</td>\n",
       "      <td>Iceland</td>\n",
       "      <td>12347</td>\n",
       "    </tr>\n",
       "  </tbody>\n",
       "</table>\n",
       "</div>"
      ],
      "text/plain": [
       "      invoice_no stock_code                        description  quantity  \\\n",
       "61619     541431      23166     MEDIUM CERAMIC TOP STORAGE JAR     74215   \n",
       "61624    C541433      23166     MEDIUM CERAMIC TOP STORAGE JAR    -74215   \n",
       "14966     537626     84558A       3D DOG PICTURE PLAYING CARDS        24   \n",
       "14939     537626      22375  AIRLINE BAG VINTAGE JET SET BROWN         4   \n",
       "14948     537626      22725     ALARM CLOCK BAKELIKE CHOCOLATE         4   \n",
       "14949     537626      22726         ALARM CLOCK BAKELIKE GREEN         4   \n",
       "14952     537626      22729        ALARM CLOCK BAKELIKE ORANGE         4   \n",
       "14951     537626      22728          ALARM CLOCK BAKELIKE PINK         4   \n",
       "14950     537626      22727          ALARM CLOCK BAKELIKE RED          4   \n",
       "14955     537626      21171               BATHROOM METAL SIGN         12   \n",
       "\n",
       "      invoice_date  unit_price         country  customer_id  \n",
       "61619   2017-01-16      1.0400  United Kingdom        12346  \n",
       "61624   2017-01-16      1.0400  United Kingdom        12346  \n",
       "14966   2016-12-05      2.9500         Iceland        12347  \n",
       "14939   2016-12-05      4.2500         Iceland        12347  \n",
       "14948   2016-12-05      3.7500         Iceland        12347  \n",
       "14949   2016-12-05      3.7500         Iceland        12347  \n",
       "14952   2016-12-05      3.7500         Iceland        12347  \n",
       "14951   2016-12-05      3.7500         Iceland        12347  \n",
       "14950   2016-12-05      3.7500         Iceland        12347  \n",
       "14955   2016-12-05      1.4500         Iceland        12347  "
      ]
     },
     "execution_count": 151,
     "metadata": {},
     "output_type": "execute_result"
    }
   ],
   "source": [
    "df2.sort_values(['customer_id','invoice_no','description']).head(10) \n",
    "# há devolução se olhar o primeiro individuo, pois o \"C\" parece ser a flag para devolução"
   ]
  },
  {
   "cell_type": "code",
   "execution_count": 152,
   "id": "82f76531",
   "metadata": {
    "ExecuteTime": {
     "end_time": "2023-03-18T20:11:12.494697Z",
     "start_time": "2023-03-18T20:11:12.480778Z"
    }
   },
   "outputs": [],
   "source": [
    "# quantity (negative)\n",
    "# df2.loc[df2['quantity'] < 0 ].sort_values('invoice_no').head()"
   ]
  },
  {
   "cell_type": "code",
   "execution_count": 153,
   "id": "4d25ad10",
   "metadata": {
    "ExecuteTime": {
     "end_time": "2023-03-18T20:11:12.795359Z",
     "start_time": "2023-03-18T20:11:12.496693Z"
    }
   },
   "outputs": [],
   "source": [
    "#====== NUMERICAL ===========\n",
    "# unity price > 0\n",
    "df2 = df2.loc[df2['unit_price'] > 0.040]\n",
    "\n",
    "# stock code != ['POST, D, M, DOT, CRUK]\n",
    "df2 = df2.loc[~df2['stock_code'].isin( ['POST', 'D', 'DOT', 'M', 'S', 'AMAZONFEE', 'm', 'DCGSSBOY',\n",
    "       'DCGSSGIRL', 'PADS', 'B', 'CRUK'] ) ]\n",
    "\n",
    "# description\n",
    "df2 = df2.drop(['description'], axis = 1)\n",
    "\n",
    "# country change\n",
    "df2 = df2.loc[ ~df2['country'].isin( ['Unspecified','European Community'])]\n",
    "\n",
    "\n",
    "# esse cliente apareceu com compras e estornos altos após o pandas profiling na etapa de verificar outliers\n",
    "df2 = df2.loc[~df2['customer_id'].isin( [16446])]\n",
    "\n",
    "\n",
    "# quantity\n",
    "df2_returns = df2.loc[ df2['quantity'] < 0]\n",
    "df2_purchases = df2.loc[ df2['quantity'] >= 0]"
   ]
  },
  {
   "cell_type": "code",
   "execution_count": null,
   "id": "f63fd4aa",
   "metadata": {},
   "outputs": [],
   "source": []
  },
  {
   "cell_type": "markdown",
   "id": "01186448",
   "metadata": {},
   "source": [
    "# 3.0 Feature Engineering"
   ]
  },
  {
   "cell_type": "code",
   "execution_count": 154,
   "id": "33186b55",
   "metadata": {
    "ExecuteTime": {
     "end_time": "2023-03-18T20:11:12.827758Z",
     "start_time": "2023-03-18T20:11:12.796357Z"
    }
   },
   "outputs": [],
   "source": [
    "df3 = df2.copy()"
   ]
  },
  {
   "cell_type": "markdown",
   "id": "7c97441c",
   "metadata": {},
   "source": [
    "## 3.1 Feature creation"
   ]
  },
  {
   "cell_type": "code",
   "execution_count": 155,
   "id": "a22d31a6",
   "metadata": {
    "ExecuteTime": {
     "end_time": "2023-03-18T20:11:12.858972Z",
     "start_time": "2023-03-18T20:11:12.829757Z"
    }
   },
   "outputs": [],
   "source": [
    "# data reference\n",
    "df_ref = df3.drop(['invoice_no', 'stock_code', 'quantity', 'invoice_date',\n",
    "       'unit_price', 'country'], axis = 1).drop_duplicates().reset_index(drop = True)\n",
    "\n",
    "# df_ref.head()"
   ]
  },
  {
   "cell_type": "markdown",
   "id": "e772eca5",
   "metadata": {},
   "source": [
    "### 3.1.1 Gross revenue"
   ]
  },
  {
   "cell_type": "code",
   "execution_count": 156,
   "id": "1de5ade7",
   "metadata": {
    "ExecuteTime": {
     "end_time": "2023-03-18T20:11:12.874663Z",
     "start_time": "2023-03-18T20:11:12.860272Z"
    }
   },
   "outputs": [],
   "source": [
    "# gross revenue = quantity * price (faturamento)\n",
    "df2_purchases['gross_revenue'] = df2_purchases['quantity'] * df2_purchases['unit_price']"
   ]
  },
  {
   "cell_type": "code",
   "execution_count": 157,
   "id": "9a7340c2",
   "metadata": {
    "ExecuteTime": {
     "end_time": "2023-03-18T20:11:12.922199Z",
     "start_time": "2023-03-18T20:11:12.876160Z"
    }
   },
   "outputs": [],
   "source": [
    "# monetary\n",
    "df_monetary = df2_purchases[['customer_id','gross_revenue']].groupby('customer_id').sum().reset_index()"
   ]
  },
  {
   "cell_type": "code",
   "execution_count": 158,
   "id": "fe4fe5b0",
   "metadata": {
    "ExecuteTime": {
     "end_time": "2023-03-18T20:11:12.937980Z",
     "start_time": "2023-03-18T20:11:12.924690Z"
    }
   },
   "outputs": [
    {
     "data": {
      "text/plain": [
       "customer_id       0\n",
       "gross_revenue    91\n",
       "dtype: int64"
      ]
     },
     "execution_count": 158,
     "metadata": {},
     "output_type": "execute_result"
    }
   ],
   "source": [
    "df_ref = pd.merge(df_ref, df_monetary, on = 'customer_id',how = 'left')\n",
    "\n",
    "df_ref.isna().sum() # tem NA por conta de ser somente as compras 'positivas'"
   ]
  },
  {
   "cell_type": "markdown",
   "id": "93a48d98",
   "metadata": {},
   "source": [
    "### 3.1.2 Recency - day from last purchase"
   ]
  },
  {
   "cell_type": "code",
   "execution_count": 159,
   "id": "ad23bde4",
   "metadata": {
    "ExecuteTime": {
     "end_time": "2023-03-18T20:11:12.985466Z",
     "start_time": "2023-03-18T20:11:12.939977Z"
    }
   },
   "outputs": [],
   "source": [
    "# recency - last day purchase\n",
    "df_recency = df2_purchases[['customer_id','invoice_date']].groupby('customer_id').max().reset_index()\n",
    "\n",
    "# pego o df1 com max() pois eu considero que seria eu olhando pra \"hoje\" no meu dataset e tirando 'hoje - datas'\n",
    "df_recency['recency_days'] = ( df2_purchases['invoice_date'].max() - df_recency['invoice_date']  ).dt.days\n",
    "df_recency = df_recency[['customer_id','recency_days']].copy()\n",
    "df_ref = pd.merge(df_ref, df_recency, on = 'customer_id', how = 'left')\n",
    "# df_ref.isna().sum()"
   ]
  },
  {
   "cell_type": "markdown",
   "id": "d9908050",
   "metadata": {},
   "source": [
    "### Qtde invoices"
   ]
  },
  {
   "cell_type": "code",
   "execution_count": 160,
   "id": "41fbea67",
   "metadata": {
    "ExecuteTime": {
     "end_time": "2023-03-18T20:11:13.079946Z",
     "start_time": "2023-03-18T20:11:12.988608Z"
    }
   },
   "outputs": [],
   "source": [
    "# number of products\n",
    "df_frequency = df2_purchases[['customer_id','invoice_no']].drop_duplicates().groupby(\n",
    "                                'customer_id').count().reset_index().rename(columns={'invoice_no':'qtde_invoices'})\n",
    "df_ref = pd.merge(df_ref, df_frequency, on = 'customer_id', how = 'left')\n",
    "# df_ref.isna().sum()"
   ]
  },
  {
   "cell_type": "markdown",
   "id": "a8cd53d7",
   "metadata": {},
   "source": [
    "### qtde_items"
   ]
  },
  {
   "cell_type": "code",
   "execution_count": 161,
   "id": "184a0687",
   "metadata": {
    "ExecuteTime": {
     "end_time": "2023-03-18T20:11:13.127695Z",
     "start_time": "2023-03-18T20:11:13.081945Z"
    }
   },
   "outputs": [],
   "source": [
    "# number of products\n",
    "df_frequency = df2_purchases[['customer_id','quantity']].groupby(\n",
    "                                            'customer_id').sum().reset_index().rename(columns={'quantity':'qtde_items'})\n",
    "df_ref = pd.merge(df_ref, df_frequency, on = 'customer_id', how = 'left')\n",
    "# df_ref.isna().sum()"
   ]
  },
  {
   "cell_type": "markdown",
   "id": "967c149d",
   "metadata": {},
   "source": [
    "### 3.1.5 Quantity of unique products purchased"
   ]
  },
  {
   "cell_type": "code",
   "execution_count": 162,
   "id": "013aa145",
   "metadata": {
    "ExecuteTime": {
     "end_time": "2023-03-18T20:11:13.237871Z",
     "start_time": "2023-03-18T20:11:13.129693Z"
    }
   },
   "outputs": [],
   "source": [
    "# number of products\n",
    "df_frequency = df2_purchases[['customer_id','stock_code']].groupby(\n",
    "                                'customer_id').count().reset_index().rename(columns={'stock_code':'qtde_products'})\n",
    "df_ref = pd.merge(df_ref, df_frequency, on = 'customer_id', how = 'left')\n",
    "# df_ref.isna().sum()"
   ]
  },
  {
   "cell_type": "markdown",
   "id": "3e70e178",
   "metadata": {
    "ExecuteTime": {
     "end_time": "2023-03-18T19:32:00.628580Z",
     "start_time": "2023-03-18T19:32:00.615617Z"
    }
   },
   "source": [
    "### avg ticket"
   ]
  },
  {
   "cell_type": "code",
   "execution_count": 163,
   "id": "a2b275b0",
   "metadata": {
    "ExecuteTime": {
     "end_time": "2023-03-18T20:11:13.285425Z",
     "start_time": "2023-03-18T20:11:13.239864Z"
    }
   },
   "outputs": [],
   "source": [
    "# average ticket\n",
    "df_avg_ticket = df2_purchases[['customer_id','gross_revenue']].groupby('customer_id').mean().reset_index().rename(\n",
    "                                                            columns = {'gross_revenue':'avg_ticket'})\n",
    "df_ref = pd.merge(df_ref, df_avg_ticket, on = 'customer_id', how = 'left')\n",
    "# df_ref.isna().sum()"
   ]
  },
  {
   "cell_type": "markdown",
   "id": "ce6631fa",
   "metadata": {},
   "source": [
    "### avg recency days"
   ]
  },
  {
   "cell_type": "code",
   "execution_count": 164,
   "id": "cd3844f2",
   "metadata": {
    "ExecuteTime": {
     "end_time": "2023-03-18T20:11:13.682781Z",
     "start_time": "2023-03-18T20:11:13.288468Z"
    }
   },
   "outputs": [],
   "source": [
    "# recency days  average\n",
    "df_aux = df2[['customer_id','invoice_date']].drop_duplicates().sort_values(\n",
    "            by=['customer_id','invoice_date'],ascending = [False, False])\n",
    "df_aux['next_customer_id'] = df_aux['customer_id'].shift()\n",
    "df_aux['previous_date'] = df_aux['invoice_date'].shift()\n",
    "\n",
    "df_aux['avg_recency_days'] = df_aux.apply( lambda x: (x['previous_date'] - x['invoice_date']).days \n",
    "                                          if x['customer_id'] == x['next_customer_id']\n",
    "                                         else np.nan, axis = 1)\n",
    "\n",
    "df_aux = df_aux.drop( ['invoice_date','next_customer_id','previous_date'], axis = 1).dropna()\n",
    "\n",
    "# average\n",
    "df_avg_recency_days = df_aux.groupby('customer_id').mean().reset_index()\n",
    "\n",
    "# merge\n",
    "df_ref = pd.merge(df_ref, df_avg_recency_days, on = 'customer_id', how = 'left')\n",
    "\n",
    "# df_ref.isna().sum()"
   ]
  },
  {
   "cell_type": "markdown",
   "id": "eb14d048",
   "metadata": {},
   "source": [
    "### 3.1.7 Frequency purchase"
   ]
  },
  {
   "cell_type": "code",
   "execution_count": 165,
   "id": "e7aabfc5",
   "metadata": {
    "ExecuteTime": {
     "end_time": "2023-03-18T20:11:13.697922Z",
     "start_time": "2023-03-18T20:11:13.684389Z"
    }
   },
   "outputs": [],
   "source": [
    "# df2[['invoice_no','customer_id','invoice_date']].drop_duplicates().head()"
   ]
  },
  {
   "cell_type": "code",
   "execution_count": 166,
   "id": "eacec176",
   "metadata": {
    "ExecuteTime": {
     "end_time": "2023-03-18T20:11:14.838275Z",
     "start_time": "2023-03-18T20:11:13.699945Z"
    }
   },
   "outputs": [],
   "source": [
    "df_aux = df2_purchases[['invoice_no','customer_id','invoice_date']].drop_duplicates().groupby('customer_id').agg(\n",
    "                    max_ = ('invoice_date','max'),\n",
    "                    min_ = ('invoice_date','min'),\n",
    "                    days_ = ('invoice_date',lambda x: (x.max() - x.min()).days + 1),\n",
    "                    buy_ = ('invoice_date','count')).reset_index()\n",
    "\n",
    "# frequency\n",
    "df_aux['frequency'] = df_aux[['days_','buy_']].apply(lambda x: x['buy_'] / x['days_'] if x['days_'] != 0\n",
    "                                                else 0, axis = 1)\n",
    "# merge\n",
    "df_ref = pd.merge(df_ref, df_aux[['customer_id','frequency']], on = 'customer_id', how = 'left')\n",
    "# df_ref"
   ]
  },
  {
   "cell_type": "code",
   "execution_count": 167,
   "id": "ae6107a5",
   "metadata": {
    "ExecuteTime": {
     "end_time": "2023-03-18T20:11:14.853897Z",
     "start_time": "2023-03-18T20:11:14.840275Z"
    }
   },
   "outputs": [],
   "source": [
    "# df_ref.isna().sum()"
   ]
  },
  {
   "cell_type": "code",
   "execution_count": null,
   "id": "2598c599",
   "metadata": {},
   "outputs": [],
   "source": []
  },
  {
   "cell_type": "markdown",
   "id": "83c4b982",
   "metadata": {},
   "source": [
    "### 3.1.8 Number of returns"
   ]
  },
  {
   "cell_type": "code",
   "execution_count": 168,
   "id": "0bdb879c",
   "metadata": {
    "ExecuteTime": {
     "end_time": "2023-03-18T20:11:14.869949Z",
     "start_time": "2023-03-18T20:11:14.856614Z"
    }
   },
   "outputs": [],
   "source": [
    "df_returns = df2_returns[['customer_id','quantity']].groupby('customer_id').sum().reset_index()\n",
    "df_returns.rename(columns = {'quantity':'qtde_returns'}, inplace = True)\n",
    "\n",
    "df_returns['qtde_returns'] = df_returns['qtde_returns'] * ( -1 )\n",
    "\n",
    "df_ref = pd.merge(df_ref, df_returns, on = 'customer_id', how = 'left')\n",
    "\n",
    "df_ref.loc[df_ref['qtde_returns'].isna(), 'qtde_returns'] = 0\n",
    "\n",
    "# df_ref.isna().sum()"
   ]
  },
  {
   "cell_type": "code",
   "execution_count": null,
   "id": "938a05ec",
   "metadata": {},
   "outputs": [],
   "source": []
  },
  {
   "cell_type": "markdown",
   "id": "d68bf649",
   "metadata": {
    "ExecuteTime": {
     "end_time": "2023-01-28T15:13:25.963360Z",
     "start_time": "2023-01-28T15:13:25.955379Z"
    }
   },
   "source": [
    "# 4.0 EDA (exploratory data analysis)"
   ]
  },
  {
   "cell_type": "code",
   "execution_count": 169,
   "id": "a6d92bd3",
   "metadata": {
    "ExecuteTime": {
     "end_time": "2023-03-18T20:11:14.886365Z",
     "start_time": "2023-03-18T20:11:14.872958Z"
    }
   },
   "outputs": [
    {
     "name": "stdout",
     "output_type": "stream",
     "text": [
      "(2968, 10)\n"
     ]
    }
   ],
   "source": [
    "df4 = df_ref.dropna().copy()\n",
    "print(df4.shape)\n",
    "# df4.isna().sum()"
   ]
  },
  {
   "cell_type": "markdown",
   "id": "488f316b",
   "metadata": {},
   "source": [
    "### basket size"
   ]
  },
  {
   "cell_type": "code",
   "execution_count": 170,
   "id": "001e41cb",
   "metadata": {
    "ExecuteTime": {
     "end_time": "2023-03-18T20:11:15.013932Z",
     "start_time": "2023-03-18T20:11:14.888362Z"
    }
   },
   "outputs": [],
   "source": [
    "df_aux = df2_purchases[['customer_id','invoice_no','quantity']].groupby('customer_id').agg(\n",
    "                                                    n_purchase = ('invoice_no','nunique'),\n",
    "                                                    n_products = ('quantity','sum')).reset_index()\n",
    "\n",
    "# calculation\n",
    "df_aux['avg_basket_size'] = df_aux['n_products'] / df_aux['n_purchase']\n",
    "\n",
    "# merge\n",
    "df_ref = pd.merge( df_ref, df_aux[['customer_id','avg_basket_size']], how = 'left', on = 'customer_id')\n",
    "\n",
    "# df_ref.isna().sum()"
   ]
  },
  {
   "cell_type": "markdown",
   "id": "e4eb1a6f",
   "metadata": {},
   "source": [
    "### unique basket size"
   ]
  },
  {
   "cell_type": "code",
   "execution_count": 171,
   "id": "f4d12660",
   "metadata": {
    "ExecuteTime": {
     "end_time": "2023-03-18T20:11:15.329033Z",
     "start_time": "2023-03-18T20:11:15.016035Z"
    }
   },
   "outputs": [],
   "source": [
    "df_aux = df2_purchases[['customer_id','invoice_no','stock_code']].groupby('customer_id').agg(\n",
    "                                                    n_purchase = ('invoice_no','nunique'),\n",
    "                                                    n_products = ('stock_code','nunique')).reset_index()\n",
    "\n",
    "# calculation\n",
    "df_aux['avg_unique_basket_size'] = df_aux['n_products'] / df_aux['n_purchase']\n",
    "\n",
    "# merge\n",
    "df_ref = pd.merge( df_ref, df_aux[['customer_id','avg_unique_basket_size']], how = 'left', on = 'customer_id')\n",
    "\n",
    "# df_ref.isna().sum()"
   ]
  },
  {
   "cell_type": "markdown",
   "id": "2aa8e919",
   "metadata": {},
   "source": [
    "## 4.3 Space Study"
   ]
  },
  {
   "cell_type": "code",
   "execution_count": 172,
   "id": "faa05e03",
   "metadata": {
    "ExecuteTime": {
     "end_time": "2023-03-18T20:11:15.345060Z",
     "start_time": "2023-03-18T20:11:15.330862Z"
    }
   },
   "outputs": [],
   "source": [
    "# original dataset\n",
    "# df43 = df4.drop(['customer_id'], axis = 1).copy()\n",
    "\n",
    "# selected dataset\n",
    "cols_selected = ['customer_id','gross_revenue','recency_days','qtde_products','frequency','qtde_returns']\n",
    "df43 = df4[cols_selected].copy()\n",
    "# df43.head()"
   ]
  },
  {
   "cell_type": "code",
   "execution_count": 173,
   "id": "d7c60371",
   "metadata": {
    "ExecuteTime": {
     "end_time": "2023-03-18T20:11:15.376304Z",
     "start_time": "2023-03-18T20:11:15.347083Z"
    }
   },
   "outputs": [],
   "source": [
    "# rescaling/standartization\n",
    "mm = MinMaxScaler()\n",
    "# ss = StandardScaler()\n",
    "# rs = RobustScaler()\n",
    "\n",
    "df43['gross_revenue'] = mm.fit_transform( df43[['gross_revenue']] )\n",
    "df43['recency_days'] = mm.fit_transform( df43[['recency_days']] )\n",
    "\n",
    "df43['qtde_products'] = mm.fit_transform( df43[['qtde_products']] )\n",
    "\n",
    "df43['frequency'] = mm.fit_transform( df43[['frequency']] )\n",
    "\n",
    "df43['qtde_returns'] = mm.fit_transform( df43[['qtde_returns']] )\n"
   ]
  },
  {
   "cell_type": "markdown",
   "id": "bbbbbfd8",
   "metadata": {},
   "source": [
    "### 4.3.4 Tree-Based Embedding"
   ]
  },
  {
   "cell_type": "code",
   "execution_count": 174,
   "id": "e493d6a5",
   "metadata": {
    "ExecuteTime": {
     "end_time": "2023-03-18T20:11:16.738695Z",
     "start_time": "2023-03-18T20:11:15.378366Z"
    }
   },
   "outputs": [
    {
     "data": {
      "text/plain": [
       "(2968, 100)"
      ]
     },
     "execution_count": 174,
     "metadata": {},
     "output_type": "execute_result"
    }
   ],
   "source": [
    "# training dataset\n",
    "X = df43.drop(['customer_id','gross_revenue'], axis = 1)\n",
    "Y = df43['gross_revenue']\n",
    "\n",
    "# model definition\n",
    "rf_model = RandomForestRegressor( n_estimators=100, random_state = 42)\n",
    "\n",
    "# model training\n",
    "rf_model.fit(X, Y)\n",
    "\n",
    "# leaf\n",
    "df_leaf = pd.DataFrame( rf_model.apply(X) )\n",
    "df_leaf.shape\n",
    "\n",
    "# dataframe leaf"
   ]
  },
  {
   "cell_type": "code",
   "execution_count": 175,
   "id": "a355146b",
   "metadata": {
    "ExecuteTime": {
     "end_time": "2023-03-18T20:11:26.714594Z",
     "start_time": "2023-03-18T20:11:16.740689Z"
    }
   },
   "outputs": [],
   "source": [
    "reducer = UMAP( random_state = 42 )\n",
    "embedding = reducer.fit_transform( df_leaf )\n",
    "\n",
    "# embedding\n",
    "df_tree = pd.DataFrame()\n",
    "df_tree['embedding_x'] = embedding[:,0]\n",
    "df_tree['embedding_y'] = embedding[:,1]\n",
    "\n",
    "# plot UMAP\n",
    "# sns.scatterplot( x = 'embedding_x', y = 'embedding_y',data = df_tree)"
   ]
  },
  {
   "cell_type": "code",
   "execution_count": null,
   "id": "787dd7e7",
   "metadata": {},
   "outputs": [],
   "source": []
  },
  {
   "cell_type": "markdown",
   "id": "3b289db5",
   "metadata": {},
   "source": [
    "# 7.0 Hyperparameter Fine Tunning"
   ]
  },
  {
   "cell_type": "code",
   "execution_count": 176,
   "id": "3265039b",
   "metadata": {
    "ExecuteTime": {
     "end_time": "2023-03-18T20:11:26.730224Z",
     "start_time": "2023-03-18T20:11:26.716620Z"
    }
   },
   "outputs": [],
   "source": [
    "# X = df6.drop(['customer_id'], axis = 1)\n",
    "X = df_tree.copy()\n",
    "# X.head()"
   ]
  },
  {
   "cell_type": "code",
   "execution_count": 177,
   "id": "dffc224a",
   "metadata": {
    "ExecuteTime": {
     "end_time": "2023-03-18T20:11:26.746079Z",
     "start_time": "2023-03-18T20:11:26.732208Z"
    }
   },
   "outputs": [],
   "source": [
    "# clusters = [2,3,4,5,6,7]\n",
    "# clusters = np.arange(2, 26, 1)"
   ]
  },
  {
   "cell_type": "markdown",
   "id": "b8d572f1",
   "metadata": {},
   "source": [
    "# 8.0 Model Training"
   ]
  },
  {
   "cell_type": "markdown",
   "id": "b336dde8",
   "metadata": {},
   "source": [
    "## 8.2 Final model"
   ]
  },
  {
   "cell_type": "code",
   "execution_count": 178,
   "id": "c350ba81",
   "metadata": {
    "ExecuteTime": {
     "end_time": "2023-03-18T20:12:08.653590Z",
     "start_time": "2023-03-18T20:11:26.748099Z"
    }
   },
   "outputs": [],
   "source": [
    "k = 8\n",
    "\n",
    "gmm_model = GaussianMixture(n_components = k, n_init = 300, random_state = 32)\n",
    "\n",
    "# model training\n",
    "gmm_model.fit( X )\n",
    "\n",
    "\n",
    "# model prediction\n",
    "labels = gmm_model.predict( X )\n",
    "\n",
    "# model evaluation\n",
    "sil = silhouette_score( X, labels, metric = 'euclidean')\n",
    "#     print(sil)"
   ]
  },
  {
   "cell_type": "markdown",
   "id": "d3164557",
   "metadata": {},
   "source": [
    "### 8.2.2 Cluster Organization (avoid change numbers)"
   ]
  },
  {
   "cell_type": "code",
   "execution_count": 179,
   "id": "f3fd30a5",
   "metadata": {
    "ExecuteTime": {
     "end_time": "2023-03-18T20:12:08.669546Z",
     "start_time": "2023-03-18T20:12:08.655584Z"
    }
   },
   "outputs": [],
   "source": [
    "# gmm_model.means_\n",
    "\n",
    "# gmm_model.means_.sum( axis = 1)\n",
    "\n",
    "# # index of new cluster name\n",
    "# idx = np.argsort(gmm_model.means_.sum( axis = 1 ) )\n",
    "\n",
    "# # new cluster label\n",
    "# new_cluster_label = np.zeros_like( idx )\n",
    "\n",
    "# # cluster name\n",
    "# cluster_name = [10,11,12,13,14,15,16,17]\n",
    "\n",
    "# # assign new cluster names\n",
    "# new_cluster_label[idx] = cluster_name\n",
    "\n",
    "\n",
    "# # labels_gmm = new_cluster_label[ labels_gmm ]"
   ]
  },
  {
   "cell_type": "code",
   "execution_count": null,
   "id": "e25c526b",
   "metadata": {},
   "outputs": [],
   "source": []
  },
  {
   "cell_type": "markdown",
   "id": "f8a8fe73",
   "metadata": {},
   "source": [
    "## 9.2 Cluster Profile"
   ]
  },
  {
   "cell_type": "code",
   "execution_count": 180,
   "id": "6eb9cca7",
   "metadata": {
    "ExecuteTime": {
     "end_time": "2023-03-18T20:12:08.700464Z",
     "start_time": "2023-03-18T20:12:08.672538Z"
    }
   },
   "outputs": [
    {
     "data": {
      "text/html": [
       "<div>\n",
       "<style scoped>\n",
       "    .dataframe tbody tr th:only-of-type {\n",
       "        vertical-align: middle;\n",
       "    }\n",
       "\n",
       "    .dataframe tbody tr th {\n",
       "        vertical-align: top;\n",
       "    }\n",
       "\n",
       "    .dataframe thead th {\n",
       "        text-align: right;\n",
       "    }\n",
       "</style>\n",
       "<table border=\"1\" class=\"dataframe\">\n",
       "  <thead>\n",
       "    <tr style=\"text-align: right;\">\n",
       "      <th></th>\n",
       "      <th>customer_id</th>\n",
       "      <th>gross_revenue</th>\n",
       "      <th>recency_days</th>\n",
       "      <th>qtde_products</th>\n",
       "      <th>frequency</th>\n",
       "      <th>qtde_returns</th>\n",
       "      <th>cluster</th>\n",
       "    </tr>\n",
       "  </thead>\n",
       "  <tbody>\n",
       "    <tr>\n",
       "      <th>0</th>\n",
       "      <td>17850</td>\n",
       "      <td>5391.2100</td>\n",
       "      <td>372.0000</td>\n",
       "      <td>297.0000</td>\n",
       "      <td>17.0000</td>\n",
       "      <td>40.0000</td>\n",
       "      <td>2</td>\n",
       "    </tr>\n",
       "    <tr>\n",
       "      <th>1</th>\n",
       "      <td>13047</td>\n",
       "      <td>3232.5900</td>\n",
       "      <td>56.0000</td>\n",
       "      <td>171.0000</td>\n",
       "      <td>0.0283</td>\n",
       "      <td>35.0000</td>\n",
       "      <td>2</td>\n",
       "    </tr>\n",
       "    <tr>\n",
       "      <th>2</th>\n",
       "      <td>12583</td>\n",
       "      <td>6705.3800</td>\n",
       "      <td>2.0000</td>\n",
       "      <td>232.0000</td>\n",
       "      <td>0.0403</td>\n",
       "      <td>50.0000</td>\n",
       "      <td>2</td>\n",
       "    </tr>\n",
       "    <tr>\n",
       "      <th>3</th>\n",
       "      <td>13748</td>\n",
       "      <td>948.2500</td>\n",
       "      <td>95.0000</td>\n",
       "      <td>28.0000</td>\n",
       "      <td>0.0179</td>\n",
       "      <td>0.0000</td>\n",
       "      <td>0</td>\n",
       "    </tr>\n",
       "    <tr>\n",
       "      <th>4</th>\n",
       "      <td>15100</td>\n",
       "      <td>876.0000</td>\n",
       "      <td>333.0000</td>\n",
       "      <td>3.0000</td>\n",
       "      <td>0.0732</td>\n",
       "      <td>22.0000</td>\n",
       "      <td>3</td>\n",
       "    </tr>\n",
       "  </tbody>\n",
       "</table>\n",
       "</div>"
      ],
      "text/plain": [
       "   customer_id  gross_revenue  recency_days  qtde_products  frequency  \\\n",
       "0        17850      5391.2100      372.0000       297.0000    17.0000   \n",
       "1        13047      3232.5900       56.0000       171.0000     0.0283   \n",
       "2        12583      6705.3800        2.0000       232.0000     0.0403   \n",
       "3        13748       948.2500       95.0000        28.0000     0.0179   \n",
       "4        15100       876.0000      333.0000         3.0000     0.0732   \n",
       "\n",
       "   qtde_returns  cluster  \n",
       "0       40.0000        2  \n",
       "1       35.0000        2  \n",
       "2       50.0000        2  \n",
       "3        0.0000        0  \n",
       "4       22.0000        3  "
      ]
     },
     "execution_count": 180,
     "metadata": {},
     "output_type": "execute_result"
    }
   ],
   "source": [
    "df92 = df4[cols_selected].copy()\n",
    "# df92['cluster'] = labels_kmeans\n",
    "df92['cluster'] = labels\n",
    "df92.head()"
   ]
  },
  {
   "cell_type": "code",
   "execution_count": 181,
   "id": "6b0bec02",
   "metadata": {
    "ExecuteTime": {
     "end_time": "2023-03-18T20:12:08.779964Z",
     "start_time": "2023-03-18T20:12:08.703456Z"
    }
   },
   "outputs": [
    {
     "data": {
      "text/html": [
       "<div>\n",
       "<style scoped>\n",
       "    .dataframe tbody tr th:only-of-type {\n",
       "        vertical-align: middle;\n",
       "    }\n",
       "\n",
       "    .dataframe tbody tr th {\n",
       "        vertical-align: top;\n",
       "    }\n",
       "\n",
       "    .dataframe thead th {\n",
       "        text-align: right;\n",
       "    }\n",
       "</style>\n",
       "<table border=\"1\" class=\"dataframe\">\n",
       "  <thead>\n",
       "    <tr style=\"text-align: right;\">\n",
       "      <th></th>\n",
       "      <th>cluster</th>\n",
       "      <th>customer_id</th>\n",
       "      <th>perc_cluster</th>\n",
       "      <th>gross_revenue</th>\n",
       "      <th>recency_days</th>\n",
       "      <th>qtde_products</th>\n",
       "      <th>frequency</th>\n",
       "      <th>qtde_returns</th>\n",
       "    </tr>\n",
       "  </thead>\n",
       "  <tbody>\n",
       "    <tr>\n",
       "      <th>2</th>\n",
       "      <td>2</td>\n",
       "      <td>613</td>\n",
       "      <td>20.6536</td>\n",
       "      <td>7494.2848</td>\n",
       "      <td>24.5106</td>\n",
       "      <td>364.8940</td>\n",
       "      <td>0.0865</td>\n",
       "      <td>119.5171</td>\n",
       "    </tr>\n",
       "    <tr>\n",
       "      <th>7</th>\n",
       "      <td>7</td>\n",
       "      <td>130</td>\n",
       "      <td>4.3801</td>\n",
       "      <td>4689.8686</td>\n",
       "      <td>47.4077</td>\n",
       "      <td>103.8846</td>\n",
       "      <td>0.0573</td>\n",
       "      <td>20.7538</td>\n",
       "    </tr>\n",
       "    <tr>\n",
       "      <th>6</th>\n",
       "      <td>6</td>\n",
       "      <td>360</td>\n",
       "      <td>12.1294</td>\n",
       "      <td>2395.1195</td>\n",
       "      <td>45.4278</td>\n",
       "      <td>127.0667</td>\n",
       "      <td>0.0448</td>\n",
       "      <td>26.8667</td>\n",
       "    </tr>\n",
       "    <tr>\n",
       "      <th>1</th>\n",
       "      <td>1</td>\n",
       "      <td>404</td>\n",
       "      <td>13.6119</td>\n",
       "      <td>1689.0735</td>\n",
       "      <td>54.8094</td>\n",
       "      <td>89.1757</td>\n",
       "      <td>0.0500</td>\n",
       "      <td>11.5421</td>\n",
       "    </tr>\n",
       "    <tr>\n",
       "      <th>5</th>\n",
       "      <td>5</td>\n",
       "      <td>415</td>\n",
       "      <td>13.9825</td>\n",
       "      <td>1221.4729</td>\n",
       "      <td>61.3711</td>\n",
       "      <td>53.2193</td>\n",
       "      <td>0.0420</td>\n",
       "      <td>9.1229</td>\n",
       "    </tr>\n",
       "    <tr>\n",
       "      <th>4</th>\n",
       "      <td>4</td>\n",
       "      <td>279</td>\n",
       "      <td>9.4003</td>\n",
       "      <td>954.0470</td>\n",
       "      <td>77.3620</td>\n",
       "      <td>36.5305</td>\n",
       "      <td>0.0818</td>\n",
       "      <td>5.7097</td>\n",
       "    </tr>\n",
       "    <tr>\n",
       "      <th>0</th>\n",
       "      <td>0</td>\n",
       "      <td>401</td>\n",
       "      <td>13.5108</td>\n",
       "      <td>679.6177</td>\n",
       "      <td>119.0574</td>\n",
       "      <td>22.2294</td>\n",
       "      <td>0.1799</td>\n",
       "      <td>11.6110</td>\n",
       "    </tr>\n",
       "    <tr>\n",
       "      <th>3</th>\n",
       "      <td>3</td>\n",
       "      <td>366</td>\n",
       "      <td>12.3315</td>\n",
       "      <td>546.5967</td>\n",
       "      <td>99.4344</td>\n",
       "      <td>11.3689</td>\n",
       "      <td>0.3514</td>\n",
       "      <td>8.7896</td>\n",
       "    </tr>\n",
       "  </tbody>\n",
       "</table>\n",
       "</div>"
      ],
      "text/plain": [
       "   cluster  customer_id  perc_cluster  gross_revenue  recency_days  \\\n",
       "2        2          613       20.6536      7494.2848       24.5106   \n",
       "7        7          130        4.3801      4689.8686       47.4077   \n",
       "6        6          360       12.1294      2395.1195       45.4278   \n",
       "1        1          404       13.6119      1689.0735       54.8094   \n",
       "5        5          415       13.9825      1221.4729       61.3711   \n",
       "4        4          279        9.4003       954.0470       77.3620   \n",
       "0        0          401       13.5108       679.6177      119.0574   \n",
       "3        3          366       12.3315       546.5967       99.4344   \n",
       "\n",
       "   qtde_products  frequency  qtde_returns  \n",
       "2       364.8940     0.0865      119.5171  \n",
       "7       103.8846     0.0573       20.7538  \n",
       "6       127.0667     0.0448       26.8667  \n",
       "1        89.1757     0.0500       11.5421  \n",
       "5        53.2193     0.0420        9.1229  \n",
       "4        36.5305     0.0818        5.7097  \n",
       "0        22.2294     0.1799       11.6110  \n",
       "3        11.3689     0.3514        8.7896  "
      ]
     },
     "execution_count": 181,
     "metadata": {},
     "output_type": "execute_result"
    }
   ],
   "source": [
    "# number of customer\n",
    "df_cluster = df92[['customer_id','cluster']].groupby('cluster').count().reset_index()\n",
    "df_cluster['perc_cluster'] = 100 * df_cluster['customer_id'] / df_cluster['customer_id'].sum()\n",
    "\n",
    "# average gross revenue\n",
    "df_cluster_gross_revenue = df92[['gross_revenue','cluster']].groupby('cluster').mean().reset_index()\n",
    "df_cluster = df_cluster.merge(df_cluster_gross_revenue, on = 'cluster', how = 'inner')\n",
    "\n",
    "# average recency days\n",
    "df_cluster_recency_days = df92[['recency_days','cluster']].groupby('cluster').mean().reset_index()\n",
    "df_cluster = df_cluster.merge(df_cluster_recency_days, on = 'cluster', how = 'inner')\n",
    "\n",
    "# average qtd products\n",
    "df_cluster_invoice_no = df92[['qtde_products','cluster']].groupby('cluster').mean().reset_index()\n",
    "df_cluster = df_cluster.merge(df_cluster_invoice_no, on = 'cluster', how = 'inner')\n",
    "\n",
    "# average frequency\n",
    "df_cluster_invoice_no = df92[['frequency','cluster']].groupby('cluster').mean().reset_index()\n",
    "df_cluster = df_cluster.merge(df_cluster_invoice_no, on = 'cluster', how = 'inner')\n",
    "\n",
    "# average returns\n",
    "df_cluster_invoice_no = df92[['qtde_returns','cluster']].groupby('cluster').mean().reset_index()\n",
    "df_cluster = df_cluster.merge(df_cluster_invoice_no, on = 'cluster', how = 'inner')\n",
    "\n",
    "\n",
    "df_cluster.sort_values(by=['gross_revenue'], ascending = False)"
   ]
  },
  {
   "cell_type": "code",
   "execution_count": 182,
   "id": "01b10c03",
   "metadata": {
    "ExecuteTime": {
     "end_time": "2023-03-18T20:12:08.811886Z",
     "start_time": "2023-03-18T20:12:08.790942Z"
    }
   },
   "outputs": [],
   "source": [
    "# 2 Cluster Insiders\n",
    "# 7 Cluster More Products\n",
    "# 6 Cluster Spend Money\n",
    "# 1 Cluster Even More Products\n",
    "# 5 Cluster Less Days\n",
    "# 4 Cluster Less 1k\n",
    "# 0 Cluster Stop Returners\n",
    "# 3 Cluster More Buy"
   ]
  },
  {
   "cell_type": "code",
   "execution_count": null,
   "id": "bacf89fa",
   "metadata": {},
   "outputs": [],
   "source": []
  },
  {
   "cell_type": "markdown",
   "id": "49cdb972",
   "metadata": {},
   "source": [
    "- Cluster 01 (Insiders):\n",
    "    - Número de clientes: 468 (15 % do total)\n",
    "    - Recência média de 21 dias\n",
    "    - Compras em média de 424 compras\n",
    "    - Receita média de $ 8835,90\n",
    "    \n",
    "\n",
    "- Cluster 02:\n",
    "    - Número de clientes: 31 (0,71 % do total)\n",
    "    - Recência média de 13 dias\n",
    "    - Compras em média de 53 compras\n",
    "    - Receita média de $ 40.543,52\n",
    "\n",
    "\n",
    "- Cluster 03:\n",
    "    - Número de clientes: 4335 (99,15 % do total)\n",
    "    - Recência média de 92 dias\n",
    "    - Compras em média de 4 compras\n",
    "    - Receita média de $ 1372,58"
   ]
  },
  {
   "cell_type": "markdown",
   "id": "054593a4",
   "metadata": {},
   "source": [
    "# 11.0 Deploy to Production"
   ]
  },
  {
   "cell_type": "code",
   "execution_count": 191,
   "id": "7e81a18c",
   "metadata": {
    "ExecuteTime": {
     "end_time": "2023-03-18T20:26:48.581573Z",
     "start_time": "2023-03-18T20:26:48.396807Z"
    }
   },
   "outputs": [],
   "source": [
    "import sqlite3\n",
    "from sqlalchemy import create_engine"
   ]
  },
  {
   "cell_type": "code",
   "execution_count": 192,
   "id": "c25cce33",
   "metadata": {
    "ExecuteTime": {
     "end_time": "2023-03-18T20:26:49.058916Z",
     "start_time": "2023-03-18T20:26:49.038460Z"
    }
   },
   "outputs": [],
   "source": [
    "for i in ['recency_days','qtde_returns','qtde_products']:\n",
    "    df92[i] = df92[i].astype('int64')"
   ]
  },
  {
   "cell_type": "code",
   "execution_count": 199,
   "id": "d3b6f5c8",
   "metadata": {
    "ExecuteTime": {
     "end_time": "2023-03-18T20:30:10.557046Z",
     "start_time": "2023-03-18T20:30:10.539897Z"
    }
   },
   "outputs": [
    {
     "name": "stdout",
     "output_type": "stream",
     "text": [
      "(2968, 7)\n"
     ]
    },
    {
     "data": {
      "text/plain": [
       "customer_id        int64\n",
       "gross_revenue    float64\n",
       "recency_days       int64\n",
       "qtde_products      int64\n",
       "frequency        float64\n",
       "qtde_returns       int64\n",
       "cluster            int64\n",
       "dtype: object"
      ]
     },
     "execution_count": 199,
     "metadata": {},
     "output_type": "execute_result"
    }
   ],
   "source": [
    "print(df92.shape)\n",
    "df92.dtypes"
   ]
  },
  {
   "cell_type": "code",
   "execution_count": 194,
   "id": "fcbdf3b4",
   "metadata": {
    "ExecuteTime": {
     "end_time": "2023-03-18T20:26:52.224468Z",
     "start_time": "2023-03-18T20:26:52.214492Z"
    }
   },
   "outputs": [],
   "source": [
    "## Insert into SQLite"
   ]
  },
  {
   "cell_type": "code",
   "execution_count": 203,
   "id": "b618d040",
   "metadata": {
    "ExecuteTime": {
     "end_time": "2023-03-18T20:35:23.502371Z",
     "start_time": "2023-03-18T20:35:23.428998Z"
    }
   },
   "outputs": [
    {
     "data": {
      "text/html": [
       "<div>\n",
       "<style scoped>\n",
       "    .dataframe tbody tr th:only-of-type {\n",
       "        vertical-align: middle;\n",
       "    }\n",
       "\n",
       "    .dataframe tbody tr th {\n",
       "        vertical-align: top;\n",
       "    }\n",
       "\n",
       "    .dataframe thead th {\n",
       "        text-align: right;\n",
       "    }\n",
       "</style>\n",
       "<table border=\"1\" class=\"dataframe\">\n",
       "  <thead>\n",
       "    <tr style=\"text-align: right;\">\n",
       "      <th></th>\n",
       "      <th>customer_id</th>\n",
       "      <th>gross_revenue</th>\n",
       "      <th>recency_days</th>\n",
       "      <th>qtde_products</th>\n",
       "      <th>frequency</th>\n",
       "      <th>qtde_returns</th>\n",
       "      <th>cluster</th>\n",
       "    </tr>\n",
       "  </thead>\n",
       "  <tbody>\n",
       "    <tr>\n",
       "      <th>0</th>\n",
       "      <td>17850</td>\n",
       "      <td>5391.2100</td>\n",
       "      <td>372</td>\n",
       "      <td>297</td>\n",
       "      <td>17.0000</td>\n",
       "      <td>40</td>\n",
       "      <td>2</td>\n",
       "    </tr>\n",
       "    <tr>\n",
       "      <th>1</th>\n",
       "      <td>13047</td>\n",
       "      <td>3232.5900</td>\n",
       "      <td>56</td>\n",
       "      <td>171</td>\n",
       "      <td>0.0283</td>\n",
       "      <td>35</td>\n",
       "      <td>2</td>\n",
       "    </tr>\n",
       "    <tr>\n",
       "      <th>2</th>\n",
       "      <td>12583</td>\n",
       "      <td>6705.3800</td>\n",
       "      <td>2</td>\n",
       "      <td>232</td>\n",
       "      <td>0.0403</td>\n",
       "      <td>50</td>\n",
       "      <td>2</td>\n",
       "    </tr>\n",
       "    <tr>\n",
       "      <th>3</th>\n",
       "      <td>13748</td>\n",
       "      <td>948.2500</td>\n",
       "      <td>95</td>\n",
       "      <td>28</td>\n",
       "      <td>0.0179</td>\n",
       "      <td>0</td>\n",
       "      <td>0</td>\n",
       "    </tr>\n",
       "    <tr>\n",
       "      <th>4</th>\n",
       "      <td>15100</td>\n",
       "      <td>876.0000</td>\n",
       "      <td>333</td>\n",
       "      <td>3</td>\n",
       "      <td>0.0732</td>\n",
       "      <td>22</td>\n",
       "      <td>3</td>\n",
       "    </tr>\n",
       "    <tr>\n",
       "      <th>...</th>\n",
       "      <td>...</td>\n",
       "      <td>...</td>\n",
       "      <td>...</td>\n",
       "      <td>...</td>\n",
       "      <td>...</td>\n",
       "      <td>...</td>\n",
       "      <td>...</td>\n",
       "    </tr>\n",
       "    <tr>\n",
       "      <th>2963</th>\n",
       "      <td>12479</td>\n",
       "      <td>473.2000</td>\n",
       "      <td>11</td>\n",
       "      <td>30</td>\n",
       "      <td>1.0000</td>\n",
       "      <td>34</td>\n",
       "      <td>0</td>\n",
       "    </tr>\n",
       "    <tr>\n",
       "      <th>2964</th>\n",
       "      <td>14126</td>\n",
       "      <td>706.1300</td>\n",
       "      <td>7</td>\n",
       "      <td>15</td>\n",
       "      <td>0.7500</td>\n",
       "      <td>50</td>\n",
       "      <td>3</td>\n",
       "    </tr>\n",
       "    <tr>\n",
       "      <th>2965</th>\n",
       "      <td>13521</td>\n",
       "      <td>1092.3900</td>\n",
       "      <td>1</td>\n",
       "      <td>435</td>\n",
       "      <td>0.3000</td>\n",
       "      <td>0</td>\n",
       "      <td>2</td>\n",
       "    </tr>\n",
       "    <tr>\n",
       "      <th>2966</th>\n",
       "      <td>15060</td>\n",
       "      <td>301.8400</td>\n",
       "      <td>8</td>\n",
       "      <td>120</td>\n",
       "      <td>2.0000</td>\n",
       "      <td>0</td>\n",
       "      <td>6</td>\n",
       "    </tr>\n",
       "    <tr>\n",
       "      <th>2967</th>\n",
       "      <td>12558</td>\n",
       "      <td>269.9600</td>\n",
       "      <td>7</td>\n",
       "      <td>11</td>\n",
       "      <td>1.0000</td>\n",
       "      <td>196</td>\n",
       "      <td>0</td>\n",
       "    </tr>\n",
       "  </tbody>\n",
       "</table>\n",
       "<p>2968 rows × 7 columns</p>\n",
       "</div>"
      ],
      "text/plain": [
       "      customer_id  gross_revenue  recency_days  qtde_products  frequency  \\\n",
       "0           17850      5391.2100           372            297    17.0000   \n",
       "1           13047      3232.5900            56            171     0.0283   \n",
       "2           12583      6705.3800             2            232     0.0403   \n",
       "3           13748       948.2500            95             28     0.0179   \n",
       "4           15100       876.0000           333              3     0.0732   \n",
       "...           ...            ...           ...            ...        ...   \n",
       "2963        12479       473.2000            11             30     1.0000   \n",
       "2964        14126       706.1300             7             15     0.7500   \n",
       "2965        13521      1092.3900             1            435     0.3000   \n",
       "2966        15060       301.8400             8            120     2.0000   \n",
       "2967        12558       269.9600             7             11     1.0000   \n",
       "\n",
       "      qtde_returns  cluster  \n",
       "0               40        2  \n",
       "1               35        2  \n",
       "2               50        2  \n",
       "3                0        0  \n",
       "4               22        3  \n",
       "...            ...      ...  \n",
       "2963            34        0  \n",
       "2964            50        3  \n",
       "2965             0        2  \n",
       "2966             0        6  \n",
       "2967           196        0  \n",
       "\n",
       "[2968 rows x 7 columns]"
      ]
     },
     "execution_count": 203,
     "metadata": {},
     "output_type": "execute_result"
    }
   ],
   "source": [
    "# # create table\n",
    "# query_create_insiders = \"\"\"\n",
    "#     CREATE TABLE insiders (\n",
    "#     customer_id      INTEGER,\n",
    "#     gross_revenue    REAL,\n",
    "#     recency_days     INTEGER,\n",
    "#     qtde_products    INTEGER,\n",
    "#     frequency        REAL,\n",
    "#     qtde_returns     INTEGER,\n",
    "#     cluster          INTEGER\n",
    "#     )\n",
    "#     \"\"\"\n",
    "\n",
    "# conn = sqlite3.connect('insiders_db.sqlite')\n",
    "# conn.execute( query_create_insiders )\n",
    "# conn.commit()\n",
    "# conn.close()\n",
    "\n",
    "# # insert data\n",
    "conn = create_engine( 'sqlite:///insiders_db.sqlite')\n",
    "df92.to_sql('insiders',con = conn, if_exists = 'append', index = False)\n",
    "\n",
    "\n",
    "# # select data\n",
    "query = \"\"\" SELECT * FROM insiders\"\"\"\n",
    "a = pd.read_sql( query, conn)\n",
    "a"
   ]
  },
  {
   "cell_type": "code",
   "execution_count": null,
   "id": "56d9bca4",
   "metadata": {
    "ExecuteTime": {
     "end_time": "2023-03-18T20:29:19.009417Z",
     "start_time": "2023-03-18T20:29:18.982114Z"
    }
   },
   "outputs": [],
   "source": []
  },
  {
   "cell_type": "code",
   "execution_count": null,
   "id": "2e219aad",
   "metadata": {},
   "outputs": [],
   "source": []
  },
  {
   "cell_type": "code",
   "execution_count": null,
   "id": "4588ee7e",
   "metadata": {},
   "outputs": [],
   "source": []
  },
  {
   "cell_type": "code",
   "execution_count": null,
   "id": "f97c9d6e",
   "metadata": {},
   "outputs": [],
   "source": []
  },
  {
   "cell_type": "code",
   "execution_count": null,
   "id": "a3a90bf1",
   "metadata": {},
   "outputs": [],
   "source": []
  }
 ],
 "metadata": {
  "hide_input": false,
  "kernelspec": {
   "display_name": "Python 3 (ipykernel)",
   "language": "python",
   "name": "python3"
  },
  "language_info": {
   "codemirror_mode": {
    "name": "ipython",
    "version": 3
   },
   "file_extension": ".py",
   "mimetype": "text/x-python",
   "name": "python",
   "nbconvert_exporter": "python",
   "pygments_lexer": "ipython3",
   "version": "3.8.0"
  },
  "toc": {
   "base_numbering": 1,
   "nav_menu": {},
   "number_sections": true,
   "sideBar": true,
   "skip_h1_title": false,
   "title_cell": "Table of Contents",
   "title_sidebar": "Contents",
   "toc_cell": false,
   "toc_position": {},
   "toc_section_display": true,
   "toc_window_display": true
  },
  "vscode": {
   "interpreter": {
    "hash": "cfd73117ffdae4ac378dd428f8f07c65dbc9654b8e02b04e135b20ed888f32b5"
   }
  }
 },
 "nbformat": 4,
 "nbformat_minor": 5
}
