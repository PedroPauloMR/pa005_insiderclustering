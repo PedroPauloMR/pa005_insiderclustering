{
 "cells": [
  {
   "cell_type": "markdown",
   "id": "fd800d5f",
   "metadata": {},
   "source": [
    "# PA005: High Value Customer Identification (Insiders)"
   ]
  },
  {
   "cell_type": "markdown",
   "id": "4310f32f",
   "metadata": {},
   "source": [
    "## 0.0 Planejamento da solução (IoT)"
   ]
  },
  {
   "cell_type": "markdown",
   "id": "428aea8f",
   "metadata": {},
   "source": [
    "### Entrada (input)"
   ]
  },
  {
   "cell_type": "markdown",
   "id": "93a4efaa",
   "metadata": {},
   "source": [
    "1. Problema de negócio:\n",
    "    - Selecionar os clientes mais valiosos para integrar um programa de fidelização\n",
    "    \n",
    "2. Conjunto de dados:\n",
    "    - Vendas de um e-commerce online, durante o período de 1 ano (11/2015 a 12/2017)\n",
    "    "
   ]
  },
  {
   "cell_type": "markdown",
   "id": "ca2bf21d",
   "metadata": {},
   "source": [
    "### Saída (output)"
   ]
  },
  {
   "cell_type": "markdown",
   "id": "c1250101",
   "metadata": {},
   "source": [
    "1. A indicação das pessoas que farão parte do programa de Insiders\n",
    "    - Lista: client_id | is_insider |\n",
    "           10323     | yes/1 \n",
    "           32413     | no/1\n",
    "             \n",
    "2. Relatório om as perguntas de negócio:\n",
    "    - Quem são as pessoas elegíveis para participar do programa de Insiders ?\n",
    "    - Quantos clientes farão parte do grupo ?\n",
    "    - Quais as principais características desses clientes ?\n",
    "    - Qual a porcentagem de contribuição do faturamento, vinda dos Insiders ?\n",
    "    - Qual a expectativa de faturamento desse grupo para os próximos meses ?\n",
    "    - Quais as condições para uma pessoa ser elegível ao Insiders ?\n",
    "    - Quais as condições para uma pessoa ser removida do Insiders ?\n",
    "    - Qual a garantia que o programa Insiders é melhor que o restante da base ?\n",
    "    - Quais ações o time de marketing pode realizar para aumentar o faturamento ?"
   ]
  },
  {
   "cell_type": "markdown",
   "id": "0ab54e8f",
   "metadata": {},
   "source": [
    "### Tarefas (tasks)"
   ]
  },
  {
   "cell_type": "markdown",
   "id": "02d93247",
   "metadata": {},
   "source": [
    "- Quem são as pessoas elegíveis para participar do programa de Insiders ?\n",
    "    - O que é ser elegível ? O que são clientes de maior \"valor\" ?\n",
    "    - Faturamento:\n",
    "        - Alto Ticket Médio\n",
    "        - Alto LTV\n",
    "        - Baixo recência\n",
    "        - Alto basket size\n",
    "        - Baixa probabilidade de churn\n",
    "        - Alta previsão LTV\n",
    "        - Alta propensão de compra\n",
    "        \n",
    "    - Custo:\n",
    "        - Baixa taxa de devolução\n",
    "        \n",
    "        \n",
    "    - Experiência de Compra:\n",
    "        - Média Alta de avaliações\n",
    "        \n",
    "        \n",
    "- Quantos clientes farão parte do grupo ?\n",
    "    - Número total de clientes\n",
    "    - % clientes Insiders\n",
    "    \n",
    "- Quais as principais características desses clientes ?\n",
    "    - Escrever características do cliente:\n",
    "        - Idade\n",
    "        - Localização\n",
    "        \n",
    "    - Escrever características de consumo:\n",
    "        - Atributos da clusterização\n",
    "        \n",
    "        \n",
    "- Qual a porcentagem de contribuição do faturamento, vinda dos Insiders ?\n",
    "    - Faturamento total do ano\n",
    "    - Faturamento do grupo Insiders\n",
    "    \n",
    "- Qual a expectativa de faturamento desse grupo para os próximos meses ?\n",
    "    - LTV do grupo Insiders\n",
    "    - Análise de Cohort\n",
    "    \n",
    "- Quais as condições para uma pessoa ser elegível ao Insiders ?\n",
    "    - Definir periodicidade (1 mês, 3 meses ...)\n",
    "    - A pessoa precisa ser similar ou parecida com outra pessoa do grupo\n",
    "    \n",
    "- Quais as condições para uma pessoa ser removida do Insiders ?\n",
    "    - Definir periodicidade (1 mês, 3 meses ...)\n",
    "    - A pessoa precisa ser dessimilar ou não parecida com outra pessoa do grupo\n",
    "    \n",
    "- Qual a garantia que o programa Insiders é melhor que o restante da base ?\n",
    "    - Teste A/B\n",
    "    - Teste de hipóteses\n",
    "    - Teste A/B Bayesiano\n",
    "\n",
    "- Quais ações o time de marketing pode realizar para aumentar o faturamento ?\n",
    "     - Desconto\n",
    "     - Preferencia de compra\n",
    "     - Frete\n",
    "     - Visita a empresa"
   ]
  },
  {
   "cell_type": "markdown",
   "id": "5f7cda0a",
   "metadata": {},
   "source": [
    "# Benchmark"
   ]
  },
  {
   "cell_type": "markdown",
   "id": "b9b27888",
   "metadata": {},
   "source": [
    "RFM Segmentation"
   ]
  },
  {
   "cell_type": "code",
   "execution_count": null,
   "id": "0298f794",
   "metadata": {},
   "outputs": [],
   "source": []
  },
  {
   "cell_type": "code",
   "execution_count": null,
   "id": "a2eea06d",
   "metadata": {},
   "outputs": [],
   "source": []
  },
  {
   "cell_type": "code",
   "execution_count": null,
   "id": "f6eb123e",
   "metadata": {},
   "outputs": [],
   "source": []
  },
  {
   "cell_type": "code",
   "execution_count": null,
   "id": "acd9da4f",
   "metadata": {},
   "outputs": [],
   "source": []
  },
  {
   "cell_type": "code",
   "execution_count": null,
   "id": "d4cb506e",
   "metadata": {},
   "outputs": [],
   "source": []
  },
  {
   "cell_type": "code",
   "execution_count": null,
   "id": "103459c0",
   "metadata": {},
   "outputs": [],
   "source": []
  }
 ],
 "metadata": {
  "kernelspec": {
   "display_name": "Python 3 (ipykernel)",
   "language": "python",
   "name": "python3"
  },
  "language_info": {
   "codemirror_mode": {
    "name": "ipython",
    "version": 3
   },
   "file_extension": ".py",
   "mimetype": "text/x-python",
   "name": "python",
   "nbconvert_exporter": "python",
   "pygments_lexer": "ipython3",
   "version": "3.8.0"
  },
  "toc": {
   "base_numbering": 1,
   "nav_menu": {},
   "number_sections": true,
   "sideBar": true,
   "skip_h1_title": false,
   "title_cell": "Table of Contents",
   "title_sidebar": "Contents",
   "toc_cell": false,
   "toc_position": {},
   "toc_section_display": true,
   "toc_window_display": true
  }
 },
 "nbformat": 4,
 "nbformat_minor": 5
}
