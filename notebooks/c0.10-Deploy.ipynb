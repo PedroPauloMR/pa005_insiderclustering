{
 "cells": [
  {
   "cell_type": "markdown",
   "id": "fd800d5f",
   "metadata": {
    "hide_input": false
   },
   "source": [
    "# PA005: High Value Customer Identification (Insiders)"
   ]
  },
  {
   "cell_type": "markdown",
   "id": "bec5327c",
   "metadata": {},
   "source": [
    "# 0.0 Imports"
   ]
  },
  {
   "cell_type": "code",
   "execution_count": 2,
   "id": "1fe5b02b",
   "metadata": {
    "ExecuteTime": {
     "end_time": "2023-03-19T20:20:29.047594Z",
     "start_time": "2023-03-19T20:20:20.286276Z"
    }
   },
   "outputs": [],
   "source": [
    "import pandas as pd\n",
    "import re\n",
    "import numpy as np\n",
    "import matplotlib.pyplot as plt\n",
    "import seaborn as sns\n",
    "\n",
    "import sqlite3\n",
    "from sqlalchemy import create_engine\n",
    "import scipy.stats as st\n",
    "from umap.umap_ import UMAP\n",
    "\n",
    "from plotly import express as px\n",
    "\n",
    "\n",
    "from sklearn.cluster import KMeans, DBSCAN\n",
    "\n",
    "from sklearn.preprocessing import StandardScaler,MinMaxScaler,RobustScaler\n",
    "\n",
    "from sklearn.decomposition import PCA\n",
    "\n",
    "from sklearn.manifold import TSNE\n",
    "\n",
    "from sklearn.ensemble import RandomForestRegressor\n",
    "\n",
    "from sklearn.mixture import GaussianMixture\n",
    "\n",
    "from sklearn.metrics import silhouette_score, silhouette_samples\n",
    "\n",
    "from scipy.cluster.hierarchy import  linkage,dendrogram, fcluster\n",
    "\n",
    "from sklearn.neighbors import NearestNeighbors\n",
    "\n",
    "\n",
    "pd.set_option('display.float_format', lambda x: '%.4f' % x)\n",
    "import warnings\n",
    "warnings.filterwarnings(\"ignore\")"
   ]
  },
  {
   "cell_type": "markdown",
   "id": "cba79f5a",
   "metadata": {},
   "source": [
    "# 0.2 Load Data"
   ]
  },
  {
   "cell_type": "code",
   "execution_count": 3,
   "id": "ea5f2b5e",
   "metadata": {
    "ExecuteTime": {
     "end_time": "2023-03-19T20:20:29.651691Z",
     "start_time": "2023-03-19T20:20:29.049592Z"
    }
   },
   "outputs": [
    {
     "data": {
      "text/html": [
       "<div>\n",
       "<style scoped>\n",
       "    .dataframe tbody tr th:only-of-type {\n",
       "        vertical-align: middle;\n",
       "    }\n",
       "\n",
       "    .dataframe tbody tr th {\n",
       "        vertical-align: top;\n",
       "    }\n",
       "\n",
       "    .dataframe thead th {\n",
       "        text-align: right;\n",
       "    }\n",
       "</style>\n",
       "<table border=\"1\" class=\"dataframe\">\n",
       "  <thead>\n",
       "    <tr style=\"text-align: right;\">\n",
       "      <th></th>\n",
       "      <th>InvoiceNo</th>\n",
       "      <th>StockCode</th>\n",
       "      <th>Description</th>\n",
       "      <th>Quantity</th>\n",
       "      <th>InvoiceDate</th>\n",
       "      <th>UnitPrice</th>\n",
       "      <th>CustomerID</th>\n",
       "      <th>Country</th>\n",
       "    </tr>\n",
       "  </thead>\n",
       "  <tbody>\n",
       "    <tr>\n",
       "      <th>0</th>\n",
       "      <td>536365</td>\n",
       "      <td>85123A</td>\n",
       "      <td>WHITE HANGING HEART T-LIGHT HOLDER</td>\n",
       "      <td>6</td>\n",
       "      <td>29-Nov-16</td>\n",
       "      <td>2.5500</td>\n",
       "      <td>17850.0000</td>\n",
       "      <td>United Kingdom</td>\n",
       "    </tr>\n",
       "    <tr>\n",
       "      <th>1</th>\n",
       "      <td>536365</td>\n",
       "      <td>71053</td>\n",
       "      <td>WHITE METAL LANTERN</td>\n",
       "      <td>6</td>\n",
       "      <td>29-Nov-16</td>\n",
       "      <td>3.3900</td>\n",
       "      <td>17850.0000</td>\n",
       "      <td>United Kingdom</td>\n",
       "    </tr>\n",
       "    <tr>\n",
       "      <th>2</th>\n",
       "      <td>536365</td>\n",
       "      <td>84406B</td>\n",
       "      <td>CREAM CUPID HEARTS COAT HANGER</td>\n",
       "      <td>8</td>\n",
       "      <td>29-Nov-16</td>\n",
       "      <td>2.7500</td>\n",
       "      <td>17850.0000</td>\n",
       "      <td>United Kingdom</td>\n",
       "    </tr>\n",
       "    <tr>\n",
       "      <th>3</th>\n",
       "      <td>536365</td>\n",
       "      <td>84029G</td>\n",
       "      <td>KNITTED UNION FLAG HOT WATER BOTTLE</td>\n",
       "      <td>6</td>\n",
       "      <td>29-Nov-16</td>\n",
       "      <td>3.3900</td>\n",
       "      <td>17850.0000</td>\n",
       "      <td>United Kingdom</td>\n",
       "    </tr>\n",
       "    <tr>\n",
       "      <th>4</th>\n",
       "      <td>536365</td>\n",
       "      <td>84029E</td>\n",
       "      <td>RED WOOLLY HOTTIE WHITE HEART.</td>\n",
       "      <td>6</td>\n",
       "      <td>29-Nov-16</td>\n",
       "      <td>3.3900</td>\n",
       "      <td>17850.0000</td>\n",
       "      <td>United Kingdom</td>\n",
       "    </tr>\n",
       "  </tbody>\n",
       "</table>\n",
       "</div>"
      ],
      "text/plain": [
       "  InvoiceNo StockCode                          Description  Quantity  \\\n",
       "0    536365    85123A   WHITE HANGING HEART T-LIGHT HOLDER         6   \n",
       "1    536365     71053                  WHITE METAL LANTERN         6   \n",
       "2    536365    84406B       CREAM CUPID HEARTS COAT HANGER         8   \n",
       "3    536365    84029G  KNITTED UNION FLAG HOT WATER BOTTLE         6   \n",
       "4    536365    84029E       RED WOOLLY HOTTIE WHITE HEART.         6   \n",
       "\n",
       "  InvoiceDate  UnitPrice  CustomerID         Country  \n",
       "0   29-Nov-16     2.5500  17850.0000  United Kingdom  \n",
       "1   29-Nov-16     3.3900  17850.0000  United Kingdom  \n",
       "2   29-Nov-16     2.7500  17850.0000  United Kingdom  \n",
       "3   29-Nov-16     3.3900  17850.0000  United Kingdom  \n",
       "4   29-Nov-16     3.3900  17850.0000  United Kingdom  "
      ]
     },
     "execution_count": 3,
     "metadata": {},
     "output_type": "execute_result"
    }
   ],
   "source": [
    "caminho = 'C:\\\\repos\\\\portfolio_projetos\\\\pa005_insider_clustering'\n",
    "df_raw = pd.read_csv(caminho + '\\\\data\\\\raw\\\\Ecommerce.csv', encoding = 'iso 8859-1')\n",
    "df_raw = df_raw.drop(['Unnamed: 8'], axis = 1)\n",
    "df_raw.head()"
   ]
  },
  {
   "cell_type": "code",
   "execution_count": null,
   "id": "77e7fc3b",
   "metadata": {},
   "outputs": [],
   "source": []
  },
  {
   "cell_type": "markdown",
   "id": "bcd500c2",
   "metadata": {
    "ExecuteTime": {
     "end_time": "2023-01-28T15:12:36.453933Z",
     "start_time": "2023-01-28T15:12:36.444960Z"
    }
   },
   "source": [
    "# 1.0 Descrição os dados"
   ]
  },
  {
   "cell_type": "code",
   "execution_count": 3,
   "id": "7eb2b3ee",
   "metadata": {
    "ExecuteTime": {
     "end_time": "2023-03-19T15:56:32.534153Z",
     "start_time": "2023-03-19T15:56:32.505169Z"
    }
   },
   "outputs": [],
   "source": [
    "df1 = df_raw.copy()"
   ]
  },
  {
   "cell_type": "markdown",
   "id": "f863e8c1",
   "metadata": {},
   "source": [
    "## 1.1 Rename columns"
   ]
  },
  {
   "cell_type": "code",
   "execution_count": 4,
   "id": "c438c9d4",
   "metadata": {
    "ExecuteTime": {
     "end_time": "2023-03-19T15:56:32.550093Z",
     "start_time": "2023-03-19T15:56:32.537082Z"
    }
   },
   "outputs": [
    {
     "data": {
      "text/html": [
       "<div>\n",
       "<style scoped>\n",
       "    .dataframe tbody tr th:only-of-type {\n",
       "        vertical-align: middle;\n",
       "    }\n",
       "\n",
       "    .dataframe tbody tr th {\n",
       "        vertical-align: top;\n",
       "    }\n",
       "\n",
       "    .dataframe thead th {\n",
       "        text-align: right;\n",
       "    }\n",
       "</style>\n",
       "<table border=\"1\" class=\"dataframe\">\n",
       "  <thead>\n",
       "    <tr style=\"text-align: right;\">\n",
       "      <th></th>\n",
       "      <th>invoice_no</th>\n",
       "      <th>stock_code</th>\n",
       "      <th>description</th>\n",
       "      <th>quantity</th>\n",
       "      <th>invoice_date</th>\n",
       "      <th>unit_price</th>\n",
       "      <th>customer_id</th>\n",
       "      <th>country</th>\n",
       "    </tr>\n",
       "  </thead>\n",
       "  <tbody>\n",
       "    <tr>\n",
       "      <th>0</th>\n",
       "      <td>536365</td>\n",
       "      <td>85123A</td>\n",
       "      <td>WHITE HANGING HEART T-LIGHT HOLDER</td>\n",
       "      <td>6</td>\n",
       "      <td>29-Nov-16</td>\n",
       "      <td>2.5500</td>\n",
       "      <td>17850.0000</td>\n",
       "      <td>United Kingdom</td>\n",
       "    </tr>\n",
       "    <tr>\n",
       "      <th>1</th>\n",
       "      <td>536365</td>\n",
       "      <td>71053</td>\n",
       "      <td>WHITE METAL LANTERN</td>\n",
       "      <td>6</td>\n",
       "      <td>29-Nov-16</td>\n",
       "      <td>3.3900</td>\n",
       "      <td>17850.0000</td>\n",
       "      <td>United Kingdom</td>\n",
       "    </tr>\n",
       "    <tr>\n",
       "      <th>2</th>\n",
       "      <td>536365</td>\n",
       "      <td>84406B</td>\n",
       "      <td>CREAM CUPID HEARTS COAT HANGER</td>\n",
       "      <td>8</td>\n",
       "      <td>29-Nov-16</td>\n",
       "      <td>2.7500</td>\n",
       "      <td>17850.0000</td>\n",
       "      <td>United Kingdom</td>\n",
       "    </tr>\n",
       "    <tr>\n",
       "      <th>3</th>\n",
       "      <td>536365</td>\n",
       "      <td>84029G</td>\n",
       "      <td>KNITTED UNION FLAG HOT WATER BOTTLE</td>\n",
       "      <td>6</td>\n",
       "      <td>29-Nov-16</td>\n",
       "      <td>3.3900</td>\n",
       "      <td>17850.0000</td>\n",
       "      <td>United Kingdom</td>\n",
       "    </tr>\n",
       "    <tr>\n",
       "      <th>4</th>\n",
       "      <td>536365</td>\n",
       "      <td>84029E</td>\n",
       "      <td>RED WOOLLY HOTTIE WHITE HEART.</td>\n",
       "      <td>6</td>\n",
       "      <td>29-Nov-16</td>\n",
       "      <td>3.3900</td>\n",
       "      <td>17850.0000</td>\n",
       "      <td>United Kingdom</td>\n",
       "    </tr>\n",
       "  </tbody>\n",
       "</table>\n",
       "</div>"
      ],
      "text/plain": [
       "  invoice_no stock_code                          description  quantity  \\\n",
       "0     536365     85123A   WHITE HANGING HEART T-LIGHT HOLDER         6   \n",
       "1     536365      71053                  WHITE METAL LANTERN         6   \n",
       "2     536365     84406B       CREAM CUPID HEARTS COAT HANGER         8   \n",
       "3     536365     84029G  KNITTED UNION FLAG HOT WATER BOTTLE         6   \n",
       "4     536365     84029E       RED WOOLLY HOTTIE WHITE HEART.         6   \n",
       "\n",
       "  invoice_date  unit_price  customer_id         country  \n",
       "0    29-Nov-16      2.5500   17850.0000  United Kingdom  \n",
       "1    29-Nov-16      3.3900   17850.0000  United Kingdom  \n",
       "2    29-Nov-16      2.7500   17850.0000  United Kingdom  \n",
       "3    29-Nov-16      3.3900   17850.0000  United Kingdom  \n",
       "4    29-Nov-16      3.3900   17850.0000  United Kingdom  "
      ]
     },
     "execution_count": 4,
     "metadata": {},
     "output_type": "execute_result"
    }
   ],
   "source": [
    "cols_new = ['invoice_no','stock_code','description','quantity','invoice_date','unit_price','customer_id','country']\n",
    "\n",
    "df1.columns = cols_new\n",
    "df1.head()"
   ]
  },
  {
   "cell_type": "markdown",
   "id": "87689e50",
   "metadata": {},
   "source": [
    "## 1.2 Data dimension"
   ]
  },
  {
   "cell_type": "code",
   "execution_count": 5,
   "id": "5d809de7",
   "metadata": {
    "ExecuteTime": {
     "end_time": "2023-03-19T15:56:32.566046Z",
     "start_time": "2023-03-19T15:56:32.552085Z"
    }
   },
   "outputs": [
    {
     "name": "stdout",
     "output_type": "stream",
     "text": [
      "Number of rows: 541909 \n",
      "Number of columns: 8\n"
     ]
    }
   ],
   "source": [
    "print(\"Number of rows: {} \\nNumber of columns: {}\".format(df1.shape[0], df1.shape[1]))"
   ]
  },
  {
   "cell_type": "markdown",
   "id": "ced0d42d",
   "metadata": {},
   "source": [
    "## 1.3 Data types"
   ]
  },
  {
   "cell_type": "code",
   "execution_count": 6,
   "id": "59d14ff9",
   "metadata": {
    "ExecuteTime": {
     "end_time": "2023-03-19T15:56:32.581998Z",
     "start_time": "2023-03-19T15:56:32.568000Z"
    }
   },
   "outputs": [
    {
     "data": {
      "text/plain": [
       "invoice_no       object\n",
       "stock_code       object\n",
       "description      object\n",
       "quantity          int64\n",
       "invoice_date     object\n",
       "unit_price      float64\n",
       "customer_id     float64\n",
       "country          object\n",
       "dtype: object"
      ]
     },
     "execution_count": 6,
     "metadata": {},
     "output_type": "execute_result"
    }
   ],
   "source": [
    "df1.dtypes"
   ]
  },
  {
   "cell_type": "markdown",
   "id": "19ab00d9",
   "metadata": {},
   "source": [
    "## 1.4 Check NA"
   ]
  },
  {
   "cell_type": "code",
   "execution_count": 7,
   "id": "d2fd5d32",
   "metadata": {
    "ExecuteTime": {
     "end_time": "2023-03-19T15:56:32.898822Z",
     "start_time": "2023-03-19T15:56:32.584972Z"
    }
   },
   "outputs": [
    {
     "data": {
      "text/plain": [
       "invoice_no           0\n",
       "stock_code           0\n",
       "description       1454\n",
       "quantity             0\n",
       "invoice_date         0\n",
       "unit_price           0\n",
       "customer_id     135080\n",
       "country              0\n",
       "dtype: int64"
      ]
     },
     "execution_count": 7,
     "metadata": {},
     "output_type": "execute_result"
    }
   ],
   "source": [
    "df1.isna().sum()"
   ]
  },
  {
   "cell_type": "markdown",
   "id": "df643360",
   "metadata": {},
   "source": [
    "## 1.5 Replace NA"
   ]
  },
  {
   "cell_type": "code",
   "execution_count": 8,
   "id": "e4f12b19",
   "metadata": {
    "ExecuteTime": {
     "end_time": "2023-03-19T15:56:32.962605Z",
     "start_time": "2023-03-19T15:56:32.900771Z"
    }
   },
   "outputs": [
    {
     "data": {
      "text/html": [
       "<div>\n",
       "<style scoped>\n",
       "    .dataframe tbody tr th:only-of-type {\n",
       "        vertical-align: middle;\n",
       "    }\n",
       "\n",
       "    .dataframe tbody tr th {\n",
       "        vertical-align: top;\n",
       "    }\n",
       "\n",
       "    .dataframe thead th {\n",
       "        text-align: right;\n",
       "    }\n",
       "</style>\n",
       "<table border=\"1\" class=\"dataframe\">\n",
       "  <thead>\n",
       "    <tr style=\"text-align: right;\">\n",
       "      <th></th>\n",
       "      <th>invoice_no</th>\n",
       "      <th>stock_code</th>\n",
       "      <th>description</th>\n",
       "      <th>quantity</th>\n",
       "      <th>invoice_date</th>\n",
       "      <th>unit_price</th>\n",
       "      <th>customer_id</th>\n",
       "      <th>country</th>\n",
       "    </tr>\n",
       "  </thead>\n",
       "  <tbody>\n",
       "    <tr>\n",
       "      <th>0</th>\n",
       "      <td>536365</td>\n",
       "      <td>85123A</td>\n",
       "      <td>WHITE HANGING HEART T-LIGHT HOLDER</td>\n",
       "      <td>6</td>\n",
       "      <td>29-Nov-16</td>\n",
       "      <td>2.5500</td>\n",
       "      <td>17850.0000</td>\n",
       "      <td>United Kingdom</td>\n",
       "    </tr>\n",
       "    <tr>\n",
       "      <th>1</th>\n",
       "      <td>536365</td>\n",
       "      <td>71053</td>\n",
       "      <td>WHITE METAL LANTERN</td>\n",
       "      <td>6</td>\n",
       "      <td>29-Nov-16</td>\n",
       "      <td>3.3900</td>\n",
       "      <td>17850.0000</td>\n",
       "      <td>United Kingdom</td>\n",
       "    </tr>\n",
       "    <tr>\n",
       "      <th>2</th>\n",
       "      <td>536365</td>\n",
       "      <td>84406B</td>\n",
       "      <td>CREAM CUPID HEARTS COAT HANGER</td>\n",
       "      <td>8</td>\n",
       "      <td>29-Nov-16</td>\n",
       "      <td>2.7500</td>\n",
       "      <td>17850.0000</td>\n",
       "      <td>United Kingdom</td>\n",
       "    </tr>\n",
       "    <tr>\n",
       "      <th>3</th>\n",
       "      <td>536365</td>\n",
       "      <td>84029G</td>\n",
       "      <td>KNITTED UNION FLAG HOT WATER BOTTLE</td>\n",
       "      <td>6</td>\n",
       "      <td>29-Nov-16</td>\n",
       "      <td>3.3900</td>\n",
       "      <td>17850.0000</td>\n",
       "      <td>United Kingdom</td>\n",
       "    </tr>\n",
       "    <tr>\n",
       "      <th>4</th>\n",
       "      <td>536365</td>\n",
       "      <td>84029E</td>\n",
       "      <td>RED WOOLLY HOTTIE WHITE HEART.</td>\n",
       "      <td>6</td>\n",
       "      <td>29-Nov-16</td>\n",
       "      <td>3.3900</td>\n",
       "      <td>17850.0000</td>\n",
       "      <td>United Kingdom</td>\n",
       "    </tr>\n",
       "  </tbody>\n",
       "</table>\n",
       "</div>"
      ],
      "text/plain": [
       "  invoice_no stock_code                          description  quantity  \\\n",
       "0     536365     85123A   WHITE HANGING HEART T-LIGHT HOLDER         6   \n",
       "1     536365      71053                  WHITE METAL LANTERN         6   \n",
       "2     536365     84406B       CREAM CUPID HEARTS COAT HANGER         8   \n",
       "3     536365     84029G  KNITTED UNION FLAG HOT WATER BOTTLE         6   \n",
       "4     536365     84029E       RED WOOLLY HOTTIE WHITE HEART.         6   \n",
       "\n",
       "  invoice_date  unit_price  customer_id         country  \n",
       "0    29-Nov-16      2.5500   17850.0000  United Kingdom  \n",
       "1    29-Nov-16      3.3900   17850.0000  United Kingdom  \n",
       "2    29-Nov-16      2.7500   17850.0000  United Kingdom  \n",
       "3    29-Nov-16      3.3900   17850.0000  United Kingdom  \n",
       "4    29-Nov-16      3.3900   17850.0000  United Kingdom  "
      ]
     },
     "execution_count": 8,
     "metadata": {},
     "output_type": "execute_result"
    }
   ],
   "source": [
    "df_missing = df1.loc[df1['customer_id'].isna() ]\n",
    "df_not_missing = df1.loc[~df1['customer_id'].isna() ]\n",
    "df_not_missing.head()"
   ]
  },
  {
   "cell_type": "code",
   "execution_count": 9,
   "id": "672f80d0",
   "metadata": {
    "ExecuteTime": {
     "end_time": "2023-03-19T15:56:32.978600Z",
     "start_time": "2023-03-19T15:56:32.963628Z"
    }
   },
   "outputs": [
    {
     "name": "stdout",
     "output_type": "stream",
     "text": [
      "Missing => 135080  and NOT missing => 406829\n"
     ]
    }
   ],
   "source": [
    "print('Missing => {}  and NOT missing => {}'.format(df_missing.shape[0],df_not_missing.shape[0]))"
   ]
  },
  {
   "cell_type": "code",
   "execution_count": 10,
   "id": "a9bb0407",
   "metadata": {
    "ExecuteTime": {
     "end_time": "2023-03-19T15:56:32.994554Z",
     "start_time": "2023-03-19T15:56:32.983590Z"
    }
   },
   "outputs": [
    {
     "data": {
      "text/plain": [
       "['536414',\n",
       " '536544',\n",
       " '536545',\n",
       " '536546',\n",
       " '536547',\n",
       " '536549',\n",
       " '536550',\n",
       " '536552',\n",
       " '536553']"
      ]
     },
     "execution_count": 10,
     "metadata": {},
     "output_type": "execute_result"
    }
   ],
   "source": [
    "missing_invoice = df_missing['invoice_no'].drop_duplicates().tolist()\n",
    "missing_invoice[0:9]"
   ]
  },
  {
   "cell_type": "code",
   "execution_count": 11,
   "id": "cb859e2a",
   "metadata": {
    "ExecuteTime": {
     "end_time": "2023-03-19T15:56:33.026468Z",
     "start_time": "2023-03-19T15:56:32.997512Z"
    }
   },
   "outputs": [
    {
     "data": {
      "text/html": [
       "<div>\n",
       "<style scoped>\n",
       "    .dataframe tbody tr th:only-of-type {\n",
       "        vertical-align: middle;\n",
       "    }\n",
       "\n",
       "    .dataframe tbody tr th {\n",
       "        vertical-align: top;\n",
       "    }\n",
       "\n",
       "    .dataframe thead th {\n",
       "        text-align: right;\n",
       "    }\n",
       "</style>\n",
       "<table border=\"1\" class=\"dataframe\">\n",
       "  <thead>\n",
       "    <tr style=\"text-align: right;\">\n",
       "      <th></th>\n",
       "      <th>invoice_no</th>\n",
       "      <th>stock_code</th>\n",
       "      <th>description</th>\n",
       "      <th>quantity</th>\n",
       "      <th>invoice_date</th>\n",
       "      <th>unit_price</th>\n",
       "      <th>customer_id</th>\n",
       "      <th>country</th>\n",
       "    </tr>\n",
       "  </thead>\n",
       "  <tbody>\n",
       "  </tbody>\n",
       "</table>\n",
       "</div>"
      ],
      "text/plain": [
       "Empty DataFrame\n",
       "Columns: [invoice_no, stock_code, description, quantity, invoice_date, unit_price, customer_id, country]\n",
       "Index: []"
      ]
     },
     "execution_count": 11,
     "metadata": {},
     "output_type": "execute_result"
    }
   ],
   "source": [
    "df_not_missing.loc[df_not_missing['invoice_no'].isin( missing_invoice )]\n",
    "# nao existe invoice_no do missing presente no not missing"
   ]
  },
  {
   "cell_type": "code",
   "execution_count": 12,
   "id": "02c13de6",
   "metadata": {
    "ExecuteTime": {
     "end_time": "2023-03-19T15:56:33.042430Z",
     "start_time": "2023-03-19T15:56:33.027433Z"
    }
   },
   "outputs": [],
   "source": [
    "# atribuição dos novos \"customer_id\", apenas para nao perder os dados dos 25%\n",
    "#df_not_missing['customer_id'].max()  # 18287"
   ]
  },
  {
   "cell_type": "code",
   "execution_count": 13,
   "id": "ec798dbf",
   "metadata": {
    "ExecuteTime": {
     "end_time": "2023-03-19T15:56:33.248886Z",
     "start_time": "2023-03-19T15:56:33.044387Z"
    }
   },
   "outputs": [
    {
     "data": {
      "text/html": [
       "<div>\n",
       "<style scoped>\n",
       "    .dataframe tbody tr th:only-of-type {\n",
       "        vertical-align: middle;\n",
       "    }\n",
       "\n",
       "    .dataframe tbody tr th {\n",
       "        vertical-align: top;\n",
       "    }\n",
       "\n",
       "    .dataframe thead th {\n",
       "        text-align: right;\n",
       "    }\n",
       "</style>\n",
       "<table border=\"1\" class=\"dataframe\">\n",
       "  <thead>\n",
       "    <tr style=\"text-align: right;\">\n",
       "      <th></th>\n",
       "      <th>invoice_no</th>\n",
       "      <th>stock_code</th>\n",
       "      <th>description</th>\n",
       "      <th>quantity</th>\n",
       "      <th>invoice_date</th>\n",
       "      <th>unit_price</th>\n",
       "      <th>country</th>\n",
       "      <th>customer_id</th>\n",
       "    </tr>\n",
       "  </thead>\n",
       "  <tbody>\n",
       "    <tr>\n",
       "      <th>0</th>\n",
       "      <td>536365</td>\n",
       "      <td>85123A</td>\n",
       "      <td>WHITE HANGING HEART T-LIGHT HOLDER</td>\n",
       "      <td>6</td>\n",
       "      <td>29-Nov-16</td>\n",
       "      <td>2.5500</td>\n",
       "      <td>United Kingdom</td>\n",
       "      <td>17850.0000</td>\n",
       "    </tr>\n",
       "    <tr>\n",
       "      <th>1</th>\n",
       "      <td>536365</td>\n",
       "      <td>71053</td>\n",
       "      <td>WHITE METAL LANTERN</td>\n",
       "      <td>6</td>\n",
       "      <td>29-Nov-16</td>\n",
       "      <td>3.3900</td>\n",
       "      <td>United Kingdom</td>\n",
       "      <td>17850.0000</td>\n",
       "    </tr>\n",
       "    <tr>\n",
       "      <th>2</th>\n",
       "      <td>536365</td>\n",
       "      <td>84406B</td>\n",
       "      <td>CREAM CUPID HEARTS COAT HANGER</td>\n",
       "      <td>8</td>\n",
       "      <td>29-Nov-16</td>\n",
       "      <td>2.7500</td>\n",
       "      <td>United Kingdom</td>\n",
       "      <td>17850.0000</td>\n",
       "    </tr>\n",
       "    <tr>\n",
       "      <th>3</th>\n",
       "      <td>536365</td>\n",
       "      <td>84029G</td>\n",
       "      <td>KNITTED UNION FLAG HOT WATER BOTTLE</td>\n",
       "      <td>6</td>\n",
       "      <td>29-Nov-16</td>\n",
       "      <td>3.3900</td>\n",
       "      <td>United Kingdom</td>\n",
       "      <td>17850.0000</td>\n",
       "    </tr>\n",
       "    <tr>\n",
       "      <th>4</th>\n",
       "      <td>536365</td>\n",
       "      <td>84029E</td>\n",
       "      <td>RED WOOLLY HOTTIE WHITE HEART.</td>\n",
       "      <td>6</td>\n",
       "      <td>29-Nov-16</td>\n",
       "      <td>3.3900</td>\n",
       "      <td>United Kingdom</td>\n",
       "      <td>17850.0000</td>\n",
       "    </tr>\n",
       "  </tbody>\n",
       "</table>\n",
       "</div>"
      ],
      "text/plain": [
       "  invoice_no stock_code                          description  quantity  \\\n",
       "0     536365     85123A   WHITE HANGING HEART T-LIGHT HOLDER         6   \n",
       "1     536365      71053                  WHITE METAL LANTERN         6   \n",
       "2     536365     84406B       CREAM CUPID HEARTS COAT HANGER         8   \n",
       "3     536365     84029G  KNITTED UNION FLAG HOT WATER BOTTLE         6   \n",
       "4     536365     84029E       RED WOOLLY HOTTIE WHITE HEART.         6   \n",
       "\n",
       "  invoice_date  unit_price         country  customer_id  \n",
       "0    29-Nov-16      2.5500  United Kingdom   17850.0000  \n",
       "1    29-Nov-16      3.3900  United Kingdom   17850.0000  \n",
       "2    29-Nov-16      2.7500  United Kingdom   17850.0000  \n",
       "3    29-Nov-16      3.3900  United Kingdom   17850.0000  \n",
       "4    29-Nov-16      3.3900  United Kingdom   17850.0000  "
      ]
     },
     "execution_count": 13,
     "metadata": {},
     "output_type": "execute_result"
    }
   ],
   "source": [
    "# create reference\n",
    "df_backup = pd.DataFrame(df_missing['invoice_no'].drop_duplicates() )\n",
    "df_backup['customer_id'] = np.arange(19000, 19000 + len(df_backup), 1)\n",
    "\n",
    "# merge original with reference dataframe\n",
    "df1 = pd.merge( df1, df_backup, on = 'invoice_no', how = 'left')\n",
    "\n",
    "# coalesce\n",
    "df1['customer_id'] = df1['customer_id_x'].combine_first( df1['customer_id_y'] )\n",
    "df1 = df1.drop(['customer_id_y','customer_id_x'], axis = 1)\n",
    "df1.head()"
   ]
  },
  {
   "cell_type": "code",
   "execution_count": 14,
   "id": "5f8f69b9",
   "metadata": {
    "ExecuteTime": {
     "end_time": "2023-03-19T15:56:33.565942Z",
     "start_time": "2023-03-19T15:56:33.250835Z"
    }
   },
   "outputs": [
    {
     "data": {
      "text/plain": [
       "invoice_no         0\n",
       "stock_code         0\n",
       "description     1454\n",
       "quantity           0\n",
       "invoice_date       0\n",
       "unit_price         0\n",
       "country            0\n",
       "customer_id        0\n",
       "dtype: int64"
      ]
     },
     "execution_count": 14,
     "metadata": {},
     "output_type": "execute_result"
    }
   ],
   "source": [
    "df1.isna().sum()"
   ]
  },
  {
   "cell_type": "code",
   "execution_count": 15,
   "id": "3ade3914",
   "metadata": {
    "ExecuteTime": {
     "end_time": "2023-03-19T15:56:33.580908Z",
     "start_time": "2023-03-19T15:56:33.567887Z"
    }
   },
   "outputs": [],
   "source": [
    "# com a mudança dos missings acima, rodar novamente as analises descritivas abaixo para verificar mudanças de comportamento"
   ]
  },
  {
   "cell_type": "code",
   "execution_count": null,
   "id": "1c0777cc",
   "metadata": {},
   "outputs": [],
   "source": []
  },
  {
   "cell_type": "code",
   "execution_count": 16,
   "id": "57a755b0",
   "metadata": {
    "ExecuteTime": {
     "end_time": "2023-03-19T15:56:33.596946Z",
     "start_time": "2023-03-19T15:56:33.583906Z"
    }
   },
   "outputs": [],
   "source": [
    "# # remove\n",
    "# df1 = df1.dropna(subset = ['description','customer_id'])\n",
    "\n",
    "# print('Removed data: {:.2f}%'.format(100*(1 - (df1.shape[0]/df_raw.shape[0]))))"
   ]
  },
  {
   "cell_type": "code",
   "execution_count": 17,
   "id": "f3ed91a1",
   "metadata": {
    "ExecuteTime": {
     "end_time": "2023-03-19T15:56:33.612857Z",
     "start_time": "2023-03-19T15:56:33.601898Z"
    }
   },
   "outputs": [],
   "source": [
    "# df1.isna().sum()"
   ]
  },
  {
   "cell_type": "code",
   "execution_count": null,
   "id": "24d2e22f",
   "metadata": {},
   "outputs": [],
   "source": []
  },
  {
   "cell_type": "markdown",
   "id": "8ac010ae",
   "metadata": {},
   "source": [
    "## 1.6 Change dtypes"
   ]
  },
  {
   "cell_type": "code",
   "execution_count": 18,
   "id": "f58b415b",
   "metadata": {
    "ExecuteTime": {
     "end_time": "2023-03-19T15:56:33.692640Z",
     "start_time": "2023-03-19T15:56:33.616817Z"
    }
   },
   "outputs": [
    {
     "data": {
      "text/html": [
       "<div>\n",
       "<style scoped>\n",
       "    .dataframe tbody tr th:only-of-type {\n",
       "        vertical-align: middle;\n",
       "    }\n",
       "\n",
       "    .dataframe tbody tr th {\n",
       "        vertical-align: top;\n",
       "    }\n",
       "\n",
       "    .dataframe thead th {\n",
       "        text-align: right;\n",
       "    }\n",
       "</style>\n",
       "<table border=\"1\" class=\"dataframe\">\n",
       "  <thead>\n",
       "    <tr style=\"text-align: right;\">\n",
       "      <th></th>\n",
       "      <th>invoice_no</th>\n",
       "      <th>stock_code</th>\n",
       "      <th>description</th>\n",
       "      <th>quantity</th>\n",
       "      <th>invoice_date</th>\n",
       "      <th>unit_price</th>\n",
       "      <th>country</th>\n",
       "      <th>customer_id</th>\n",
       "    </tr>\n",
       "  </thead>\n",
       "  <tbody>\n",
       "    <tr>\n",
       "      <th>0</th>\n",
       "      <td>536365</td>\n",
       "      <td>85123A</td>\n",
       "      <td>WHITE HANGING HEART T-LIGHT HOLDER</td>\n",
       "      <td>6</td>\n",
       "      <td>2016-11-29</td>\n",
       "      <td>2.5500</td>\n",
       "      <td>United Kingdom</td>\n",
       "      <td>17850</td>\n",
       "    </tr>\n",
       "    <tr>\n",
       "      <th>1</th>\n",
       "      <td>536365</td>\n",
       "      <td>71053</td>\n",
       "      <td>WHITE METAL LANTERN</td>\n",
       "      <td>6</td>\n",
       "      <td>2016-11-29</td>\n",
       "      <td>3.3900</td>\n",
       "      <td>United Kingdom</td>\n",
       "      <td>17850</td>\n",
       "    </tr>\n",
       "    <tr>\n",
       "      <th>2</th>\n",
       "      <td>536365</td>\n",
       "      <td>84406B</td>\n",
       "      <td>CREAM CUPID HEARTS COAT HANGER</td>\n",
       "      <td>8</td>\n",
       "      <td>2016-11-29</td>\n",
       "      <td>2.7500</td>\n",
       "      <td>United Kingdom</td>\n",
       "      <td>17850</td>\n",
       "    </tr>\n",
       "    <tr>\n",
       "      <th>3</th>\n",
       "      <td>536365</td>\n",
       "      <td>84029G</td>\n",
       "      <td>KNITTED UNION FLAG HOT WATER BOTTLE</td>\n",
       "      <td>6</td>\n",
       "      <td>2016-11-29</td>\n",
       "      <td>3.3900</td>\n",
       "      <td>United Kingdom</td>\n",
       "      <td>17850</td>\n",
       "    </tr>\n",
       "    <tr>\n",
       "      <th>4</th>\n",
       "      <td>536365</td>\n",
       "      <td>84029E</td>\n",
       "      <td>RED WOOLLY HOTTIE WHITE HEART.</td>\n",
       "      <td>6</td>\n",
       "      <td>2016-11-29</td>\n",
       "      <td>3.3900</td>\n",
       "      <td>United Kingdom</td>\n",
       "      <td>17850</td>\n",
       "    </tr>\n",
       "  </tbody>\n",
       "</table>\n",
       "</div>"
      ],
      "text/plain": [
       "  invoice_no stock_code                          description  quantity  \\\n",
       "0     536365     85123A   WHITE HANGING HEART T-LIGHT HOLDER         6   \n",
       "1     536365      71053                  WHITE METAL LANTERN         6   \n",
       "2     536365     84406B       CREAM CUPID HEARTS COAT HANGER         8   \n",
       "3     536365     84029G  KNITTED UNION FLAG HOT WATER BOTTLE         6   \n",
       "4     536365     84029E       RED WOOLLY HOTTIE WHITE HEART.         6   \n",
       "\n",
       "  invoice_date  unit_price         country  customer_id  \n",
       "0   2016-11-29      2.5500  United Kingdom        17850  \n",
       "1   2016-11-29      3.3900  United Kingdom        17850  \n",
       "2   2016-11-29      2.7500  United Kingdom        17850  \n",
       "3   2016-11-29      3.3900  United Kingdom        17850  \n",
       "4   2016-11-29      3.3900  United Kingdom        17850  "
      ]
     },
     "execution_count": 18,
     "metadata": {},
     "output_type": "execute_result"
    }
   ],
   "source": [
    "# invoice_date\n",
    "df1['invoice_date'] = pd.to_datetime(df1['invoice_date'], format='%d-%b-%y')\n",
    "\n",
    "# customer_id\n",
    "df1['customer_id'] = df1['customer_id'].astype('int64')\n",
    "df1.head()"
   ]
  },
  {
   "cell_type": "code",
   "execution_count": 19,
   "id": "46d4ba1e",
   "metadata": {
    "ExecuteTime": {
     "end_time": "2023-03-19T15:56:33.708597Z",
     "start_time": "2023-03-19T15:56:33.693611Z"
    }
   },
   "outputs": [
    {
     "data": {
      "text/plain": [
       "invoice_no              object\n",
       "stock_code              object\n",
       "description             object\n",
       "quantity                 int64\n",
       "invoice_date    datetime64[ns]\n",
       "unit_price             float64\n",
       "country                 object\n",
       "customer_id              int64\n",
       "dtype: object"
      ]
     },
     "execution_count": 19,
     "metadata": {},
     "output_type": "execute_result"
    }
   ],
   "source": [
    "df1.dtypes"
   ]
  },
  {
   "cell_type": "markdown",
   "id": "59615a9c",
   "metadata": {},
   "source": [
    "## 1.7 Descriptive Statistics"
   ]
  },
  {
   "cell_type": "code",
   "execution_count": 20,
   "id": "efc9b8c1",
   "metadata": {
    "ExecuteTime": {
     "end_time": "2023-03-19T15:56:33.771471Z",
     "start_time": "2023-03-19T15:56:33.710567Z"
    }
   },
   "outputs": [],
   "source": [
    "num_attributes = df1.select_dtypes(include=['int64','float64'])\n",
    "cat_attributes = df1.select_dtypes(exclude=['int64','float64','datetime64[ns]'])"
   ]
  },
  {
   "cell_type": "markdown",
   "id": "b95e413c",
   "metadata": {},
   "source": [
    "### 1.7.1 Numerical Attributes"
   ]
  },
  {
   "cell_type": "code",
   "execution_count": 21,
   "id": "ed82bec9",
   "metadata": {
    "ExecuteTime": {
     "end_time": "2023-03-19T15:56:33.914063Z",
     "start_time": "2023-03-19T15:56:33.773397Z"
    }
   },
   "outputs": [
    {
     "data": {
      "text/html": [
       "<div>\n",
       "<style scoped>\n",
       "    .dataframe tbody tr th:only-of-type {\n",
       "        vertical-align: middle;\n",
       "    }\n",
       "\n",
       "    .dataframe tbody tr th {\n",
       "        vertical-align: top;\n",
       "    }\n",
       "\n",
       "    .dataframe thead th {\n",
       "        text-align: right;\n",
       "    }\n",
       "</style>\n",
       "<table border=\"1\" class=\"dataframe\">\n",
       "  <thead>\n",
       "    <tr style=\"text-align: right;\">\n",
       "      <th></th>\n",
       "      <th>attributes</th>\n",
       "      <th>min</th>\n",
       "      <th>max</th>\n",
       "      <th>range</th>\n",
       "      <th>mean</th>\n",
       "      <th>median</th>\n",
       "      <th>std</th>\n",
       "      <th>skew</th>\n",
       "      <th>kurtosis</th>\n",
       "    </tr>\n",
       "  </thead>\n",
       "  <tbody>\n",
       "    <tr>\n",
       "      <th>0</th>\n",
       "      <td>quantity</td>\n",
       "      <td>-80995.0000</td>\n",
       "      <td>80995.0000</td>\n",
       "      <td>161990.0000</td>\n",
       "      <td>9.5522</td>\n",
       "      <td>3.0000</td>\n",
       "      <td>218.0810</td>\n",
       "      <td>-0.2641</td>\n",
       "      <td>119769.1600</td>\n",
       "    </tr>\n",
       "    <tr>\n",
       "      <th>1</th>\n",
       "      <td>unit_price</td>\n",
       "      <td>-11062.0600</td>\n",
       "      <td>38970.0000</td>\n",
       "      <td>50032.0600</td>\n",
       "      <td>4.6111</td>\n",
       "      <td>2.0800</td>\n",
       "      <td>96.7598</td>\n",
       "      <td>186.5070</td>\n",
       "      <td>59005.7191</td>\n",
       "    </tr>\n",
       "    <tr>\n",
       "      <th>2</th>\n",
       "      <td>customer_id</td>\n",
       "      <td>12346.0000</td>\n",
       "      <td>22709.0000</td>\n",
       "      <td>10363.0000</td>\n",
       "      <td>16688.8405</td>\n",
       "      <td>16249.0000</td>\n",
       "      <td>2911.4087</td>\n",
       "      <td>0.4874</td>\n",
       "      <td>-0.8043</td>\n",
       "    </tr>\n",
       "  </tbody>\n",
       "</table>\n",
       "</div>"
      ],
      "text/plain": [
       "    attributes         min        max       range       mean     median  \\\n",
       "0     quantity -80995.0000 80995.0000 161990.0000     9.5522     3.0000   \n",
       "1   unit_price -11062.0600 38970.0000  50032.0600     4.6111     2.0800   \n",
       "2  customer_id  12346.0000 22709.0000  10363.0000 16688.8405 16249.0000   \n",
       "\n",
       "        std     skew    kurtosis  \n",
       "0  218.0810  -0.2641 119769.1600  \n",
       "1   96.7598 186.5070  59005.7191  \n",
       "2 2911.4087   0.4874     -0.8043  "
      ]
     },
     "execution_count": 21,
     "metadata": {},
     "output_type": "execute_result"
    }
   ],
   "source": [
    "# central tendency - mean / median\n",
    "ct1 = pd.DataFrame(num_attributes.apply(np.mean)).T\n",
    "ct2 = pd.DataFrame(num_attributes.apply(np.median)).T\n",
    "\n",
    "# dispersion - std / skew / kurtosis / min / max\n",
    "d1 = pd.DataFrame(num_attributes.apply(np.std)).T\n",
    "d2 = pd.DataFrame(num_attributes.apply(np.min)).T\n",
    "d3 = pd.DataFrame(num_attributes.apply(np.max)).T\n",
    "d4 = pd.DataFrame(num_attributes.apply(lambda x: x.max() - x.min() )).T\n",
    "d5 = pd.DataFrame(num_attributes.apply(lambda x: x.skew() )).T\n",
    "d6 = pd.DataFrame(num_attributes.apply(lambda x: x.kurtosis() )).T\n",
    "\n",
    "# concatenate\n",
    "m = pd.concat( [d2,d3,d4,ct1,ct2,d1,d5,d6]).T.reset_index()\n",
    "m.columns = ['attributes','min','max','range','mean','median','std', 'skew','kurtosis']\n",
    "m"
   ]
  },
  {
   "cell_type": "code",
   "execution_count": 22,
   "id": "c38ac102",
   "metadata": {
    "ExecuteTime": {
     "end_time": "2023-03-19T15:56:33.930025Z",
     "start_time": "2023-03-19T15:56:33.916017Z"
    }
   },
   "outputs": [],
   "source": [
    "# quantidade com valor negativo ? (Devolução)\n",
    "# preço unitario de zero ? Promoção ?\n"
   ]
  },
  {
   "cell_type": "code",
   "execution_count": null,
   "id": "43156007",
   "metadata": {},
   "outputs": [],
   "source": []
  },
  {
   "cell_type": "markdown",
   "id": "235700da",
   "metadata": {},
   "source": [
    "### 1.7.2 Categorical Attributes"
   ]
  },
  {
   "cell_type": "code",
   "execution_count": 23,
   "id": "4d4890cc",
   "metadata": {
    "ExecuteTime": {
     "end_time": "2023-03-19T15:56:34.484501Z",
     "start_time": "2023-03-19T15:56:33.931973Z"
    }
   },
   "outputs": [
    {
     "name": "stdout",
     "output_type": "stream",
     "text": [
      "Total of invoices with letter:  9291\n",
      "Total of invoices with letter and quantity < 0:  9288\n"
     ]
    }
   ],
   "source": [
    "# cat_attributes['invoice_no'].astype('int64')\n",
    "# invoice_no\n",
    "df_letter_invoices = df1.loc[df1['invoice_no'].apply( lambda x: bool(re.search('[^0-9]+', x)) )]\n",
    "print('Total of invoices with letter: ', df_letter_invoices.shape[0])\n",
    "print('Total of invoices with letter and quantity < 0: ',df_letter_invoices.loc[\n",
    "                                        df_letter_invoices['quantity'] < 0].shape[0])"
   ]
  },
  {
   "cell_type": "code",
   "execution_count": 24,
   "id": "5a289133",
   "metadata": {
    "ExecuteTime": {
     "end_time": "2023-03-19T15:56:35.010172Z",
     "start_time": "2023-03-19T15:56:34.486497Z"
    }
   },
   "outputs": [
    {
     "data": {
      "text/plain": [
       "array(['POST', 'D', 'DOT', 'M', 'S', 'AMAZONFEE', 'm', 'DCGSSBOY',\n",
       "       'DCGSSGIRL', 'PADS', 'B', 'CRUK'], dtype=object)"
      ]
     },
     "execution_count": 24,
     "metadata": {},
     "output_type": "execute_result"
    }
   ],
   "source": [
    "# stock code\n",
    "# pegar somente letras\n",
    "df1.loc[df1['stock_code'].apply( lambda x: bool(re.search('^[a-zA-Z]+$', x)) ),\n",
    "                   'stock_code'].unique()"
   ]
  },
  {
   "cell_type": "code",
   "execution_count": 25,
   "id": "e97a3f03",
   "metadata": {
    "ExecuteTime": {
     "end_time": "2023-03-19T15:56:35.025835Z",
     "start_time": "2023-03-19T15:56:35.014175Z"
    }
   },
   "outputs": [],
   "source": [
    "# acao:  remove stock_code in ['POST', 'D', 'M', 'PADS', 'DOT', 'CRUK']\n"
   ]
  },
  {
   "cell_type": "code",
   "execution_count": 26,
   "id": "262908fd",
   "metadata": {
    "ExecuteTime": {
     "end_time": "2023-03-19T15:56:35.040981Z",
     "start_time": "2023-03-19T15:56:35.027013Z"
    }
   },
   "outputs": [
    {
     "data": {
      "text/html": [
       "<div>\n",
       "<style scoped>\n",
       "    .dataframe tbody tr th:only-of-type {\n",
       "        vertical-align: middle;\n",
       "    }\n",
       "\n",
       "    .dataframe tbody tr th {\n",
       "        vertical-align: top;\n",
       "    }\n",
       "\n",
       "    .dataframe thead th {\n",
       "        text-align: right;\n",
       "    }\n",
       "</style>\n",
       "<table border=\"1\" class=\"dataframe\">\n",
       "  <thead>\n",
       "    <tr style=\"text-align: right;\">\n",
       "      <th></th>\n",
       "      <th>invoice_no</th>\n",
       "      <th>stock_code</th>\n",
       "      <th>description</th>\n",
       "      <th>quantity</th>\n",
       "      <th>invoice_date</th>\n",
       "      <th>unit_price</th>\n",
       "      <th>country</th>\n",
       "      <th>customer_id</th>\n",
       "    </tr>\n",
       "  </thead>\n",
       "  <tbody>\n",
       "    <tr>\n",
       "      <th>0</th>\n",
       "      <td>536365</td>\n",
       "      <td>85123A</td>\n",
       "      <td>WHITE HANGING HEART T-LIGHT HOLDER</td>\n",
       "      <td>6</td>\n",
       "      <td>2016-11-29</td>\n",
       "      <td>2.5500</td>\n",
       "      <td>United Kingdom</td>\n",
       "      <td>17850</td>\n",
       "    </tr>\n",
       "    <tr>\n",
       "      <th>1</th>\n",
       "      <td>536365</td>\n",
       "      <td>71053</td>\n",
       "      <td>WHITE METAL LANTERN</td>\n",
       "      <td>6</td>\n",
       "      <td>2016-11-29</td>\n",
       "      <td>3.3900</td>\n",
       "      <td>United Kingdom</td>\n",
       "      <td>17850</td>\n",
       "    </tr>\n",
       "    <tr>\n",
       "      <th>2</th>\n",
       "      <td>536365</td>\n",
       "      <td>84406B</td>\n",
       "      <td>CREAM CUPID HEARTS COAT HANGER</td>\n",
       "      <td>8</td>\n",
       "      <td>2016-11-29</td>\n",
       "      <td>2.7500</td>\n",
       "      <td>United Kingdom</td>\n",
       "      <td>17850</td>\n",
       "    </tr>\n",
       "    <tr>\n",
       "      <th>3</th>\n",
       "      <td>536365</td>\n",
       "      <td>84029G</td>\n",
       "      <td>KNITTED UNION FLAG HOT WATER BOTTLE</td>\n",
       "      <td>6</td>\n",
       "      <td>2016-11-29</td>\n",
       "      <td>3.3900</td>\n",
       "      <td>United Kingdom</td>\n",
       "      <td>17850</td>\n",
       "    </tr>\n",
       "    <tr>\n",
       "      <th>4</th>\n",
       "      <td>536365</td>\n",
       "      <td>84029E</td>\n",
       "      <td>RED WOOLLY HOTTIE WHITE HEART.</td>\n",
       "      <td>6</td>\n",
       "      <td>2016-11-29</td>\n",
       "      <td>3.3900</td>\n",
       "      <td>United Kingdom</td>\n",
       "      <td>17850</td>\n",
       "    </tr>\n",
       "  </tbody>\n",
       "</table>\n",
       "</div>"
      ],
      "text/plain": [
       "  invoice_no stock_code                          description  quantity  \\\n",
       "0     536365     85123A   WHITE HANGING HEART T-LIGHT HOLDER         6   \n",
       "1     536365      71053                  WHITE METAL LANTERN         6   \n",
       "2     536365     84406B       CREAM CUPID HEARTS COAT HANGER         8   \n",
       "3     536365     84029G  KNITTED UNION FLAG HOT WATER BOTTLE         6   \n",
       "4     536365     84029E       RED WOOLLY HOTTIE WHITE HEART.         6   \n",
       "\n",
       "  invoice_date  unit_price         country  customer_id  \n",
       "0   2016-11-29      2.5500  United Kingdom        17850  \n",
       "1   2016-11-29      3.3900  United Kingdom        17850  \n",
       "2   2016-11-29      2.7500  United Kingdom        17850  \n",
       "3   2016-11-29      3.3900  United Kingdom        17850  \n",
       "4   2016-11-29      3.3900  United Kingdom        17850  "
      ]
     },
     "execution_count": 26,
     "metadata": {},
     "output_type": "execute_result"
    }
   ],
   "source": [
    "# description\n",
    "df1.head()\n",
    "\n",
    "# delete description"
   ]
  },
  {
   "cell_type": "code",
   "execution_count": 27,
   "id": "95293dd5",
   "metadata": {
    "ExecuteTime": {
     "end_time": "2023-03-19T15:56:35.088185Z",
     "start_time": "2023-03-19T15:56:35.042976Z"
    }
   },
   "outputs": [
    {
     "data": {
      "text/plain": [
       "array(['United Kingdom', 'France', 'Australia', 'Netherlands', 'Germany',\n",
       "       'Norway', 'EIRE', 'Switzerland', 'Spain', 'Poland', 'Portugal',\n",
       "       'Italy', 'Belgium', 'Lithuania', 'Japan', 'Iceland',\n",
       "       'Channel Islands', 'Denmark', 'Cyprus', 'Sweden', 'Austria',\n",
       "       'Israel', 'Finland', 'Bahrain', 'Greece', 'Hong Kong', 'Singapore',\n",
       "       'Lebanon', 'United Arab Emirates', 'Saudi Arabia',\n",
       "       'Czech Republic', 'Canada', 'Unspecified', 'Brazil', 'USA',\n",
       "       'European Community', 'Malta', 'RSA'], dtype=object)"
      ]
     },
     "execution_count": 27,
     "metadata": {},
     "output_type": "execute_result"
    }
   ],
   "source": [
    "# country\n",
    "df1['country'].unique()"
   ]
  },
  {
   "cell_type": "code",
   "execution_count": 28,
   "id": "664b91b6",
   "metadata": {
    "ExecuteTime": {
     "end_time": "2023-03-19T15:56:35.136104Z",
     "start_time": "2023-03-19T15:56:35.094170Z"
    }
   },
   "outputs": [
    {
     "data": {
      "text/plain": [
       "United Kingdom   0.9143\n",
       "Germany          0.0175\n",
       "France           0.0158\n",
       "EIRE             0.0151\n",
       "Spain            0.0047\n",
       "Name: country, dtype: float64"
      ]
     },
     "execution_count": 28,
     "metadata": {},
     "output_type": "execute_result"
    }
   ],
   "source": [
    "df1['country'].value_counts( normalize = True).head()"
   ]
  },
  {
   "cell_type": "code",
   "execution_count": 29,
   "id": "ebf6bae4",
   "metadata": {
    "ExecuteTime": {
     "end_time": "2023-03-19T15:56:35.215847Z",
     "start_time": "2023-03-19T15:56:35.138052Z"
    }
   },
   "outputs": [
    {
     "data": {
      "text/html": [
       "<div>\n",
       "<style scoped>\n",
       "    .dataframe tbody tr th:only-of-type {\n",
       "        vertical-align: middle;\n",
       "    }\n",
       "\n",
       "    .dataframe tbody tr th {\n",
       "        vertical-align: top;\n",
       "    }\n",
       "\n",
       "    .dataframe thead th {\n",
       "        text-align: right;\n",
       "    }\n",
       "</style>\n",
       "<table border=\"1\" class=\"dataframe\">\n",
       "  <thead>\n",
       "    <tr style=\"text-align: right;\">\n",
       "      <th></th>\n",
       "      <th>customer_id</th>\n",
       "    </tr>\n",
       "    <tr>\n",
       "      <th>country</th>\n",
       "      <th></th>\n",
       "    </tr>\n",
       "  </thead>\n",
       "  <tbody>\n",
       "    <tr>\n",
       "      <th>United Kingdom</th>\n",
       "      <td>7587</td>\n",
       "    </tr>\n",
       "    <tr>\n",
       "      <th>Germany</th>\n",
       "      <td>95</td>\n",
       "    </tr>\n",
       "    <tr>\n",
       "      <th>France</th>\n",
       "      <td>90</td>\n",
       "    </tr>\n",
       "    <tr>\n",
       "      <th>EIRE</th>\n",
       "      <td>44</td>\n",
       "    </tr>\n",
       "    <tr>\n",
       "      <th>Spain</th>\n",
       "      <td>31</td>\n",
       "    </tr>\n",
       "  </tbody>\n",
       "</table>\n",
       "</div>"
      ],
      "text/plain": [
       "                customer_id\n",
       "country                    \n",
       "United Kingdom         7587\n",
       "Germany                  95\n",
       "France                   90\n",
       "EIRE                     44\n",
       "Spain                    31"
      ]
     },
     "execution_count": 29,
     "metadata": {},
     "output_type": "execute_result"
    }
   ],
   "source": [
    "df1[['country','customer_id']].drop_duplicates().groupby('country').count().sort_values(by = 'customer_id',\n",
    "                                                                                        ascending = False).head()"
   ]
  },
  {
   "cell_type": "code",
   "execution_count": null,
   "id": "159900ee",
   "metadata": {},
   "outputs": [],
   "source": []
  },
  {
   "cell_type": "code",
   "execution_count": null,
   "id": "31e7cde6",
   "metadata": {},
   "outputs": [],
   "source": []
  },
  {
   "cell_type": "markdown",
   "id": "97f2f075",
   "metadata": {},
   "source": [
    "# 2.0 Filtragem das variáveis"
   ]
  },
  {
   "cell_type": "code",
   "execution_count": 30,
   "id": "87d2010f",
   "metadata": {
    "ExecuteTime": {
     "end_time": "2023-03-19T15:56:35.247759Z",
     "start_time": "2023-03-19T15:56:35.218845Z"
    }
   },
   "outputs": [],
   "source": [
    "df2 = df1.copy()"
   ]
  },
  {
   "cell_type": "code",
   "execution_count": 31,
   "id": "7b6bed13",
   "metadata": {
    "ExecuteTime": {
     "end_time": "2023-03-19T15:56:35.550758Z",
     "start_time": "2023-03-19T15:56:35.250753Z"
    }
   },
   "outputs": [
    {
     "data": {
      "text/html": [
       "<div>\n",
       "<style scoped>\n",
       "    .dataframe tbody tr th:only-of-type {\n",
       "        vertical-align: middle;\n",
       "    }\n",
       "\n",
       "    .dataframe tbody tr th {\n",
       "        vertical-align: top;\n",
       "    }\n",
       "\n",
       "    .dataframe thead th {\n",
       "        text-align: right;\n",
       "    }\n",
       "</style>\n",
       "<table border=\"1\" class=\"dataframe\">\n",
       "  <thead>\n",
       "    <tr style=\"text-align: right;\">\n",
       "      <th></th>\n",
       "      <th>invoice_no</th>\n",
       "      <th>stock_code</th>\n",
       "      <th>description</th>\n",
       "      <th>quantity</th>\n",
       "      <th>invoice_date</th>\n",
       "      <th>unit_price</th>\n",
       "      <th>country</th>\n",
       "      <th>customer_id</th>\n",
       "    </tr>\n",
       "  </thead>\n",
       "  <tbody>\n",
       "    <tr>\n",
       "      <th>61619</th>\n",
       "      <td>541431</td>\n",
       "      <td>23166</td>\n",
       "      <td>MEDIUM CERAMIC TOP STORAGE JAR</td>\n",
       "      <td>74215</td>\n",
       "      <td>2017-01-16</td>\n",
       "      <td>1.0400</td>\n",
       "      <td>United Kingdom</td>\n",
       "      <td>12346</td>\n",
       "    </tr>\n",
       "    <tr>\n",
       "      <th>61624</th>\n",
       "      <td>C541433</td>\n",
       "      <td>23166</td>\n",
       "      <td>MEDIUM CERAMIC TOP STORAGE JAR</td>\n",
       "      <td>-74215</td>\n",
       "      <td>2017-01-16</td>\n",
       "      <td>1.0400</td>\n",
       "      <td>United Kingdom</td>\n",
       "      <td>12346</td>\n",
       "    </tr>\n",
       "    <tr>\n",
       "      <th>14966</th>\n",
       "      <td>537626</td>\n",
       "      <td>84558A</td>\n",
       "      <td>3D DOG PICTURE PLAYING CARDS</td>\n",
       "      <td>24</td>\n",
       "      <td>2016-12-05</td>\n",
       "      <td>2.9500</td>\n",
       "      <td>Iceland</td>\n",
       "      <td>12347</td>\n",
       "    </tr>\n",
       "    <tr>\n",
       "      <th>14939</th>\n",
       "      <td>537626</td>\n",
       "      <td>22375</td>\n",
       "      <td>AIRLINE BAG VINTAGE JET SET BROWN</td>\n",
       "      <td>4</td>\n",
       "      <td>2016-12-05</td>\n",
       "      <td>4.2500</td>\n",
       "      <td>Iceland</td>\n",
       "      <td>12347</td>\n",
       "    </tr>\n",
       "    <tr>\n",
       "      <th>14948</th>\n",
       "      <td>537626</td>\n",
       "      <td>22725</td>\n",
       "      <td>ALARM CLOCK BAKELIKE CHOCOLATE</td>\n",
       "      <td>4</td>\n",
       "      <td>2016-12-05</td>\n",
       "      <td>3.7500</td>\n",
       "      <td>Iceland</td>\n",
       "      <td>12347</td>\n",
       "    </tr>\n",
       "    <tr>\n",
       "      <th>14949</th>\n",
       "      <td>537626</td>\n",
       "      <td>22726</td>\n",
       "      <td>ALARM CLOCK BAKELIKE GREEN</td>\n",
       "      <td>4</td>\n",
       "      <td>2016-12-05</td>\n",
       "      <td>3.7500</td>\n",
       "      <td>Iceland</td>\n",
       "      <td>12347</td>\n",
       "    </tr>\n",
       "    <tr>\n",
       "      <th>14952</th>\n",
       "      <td>537626</td>\n",
       "      <td>22729</td>\n",
       "      <td>ALARM CLOCK BAKELIKE ORANGE</td>\n",
       "      <td>4</td>\n",
       "      <td>2016-12-05</td>\n",
       "      <td>3.7500</td>\n",
       "      <td>Iceland</td>\n",
       "      <td>12347</td>\n",
       "    </tr>\n",
       "    <tr>\n",
       "      <th>14951</th>\n",
       "      <td>537626</td>\n",
       "      <td>22728</td>\n",
       "      <td>ALARM CLOCK BAKELIKE PINK</td>\n",
       "      <td>4</td>\n",
       "      <td>2016-12-05</td>\n",
       "      <td>3.7500</td>\n",
       "      <td>Iceland</td>\n",
       "      <td>12347</td>\n",
       "    </tr>\n",
       "    <tr>\n",
       "      <th>14950</th>\n",
       "      <td>537626</td>\n",
       "      <td>22727</td>\n",
       "      <td>ALARM CLOCK BAKELIKE RED</td>\n",
       "      <td>4</td>\n",
       "      <td>2016-12-05</td>\n",
       "      <td>3.7500</td>\n",
       "      <td>Iceland</td>\n",
       "      <td>12347</td>\n",
       "    </tr>\n",
       "    <tr>\n",
       "      <th>14955</th>\n",
       "      <td>537626</td>\n",
       "      <td>21171</td>\n",
       "      <td>BATHROOM METAL SIGN</td>\n",
       "      <td>12</td>\n",
       "      <td>2016-12-05</td>\n",
       "      <td>1.4500</td>\n",
       "      <td>Iceland</td>\n",
       "      <td>12347</td>\n",
       "    </tr>\n",
       "  </tbody>\n",
       "</table>\n",
       "</div>"
      ],
      "text/plain": [
       "      invoice_no stock_code                        description  quantity  \\\n",
       "61619     541431      23166     MEDIUM CERAMIC TOP STORAGE JAR     74215   \n",
       "61624    C541433      23166     MEDIUM CERAMIC TOP STORAGE JAR    -74215   \n",
       "14966     537626     84558A       3D DOG PICTURE PLAYING CARDS        24   \n",
       "14939     537626      22375  AIRLINE BAG VINTAGE JET SET BROWN         4   \n",
       "14948     537626      22725     ALARM CLOCK BAKELIKE CHOCOLATE         4   \n",
       "14949     537626      22726         ALARM CLOCK BAKELIKE GREEN         4   \n",
       "14952     537626      22729        ALARM CLOCK BAKELIKE ORANGE         4   \n",
       "14951     537626      22728          ALARM CLOCK BAKELIKE PINK         4   \n",
       "14950     537626      22727          ALARM CLOCK BAKELIKE RED          4   \n",
       "14955     537626      21171               BATHROOM METAL SIGN         12   \n",
       "\n",
       "      invoice_date  unit_price         country  customer_id  \n",
       "61619   2017-01-16      1.0400  United Kingdom        12346  \n",
       "61624   2017-01-16      1.0400  United Kingdom        12346  \n",
       "14966   2016-12-05      2.9500         Iceland        12347  \n",
       "14939   2016-12-05      4.2500         Iceland        12347  \n",
       "14948   2016-12-05      3.7500         Iceland        12347  \n",
       "14949   2016-12-05      3.7500         Iceland        12347  \n",
       "14952   2016-12-05      3.7500         Iceland        12347  \n",
       "14951   2016-12-05      3.7500         Iceland        12347  \n",
       "14950   2016-12-05      3.7500         Iceland        12347  \n",
       "14955   2016-12-05      1.4500         Iceland        12347  "
      ]
     },
     "execution_count": 31,
     "metadata": {},
     "output_type": "execute_result"
    }
   ],
   "source": [
    "df2.sort_values(['customer_id','invoice_no','description']).head(10) \n",
    "# há devolução se olhar o primeiro individuo, pois o \"C\" parece ser a flag para devolução"
   ]
  },
  {
   "cell_type": "code",
   "execution_count": 32,
   "id": "82f76531",
   "metadata": {
    "ExecuteTime": {
     "end_time": "2023-03-19T15:56:35.582710Z",
     "start_time": "2023-03-19T15:56:35.552707Z"
    }
   },
   "outputs": [
    {
     "data": {
      "text/html": [
       "<div>\n",
       "<style scoped>\n",
       "    .dataframe tbody tr th:only-of-type {\n",
       "        vertical-align: middle;\n",
       "    }\n",
       "\n",
       "    .dataframe tbody tr th {\n",
       "        vertical-align: top;\n",
       "    }\n",
       "\n",
       "    .dataframe thead th {\n",
       "        text-align: right;\n",
       "    }\n",
       "</style>\n",
       "<table border=\"1\" class=\"dataframe\">\n",
       "  <thead>\n",
       "    <tr style=\"text-align: right;\">\n",
       "      <th></th>\n",
       "      <th>invoice_no</th>\n",
       "      <th>stock_code</th>\n",
       "      <th>description</th>\n",
       "      <th>quantity</th>\n",
       "      <th>invoice_date</th>\n",
       "      <th>unit_price</th>\n",
       "      <th>country</th>\n",
       "      <th>customer_id</th>\n",
       "    </tr>\n",
       "  </thead>\n",
       "  <tbody>\n",
       "    <tr>\n",
       "      <th>2406</th>\n",
       "      <td>536589</td>\n",
       "      <td>21777</td>\n",
       "      <td>NaN</td>\n",
       "      <td>-10</td>\n",
       "      <td>2016-11-29</td>\n",
       "      <td>0.0000</td>\n",
       "      <td>United Kingdom</td>\n",
       "      <td>19013</td>\n",
       "    </tr>\n",
       "    <tr>\n",
       "      <th>4347</th>\n",
       "      <td>536764</td>\n",
       "      <td>84952C</td>\n",
       "      <td>NaN</td>\n",
       "      <td>-38</td>\n",
       "      <td>2016-11-30</td>\n",
       "      <td>0.0000</td>\n",
       "      <td>United Kingdom</td>\n",
       "      <td>19019</td>\n",
       "    </tr>\n",
       "    <tr>\n",
       "      <th>7188</th>\n",
       "      <td>536996</td>\n",
       "      <td>22712</td>\n",
       "      <td>NaN</td>\n",
       "      <td>-20</td>\n",
       "      <td>2016-12-01</td>\n",
       "      <td>0.0000</td>\n",
       "      <td>United Kingdom</td>\n",
       "      <td>19036</td>\n",
       "    </tr>\n",
       "    <tr>\n",
       "      <th>7189</th>\n",
       "      <td>536997</td>\n",
       "      <td>22028</td>\n",
       "      <td>NaN</td>\n",
       "      <td>-20</td>\n",
       "      <td>2016-12-01</td>\n",
       "      <td>0.0000</td>\n",
       "      <td>United Kingdom</td>\n",
       "      <td>19037</td>\n",
       "    </tr>\n",
       "    <tr>\n",
       "      <th>7190</th>\n",
       "      <td>536998</td>\n",
       "      <td>85067</td>\n",
       "      <td>NaN</td>\n",
       "      <td>-6</td>\n",
       "      <td>2016-12-01</td>\n",
       "      <td>0.0000</td>\n",
       "      <td>United Kingdom</td>\n",
       "      <td>19038</td>\n",
       "    </tr>\n",
       "  </tbody>\n",
       "</table>\n",
       "</div>"
      ],
      "text/plain": [
       "     invoice_no stock_code description  quantity invoice_date  unit_price  \\\n",
       "2406     536589      21777         NaN       -10   2016-11-29      0.0000   \n",
       "4347     536764     84952C         NaN       -38   2016-11-30      0.0000   \n",
       "7188     536996      22712         NaN       -20   2016-12-01      0.0000   \n",
       "7189     536997      22028         NaN       -20   2016-12-01      0.0000   \n",
       "7190     536998      85067         NaN        -6   2016-12-01      0.0000   \n",
       "\n",
       "             country  customer_id  \n",
       "2406  United Kingdom        19013  \n",
       "4347  United Kingdom        19019  \n",
       "7188  United Kingdom        19036  \n",
       "7189  United Kingdom        19037  \n",
       "7190  United Kingdom        19038  "
      ]
     },
     "execution_count": 32,
     "metadata": {},
     "output_type": "execute_result"
    }
   ],
   "source": [
    "# quantity (negative)\n",
    "df2.loc[df2['quantity'] < 0 ].sort_values('invoice_no').head()"
   ]
  },
  {
   "cell_type": "code",
   "execution_count": 33,
   "id": "4d25ad10",
   "metadata": {
    "ExecuteTime": {
     "end_time": "2023-03-19T15:56:35.867863Z",
     "start_time": "2023-03-19T15:56:35.586658Z"
    }
   },
   "outputs": [],
   "source": [
    "#====== NUMERICAL ===========\n",
    "# unity price > 0\n",
    "df2 = df2.loc[df2['unit_price'] > 0.040]\n",
    "\n",
    "# stock code != ['POST, D, M, DOT, CRUK]\n",
    "df2 = df2.loc[~df2['stock_code'].isin( ['POST', 'D', 'DOT', 'M', 'S', 'AMAZONFEE', 'm', 'DCGSSBOY',\n",
    "       'DCGSSGIRL', 'PADS', 'B', 'CRUK'] ) ]\n",
    "\n",
    "# description\n",
    "df2 = df2.drop(['description'], axis = 1)\n",
    "\n",
    "# country change\n",
    "df2 = df2.loc[ ~df2['country'].isin( ['Unspecified','European Community'])]\n",
    "\n",
    "\n",
    "# esse cliente apareceu com compras e estornos altos após o pandas profiling na etapa de verificar outliers\n",
    "df2 = df2.loc[~df2['customer_id'].isin( [16446])]\n",
    "\n",
    "\n",
    "# quantity\n",
    "df2_returns = df2.loc[ df2['quantity'] < 0]\n",
    "df2_purchases = df2.loc[ df2['quantity'] >= 0]"
   ]
  },
  {
   "cell_type": "code",
   "execution_count": null,
   "id": "f63fd4aa",
   "metadata": {},
   "outputs": [],
   "source": []
  },
  {
   "cell_type": "markdown",
   "id": "01186448",
   "metadata": {},
   "source": [
    "# 3.0 Feature Engineering"
   ]
  },
  {
   "cell_type": "code",
   "execution_count": 34,
   "id": "33186b55",
   "metadata": {
    "ExecuteTime": {
     "end_time": "2023-03-19T15:56:35.898844Z",
     "start_time": "2023-03-19T15:56:35.869858Z"
    }
   },
   "outputs": [],
   "source": [
    "df3 = df2.copy()"
   ]
  },
  {
   "cell_type": "markdown",
   "id": "7c97441c",
   "metadata": {},
   "source": [
    "## 3.1 Feature creation"
   ]
  },
  {
   "cell_type": "code",
   "execution_count": 35,
   "id": "a22d31a6",
   "metadata": {
    "ExecuteTime": {
     "end_time": "2023-03-19T15:56:35.930756Z",
     "start_time": "2023-03-19T15:56:35.901835Z"
    }
   },
   "outputs": [
    {
     "data": {
      "text/html": [
       "<div>\n",
       "<style scoped>\n",
       "    .dataframe tbody tr th:only-of-type {\n",
       "        vertical-align: middle;\n",
       "    }\n",
       "\n",
       "    .dataframe tbody tr th {\n",
       "        vertical-align: top;\n",
       "    }\n",
       "\n",
       "    .dataframe thead th {\n",
       "        text-align: right;\n",
       "    }\n",
       "</style>\n",
       "<table border=\"1\" class=\"dataframe\">\n",
       "  <thead>\n",
       "    <tr style=\"text-align: right;\">\n",
       "      <th></th>\n",
       "      <th>customer_id</th>\n",
       "    </tr>\n",
       "  </thead>\n",
       "  <tbody>\n",
       "    <tr>\n",
       "      <th>0</th>\n",
       "      <td>17850</td>\n",
       "    </tr>\n",
       "    <tr>\n",
       "      <th>1</th>\n",
       "      <td>13047</td>\n",
       "    </tr>\n",
       "    <tr>\n",
       "      <th>2</th>\n",
       "      <td>12583</td>\n",
       "    </tr>\n",
       "    <tr>\n",
       "      <th>3</th>\n",
       "      <td>13748</td>\n",
       "    </tr>\n",
       "    <tr>\n",
       "      <th>4</th>\n",
       "      <td>15100</td>\n",
       "    </tr>\n",
       "  </tbody>\n",
       "</table>\n",
       "</div>"
      ],
      "text/plain": [
       "   customer_id\n",
       "0        17850\n",
       "1        13047\n",
       "2        12583\n",
       "3        13748\n",
       "4        15100"
      ]
     },
     "execution_count": 35,
     "metadata": {},
     "output_type": "execute_result"
    }
   ],
   "source": [
    "# data reference\n",
    "df_ref = df3.drop(['invoice_no', 'stock_code', 'quantity', 'invoice_date',\n",
    "       'unit_price', 'country'], axis = 1).drop_duplicates().reset_index(drop = True)\n",
    "\n",
    "df_ref.head()"
   ]
  },
  {
   "cell_type": "markdown",
   "id": "e772eca5",
   "metadata": {},
   "source": [
    "### 3.1.1 Gross revenue"
   ]
  },
  {
   "cell_type": "code",
   "execution_count": 36,
   "id": "1de5ade7",
   "metadata": {
    "ExecuteTime": {
     "end_time": "2023-03-19T15:56:35.946773Z",
     "start_time": "2023-03-19T15:56:35.933750Z"
    }
   },
   "outputs": [],
   "source": [
    "# gross revenue = quantity * price (faturamento)\n",
    "df2_purchases['gross_revenue'] = df2_purchases['quantity'] * df2_purchases['unit_price']"
   ]
  },
  {
   "cell_type": "code",
   "execution_count": 37,
   "id": "9a7340c2",
   "metadata": {
    "ExecuteTime": {
     "end_time": "2023-03-19T15:56:35.994632Z",
     "start_time": "2023-03-19T15:56:35.948711Z"
    }
   },
   "outputs": [],
   "source": [
    "# monetary\n",
    "df_monetary = df2_purchases[['customer_id','gross_revenue']].groupby('customer_id').sum().reset_index()"
   ]
  },
  {
   "cell_type": "code",
   "execution_count": 38,
   "id": "fe4fe5b0",
   "metadata": {
    "ExecuteTime": {
     "end_time": "2023-03-19T15:56:36.010590Z",
     "start_time": "2023-03-19T15:56:35.996580Z"
    }
   },
   "outputs": [
    {
     "data": {
      "text/plain": [
       "customer_id       0\n",
       "gross_revenue    91\n",
       "dtype: int64"
      ]
     },
     "execution_count": 38,
     "metadata": {},
     "output_type": "execute_result"
    }
   ],
   "source": [
    "df_ref = pd.merge(df_ref, df_monetary, on = 'customer_id',how = 'left')\n",
    "\n",
    "df_ref.isna().sum() # tem NA por conta de ser somente as compras 'positivas'"
   ]
  },
  {
   "cell_type": "markdown",
   "id": "93a48d98",
   "metadata": {},
   "source": [
    "### 3.1.2 Recency - day from last purchase"
   ]
  },
  {
   "cell_type": "code",
   "execution_count": 39,
   "id": "ad23bde4",
   "metadata": {
    "ExecuteTime": {
     "end_time": "2023-03-19T15:56:36.074418Z",
     "start_time": "2023-03-19T15:56:36.012538Z"
    }
   },
   "outputs": [
    {
     "data": {
      "text/plain": [
       "customer_id       0\n",
       "gross_revenue    91\n",
       "recency_days     91\n",
       "dtype: int64"
      ]
     },
     "execution_count": 39,
     "metadata": {},
     "output_type": "execute_result"
    }
   ],
   "source": [
    "# recency - last day purchase\n",
    "df_recency = df2_purchases[['customer_id','invoice_date']].groupby('customer_id').max().reset_index()\n",
    "\n",
    "# pego o df1 com max() pois eu considero que seria eu olhando pra \"hoje\" no meu dataset e tirando 'hoje - datas'\n",
    "df_recency['recency_days'] = ( df2_purchases['invoice_date'].max() - df_recency['invoice_date']  ).dt.days\n",
    "df_recency = df_recency[['customer_id','recency_days']].copy()\n",
    "df_ref = pd.merge(df_ref, df_recency, on = 'customer_id', how = 'left')\n",
    "df_ref.isna().sum()"
   ]
  },
  {
   "cell_type": "code",
   "execution_count": null,
   "id": "184a0687",
   "metadata": {
    "ExecuteTime": {
     "end_time": "2023-03-05T17:01:27.222231Z",
     "start_time": "2023-03-05T17:01:27.211218Z"
    }
   },
   "outputs": [],
   "source": []
  },
  {
   "cell_type": "code",
   "execution_count": null,
   "id": "65b09281",
   "metadata": {
    "ExecuteTime": {
     "end_time": "2023-03-05T17:00:20.916428Z",
     "start_time": "2023-03-05T17:00:20.903465Z"
    }
   },
   "outputs": [],
   "source": []
  },
  {
   "cell_type": "markdown",
   "id": "967c149d",
   "metadata": {},
   "source": [
    "### 3.1.5 Quantity of unique products purchased"
   ]
  },
  {
   "cell_type": "code",
   "execution_count": 40,
   "id": "013aa145",
   "metadata": {
    "ExecuteTime": {
     "end_time": "2023-03-19T15:56:36.186131Z",
     "start_time": "2023-03-19T15:56:36.076396Z"
    }
   },
   "outputs": [
    {
     "data": {
      "text/plain": [
       "customer_id       0\n",
       "gross_revenue    91\n",
       "recency_days     91\n",
       "qtde_products    91\n",
       "dtype: int64"
      ]
     },
     "execution_count": 40,
     "metadata": {},
     "output_type": "execute_result"
    }
   ],
   "source": [
    "# number of products\n",
    "df_frequency = df2_purchases[['customer_id','stock_code']].groupby(\n",
    "                                'customer_id').count().reset_index().rename(columns={'stock_code':'qtde_products'})\n",
    "df_ref = pd.merge(df_ref, df_frequency, on = 'customer_id', how = 'left')\n",
    "df_ref.isna().sum()"
   ]
  },
  {
   "cell_type": "code",
   "execution_count": 41,
   "id": "873ef4ac",
   "metadata": {
    "ExecuteTime": {
     "end_time": "2023-03-19T15:56:36.201091Z",
     "start_time": "2023-03-19T15:56:36.188125Z"
    }
   },
   "outputs": [
    {
     "data": {
      "text/html": [
       "<div>\n",
       "<style scoped>\n",
       "    .dataframe tbody tr th:only-of-type {\n",
       "        vertical-align: middle;\n",
       "    }\n",
       "\n",
       "    .dataframe tbody tr th {\n",
       "        vertical-align: top;\n",
       "    }\n",
       "\n",
       "    .dataframe thead th {\n",
       "        text-align: right;\n",
       "    }\n",
       "</style>\n",
       "<table border=\"1\" class=\"dataframe\">\n",
       "  <thead>\n",
       "    <tr style=\"text-align: right;\">\n",
       "      <th></th>\n",
       "      <th>customer_id</th>\n",
       "      <th>gross_revenue</th>\n",
       "      <th>recency_days</th>\n",
       "      <th>qtde_products</th>\n",
       "    </tr>\n",
       "  </thead>\n",
       "  <tbody>\n",
       "    <tr>\n",
       "      <th>0</th>\n",
       "      <td>17850</td>\n",
       "      <td>5391.2100</td>\n",
       "      <td>372.0000</td>\n",
       "      <td>297.0000</td>\n",
       "    </tr>\n",
       "    <tr>\n",
       "      <th>1</th>\n",
       "      <td>13047</td>\n",
       "      <td>3232.5900</td>\n",
       "      <td>56.0000</td>\n",
       "      <td>171.0000</td>\n",
       "    </tr>\n",
       "    <tr>\n",
       "      <th>2</th>\n",
       "      <td>12583</td>\n",
       "      <td>6705.3800</td>\n",
       "      <td>2.0000</td>\n",
       "      <td>232.0000</td>\n",
       "    </tr>\n",
       "    <tr>\n",
       "      <th>3</th>\n",
       "      <td>13748</td>\n",
       "      <td>948.2500</td>\n",
       "      <td>95.0000</td>\n",
       "      <td>28.0000</td>\n",
       "    </tr>\n",
       "    <tr>\n",
       "      <th>4</th>\n",
       "      <td>15100</td>\n",
       "      <td>876.0000</td>\n",
       "      <td>333.0000</td>\n",
       "      <td>3.0000</td>\n",
       "    </tr>\n",
       "  </tbody>\n",
       "</table>\n",
       "</div>"
      ],
      "text/plain": [
       "   customer_id  gross_revenue  recency_days  qtde_products\n",
       "0        17850      5391.2100      372.0000       297.0000\n",
       "1        13047      3232.5900       56.0000       171.0000\n",
       "2        12583      6705.3800        2.0000       232.0000\n",
       "3        13748       948.2500       95.0000        28.0000\n",
       "4        15100       876.0000      333.0000         3.0000"
      ]
     },
     "execution_count": 41,
     "metadata": {},
     "output_type": "execute_result"
    }
   ],
   "source": [
    "df_ref.head()"
   ]
  },
  {
   "cell_type": "markdown",
   "id": "eb14d048",
   "metadata": {},
   "source": [
    "### 3.1.7 Frequency purchase"
   ]
  },
  {
   "cell_type": "code",
   "execution_count": 42,
   "id": "e7aabfc5",
   "metadata": {
    "ExecuteTime": {
     "end_time": "2023-03-19T15:56:36.312824Z",
     "start_time": "2023-03-19T15:56:36.204085Z"
    }
   },
   "outputs": [
    {
     "data": {
      "text/html": [
       "<div>\n",
       "<style scoped>\n",
       "    .dataframe tbody tr th:only-of-type {\n",
       "        vertical-align: middle;\n",
       "    }\n",
       "\n",
       "    .dataframe tbody tr th {\n",
       "        vertical-align: top;\n",
       "    }\n",
       "\n",
       "    .dataframe thead th {\n",
       "        text-align: right;\n",
       "    }\n",
       "</style>\n",
       "<table border=\"1\" class=\"dataframe\">\n",
       "  <thead>\n",
       "    <tr style=\"text-align: right;\">\n",
       "      <th></th>\n",
       "      <th>invoice_no</th>\n",
       "      <th>customer_id</th>\n",
       "      <th>invoice_date</th>\n",
       "    </tr>\n",
       "  </thead>\n",
       "  <tbody>\n",
       "    <tr>\n",
       "      <th>0</th>\n",
       "      <td>536365</td>\n",
       "      <td>17850</td>\n",
       "      <td>2016-11-29</td>\n",
       "    </tr>\n",
       "    <tr>\n",
       "      <th>7</th>\n",
       "      <td>536366</td>\n",
       "      <td>17850</td>\n",
       "      <td>2016-11-29</td>\n",
       "    </tr>\n",
       "    <tr>\n",
       "      <th>9</th>\n",
       "      <td>536367</td>\n",
       "      <td>13047</td>\n",
       "      <td>2016-11-29</td>\n",
       "    </tr>\n",
       "    <tr>\n",
       "      <th>21</th>\n",
       "      <td>536368</td>\n",
       "      <td>13047</td>\n",
       "      <td>2016-11-29</td>\n",
       "    </tr>\n",
       "    <tr>\n",
       "      <th>25</th>\n",
       "      <td>536369</td>\n",
       "      <td>13047</td>\n",
       "      <td>2016-11-29</td>\n",
       "    </tr>\n",
       "  </tbody>\n",
       "</table>\n",
       "</div>"
      ],
      "text/plain": [
       "   invoice_no  customer_id invoice_date\n",
       "0      536365        17850   2016-11-29\n",
       "7      536366        17850   2016-11-29\n",
       "9      536367        13047   2016-11-29\n",
       "21     536368        13047   2016-11-29\n",
       "25     536369        13047   2016-11-29"
      ]
     },
     "execution_count": 42,
     "metadata": {},
     "output_type": "execute_result"
    }
   ],
   "source": [
    "df2[['invoice_no','customer_id','invoice_date']].drop_duplicates().head()"
   ]
  },
  {
   "cell_type": "code",
   "execution_count": 43,
   "id": "eacec176",
   "metadata": {
    "ExecuteTime": {
     "end_time": "2023-03-19T15:56:37.333064Z",
     "start_time": "2023-03-19T15:56:36.314828Z"
    }
   },
   "outputs": [
    {
     "data": {
      "text/html": [
       "<div>\n",
       "<style scoped>\n",
       "    .dataframe tbody tr th:only-of-type {\n",
       "        vertical-align: middle;\n",
       "    }\n",
       "\n",
       "    .dataframe tbody tr th {\n",
       "        vertical-align: top;\n",
       "    }\n",
       "\n",
       "    .dataframe thead th {\n",
       "        text-align: right;\n",
       "    }\n",
       "</style>\n",
       "<table border=\"1\" class=\"dataframe\">\n",
       "  <thead>\n",
       "    <tr style=\"text-align: right;\">\n",
       "      <th></th>\n",
       "      <th>customer_id</th>\n",
       "      <th>gross_revenue</th>\n",
       "      <th>recency_days</th>\n",
       "      <th>qtde_products</th>\n",
       "      <th>frequency</th>\n",
       "    </tr>\n",
       "  </thead>\n",
       "  <tbody>\n",
       "    <tr>\n",
       "      <th>0</th>\n",
       "      <td>17850</td>\n",
       "      <td>5391.2100</td>\n",
       "      <td>372.0000</td>\n",
       "      <td>297.0000</td>\n",
       "      <td>17.0000</td>\n",
       "    </tr>\n",
       "    <tr>\n",
       "      <th>1</th>\n",
       "      <td>13047</td>\n",
       "      <td>3232.5900</td>\n",
       "      <td>56.0000</td>\n",
       "      <td>171.0000</td>\n",
       "      <td>0.0283</td>\n",
       "    </tr>\n",
       "    <tr>\n",
       "      <th>2</th>\n",
       "      <td>12583</td>\n",
       "      <td>6705.3800</td>\n",
       "      <td>2.0000</td>\n",
       "      <td>232.0000</td>\n",
       "      <td>0.0403</td>\n",
       "    </tr>\n",
       "    <tr>\n",
       "      <th>3</th>\n",
       "      <td>13748</td>\n",
       "      <td>948.2500</td>\n",
       "      <td>95.0000</td>\n",
       "      <td>28.0000</td>\n",
       "      <td>0.0179</td>\n",
       "    </tr>\n",
       "    <tr>\n",
       "      <th>4</th>\n",
       "      <td>15100</td>\n",
       "      <td>876.0000</td>\n",
       "      <td>333.0000</td>\n",
       "      <td>3.0000</td>\n",
       "      <td>0.0732</td>\n",
       "    </tr>\n",
       "    <tr>\n",
       "      <th>...</th>\n",
       "      <td>...</td>\n",
       "      <td>...</td>\n",
       "      <td>...</td>\n",
       "      <td>...</td>\n",
       "      <td>...</td>\n",
       "    </tr>\n",
       "    <tr>\n",
       "      <th>5781</th>\n",
       "      <td>22706</td>\n",
       "      <td>5699.0000</td>\n",
       "      <td>1.0000</td>\n",
       "      <td>634.0000</td>\n",
       "      <td>1.0000</td>\n",
       "    </tr>\n",
       "    <tr>\n",
       "      <th>5782</th>\n",
       "      <td>22707</td>\n",
       "      <td>6756.0600</td>\n",
       "      <td>0.0000</td>\n",
       "      <td>730.0000</td>\n",
       "      <td>1.0000</td>\n",
       "    </tr>\n",
       "    <tr>\n",
       "      <th>5783</th>\n",
       "      <td>22708</td>\n",
       "      <td>3217.2000</td>\n",
       "      <td>0.0000</td>\n",
       "      <td>59.0000</td>\n",
       "      <td>1.0000</td>\n",
       "    </tr>\n",
       "    <tr>\n",
       "      <th>5784</th>\n",
       "      <td>22709</td>\n",
       "      <td>3950.7200</td>\n",
       "      <td>0.0000</td>\n",
       "      <td>217.0000</td>\n",
       "      <td>1.0000</td>\n",
       "    </tr>\n",
       "    <tr>\n",
       "      <th>5785</th>\n",
       "      <td>12713</td>\n",
       "      <td>794.5500</td>\n",
       "      <td>0.0000</td>\n",
       "      <td>37.0000</td>\n",
       "      <td>1.0000</td>\n",
       "    </tr>\n",
       "  </tbody>\n",
       "</table>\n",
       "<p>5786 rows × 5 columns</p>\n",
       "</div>"
      ],
      "text/plain": [
       "      customer_id  gross_revenue  recency_days  qtde_products  frequency\n",
       "0           17850      5391.2100      372.0000       297.0000    17.0000\n",
       "1           13047      3232.5900       56.0000       171.0000     0.0283\n",
       "2           12583      6705.3800        2.0000       232.0000     0.0403\n",
       "3           13748       948.2500       95.0000        28.0000     0.0179\n",
       "4           15100       876.0000      333.0000         3.0000     0.0732\n",
       "...           ...            ...           ...            ...        ...\n",
       "5781        22706      5699.0000        1.0000       634.0000     1.0000\n",
       "5782        22707      6756.0600        0.0000       730.0000     1.0000\n",
       "5783        22708      3217.2000        0.0000        59.0000     1.0000\n",
       "5784        22709      3950.7200        0.0000       217.0000     1.0000\n",
       "5785        12713       794.5500        0.0000        37.0000     1.0000\n",
       "\n",
       "[5786 rows x 5 columns]"
      ]
     },
     "execution_count": 43,
     "metadata": {},
     "output_type": "execute_result"
    }
   ],
   "source": [
    "df_aux = df2_purchases[['invoice_no','customer_id','invoice_date']].drop_duplicates().groupby('customer_id').agg(\n",
    "                    max_ = ('invoice_date','max'),\n",
    "                    min_ = ('invoice_date','min'),\n",
    "                    days_ = ('invoice_date',lambda x: (x.max() - x.min()).days + 1),\n",
    "                    buy_ = ('invoice_date','count')).reset_index()\n",
    "\n",
    "# frequency\n",
    "df_aux['frequency'] = df_aux[['days_','buy_']].apply(lambda x: x['buy_'] / x['days_'] if x['days_'] != 0\n",
    "                                                else 0, axis = 1)\n",
    "# merge\n",
    "df_ref = pd.merge(df_ref, df_aux[['customer_id','frequency']], on = 'customer_id', how = 'left')\n",
    "df_ref"
   ]
  },
  {
   "cell_type": "code",
   "execution_count": 44,
   "id": "ae6107a5",
   "metadata": {
    "ExecuteTime": {
     "end_time": "2023-03-19T15:56:37.348031Z",
     "start_time": "2023-03-19T15:56:37.335057Z"
    }
   },
   "outputs": [
    {
     "data": {
      "text/plain": [
       "customer_id       0\n",
       "gross_revenue    91\n",
       "recency_days     91\n",
       "qtde_products    91\n",
       "frequency        91\n",
       "dtype: int64"
      ]
     },
     "execution_count": 44,
     "metadata": {},
     "output_type": "execute_result"
    }
   ],
   "source": [
    "df_ref.isna().sum()"
   ]
  },
  {
   "cell_type": "code",
   "execution_count": null,
   "id": "2598c599",
   "metadata": {},
   "outputs": [],
   "source": []
  },
  {
   "cell_type": "markdown",
   "id": "83c4b982",
   "metadata": {},
   "source": [
    "### 3.1.8 Number of returns"
   ]
  },
  {
   "cell_type": "code",
   "execution_count": 45,
   "id": "0bdb879c",
   "metadata": {
    "ExecuteTime": {
     "end_time": "2023-03-19T15:56:37.380368Z",
     "start_time": "2023-03-19T15:56:37.350018Z"
    }
   },
   "outputs": [
    {
     "data": {
      "text/plain": [
       "customer_id       0\n",
       "gross_revenue    91\n",
       "recency_days     91\n",
       "qtde_products    91\n",
       "frequency        91\n",
       "qtde_returns      0\n",
       "dtype: int64"
      ]
     },
     "execution_count": 45,
     "metadata": {},
     "output_type": "execute_result"
    }
   ],
   "source": [
    "df_returns = df2_returns[['customer_id','quantity']].groupby('customer_id').sum().reset_index()\n",
    "df_returns.rename(columns = {'quantity':'qtde_returns'}, inplace = True)\n",
    "\n",
    "df_returns['qtde_returns'] = df_returns['qtde_returns'] * ( -1 )\n",
    "\n",
    "df_ref = pd.merge(df_ref, df_returns, on = 'customer_id', how = 'left')\n",
    "\n",
    "df_ref.loc[df_ref['qtde_returns'].isna(), 'qtde_returns'] = 0\n",
    "\n",
    "df_ref.isna().sum()"
   ]
  },
  {
   "cell_type": "code",
   "execution_count": null,
   "id": "0b66c8e1",
   "metadata": {},
   "outputs": [],
   "source": []
  },
  {
   "cell_type": "code",
   "execution_count": null,
   "id": "938a05ec",
   "metadata": {},
   "outputs": [],
   "source": []
  },
  {
   "cell_type": "markdown",
   "id": "d68bf649",
   "metadata": {
    "ExecuteTime": {
     "end_time": "2023-01-28T15:13:25.963360Z",
     "start_time": "2023-01-28T15:13:25.955379Z"
    }
   },
   "source": [
    "# 4.0 EDA (exploratory data analysis)"
   ]
  },
  {
   "cell_type": "code",
   "execution_count": 46,
   "id": "a6d92bd3",
   "metadata": {
    "ExecuteTime": {
     "end_time": "2023-03-19T15:56:37.396371Z",
     "start_time": "2023-03-19T15:56:37.384363Z"
    }
   },
   "outputs": [
    {
     "data": {
      "text/plain": [
       "customer_id      0\n",
       "gross_revenue    0\n",
       "recency_days     0\n",
       "qtde_products    0\n",
       "frequency        0\n",
       "qtde_returns     0\n",
       "dtype: int64"
      ]
     },
     "execution_count": 46,
     "metadata": {},
     "output_type": "execute_result"
    }
   ],
   "source": [
    "df4 = df_ref.dropna().copy()\n",
    "df4.isna().sum()"
   ]
  },
  {
   "cell_type": "code",
   "execution_count": 47,
   "id": "a1f3e67d",
   "metadata": {
    "ExecuteTime": {
     "end_time": "2023-03-19T15:56:37.412321Z",
     "start_time": "2023-03-19T15:56:37.398326Z"
    }
   },
   "outputs": [
    {
     "data": {
      "text/plain": [
       "(5695, 6)"
      ]
     },
     "execution_count": 47,
     "metadata": {},
     "output_type": "execute_result"
    }
   ],
   "source": [
    "df4.shape"
   ]
  },
  {
   "cell_type": "code",
   "execution_count": null,
   "id": "d55c38aa",
   "metadata": {},
   "outputs": [],
   "source": []
  },
  {
   "cell_type": "markdown",
   "id": "2aa8e919",
   "metadata": {},
   "source": [
    "## 4.3 Space Study"
   ]
  },
  {
   "cell_type": "code",
   "execution_count": 48,
   "id": "faa05e03",
   "metadata": {
    "ExecuteTime": {
     "end_time": "2023-03-19T15:56:37.444243Z",
     "start_time": "2023-03-19T15:56:37.414325Z"
    }
   },
   "outputs": [
    {
     "data": {
      "text/html": [
       "<div>\n",
       "<style scoped>\n",
       "    .dataframe tbody tr th:only-of-type {\n",
       "        vertical-align: middle;\n",
       "    }\n",
       "\n",
       "    .dataframe tbody tr th {\n",
       "        vertical-align: top;\n",
       "    }\n",
       "\n",
       "    .dataframe thead th {\n",
       "        text-align: right;\n",
       "    }\n",
       "</style>\n",
       "<table border=\"1\" class=\"dataframe\">\n",
       "  <thead>\n",
       "    <tr style=\"text-align: right;\">\n",
       "      <th></th>\n",
       "      <th>gross_revenue</th>\n",
       "      <th>recency_days</th>\n",
       "      <th>qtde_products</th>\n",
       "      <th>frequency</th>\n",
       "      <th>qtde_returns</th>\n",
       "    </tr>\n",
       "  </thead>\n",
       "  <tbody>\n",
       "    <tr>\n",
       "      <th>0</th>\n",
       "      <td>5391.2100</td>\n",
       "      <td>372.0000</td>\n",
       "      <td>297.0000</td>\n",
       "      <td>17.0000</td>\n",
       "      <td>40.0000</td>\n",
       "    </tr>\n",
       "    <tr>\n",
       "      <th>1</th>\n",
       "      <td>3232.5900</td>\n",
       "      <td>56.0000</td>\n",
       "      <td>171.0000</td>\n",
       "      <td>0.0283</td>\n",
       "      <td>35.0000</td>\n",
       "    </tr>\n",
       "    <tr>\n",
       "      <th>2</th>\n",
       "      <td>6705.3800</td>\n",
       "      <td>2.0000</td>\n",
       "      <td>232.0000</td>\n",
       "      <td>0.0403</td>\n",
       "      <td>50.0000</td>\n",
       "    </tr>\n",
       "    <tr>\n",
       "      <th>3</th>\n",
       "      <td>948.2500</td>\n",
       "      <td>95.0000</td>\n",
       "      <td>28.0000</td>\n",
       "      <td>0.0179</td>\n",
       "      <td>0.0000</td>\n",
       "    </tr>\n",
       "    <tr>\n",
       "      <th>4</th>\n",
       "      <td>876.0000</td>\n",
       "      <td>333.0000</td>\n",
       "      <td>3.0000</td>\n",
       "      <td>0.0732</td>\n",
       "      <td>22.0000</td>\n",
       "    </tr>\n",
       "  </tbody>\n",
       "</table>\n",
       "</div>"
      ],
      "text/plain": [
       "   gross_revenue  recency_days  qtde_products  frequency  qtde_returns\n",
       "0      5391.2100      372.0000       297.0000    17.0000       40.0000\n",
       "1      3232.5900       56.0000       171.0000     0.0283       35.0000\n",
       "2      6705.3800        2.0000       232.0000     0.0403       50.0000\n",
       "3       948.2500       95.0000        28.0000     0.0179        0.0000\n",
       "4       876.0000      333.0000         3.0000     0.0732       22.0000"
      ]
     },
     "execution_count": 48,
     "metadata": {},
     "output_type": "execute_result"
    }
   ],
   "source": [
    "# original dataset\n",
    "# df43 = df4.drop(['customer_id'], axis = 1).copy()\n",
    "\n",
    "# selected dataset\n",
    "cols_selected = ['customer_id','gross_revenue','recency_days','qtde_products','frequency','qtde_returns']\n",
    "df43 = df4[cols_selected].drop(['customer_id'], axis = 1).copy()\n",
    "df43.head()"
   ]
  },
  {
   "cell_type": "code",
   "execution_count": 49,
   "id": "d7c60371",
   "metadata": {
    "ExecuteTime": {
     "end_time": "2023-03-19T15:56:37.491076Z",
     "start_time": "2023-03-19T15:56:37.446238Z"
    }
   },
   "outputs": [],
   "source": [
    "# rescaling/standartization\n",
    "mm = MinMaxScaler()\n",
    "# ss = StandardScaler()\n",
    "# rs = RobustScaler()\n",
    "\n",
    "df43['gross_revenue'] = mm.fit_transform( df43[['gross_revenue']] )\n",
    "df43['recency_days'] = mm.fit_transform( df43[['recency_days']] )\n",
    "df43['qtde_products'] = mm.fit_transform( df43[['qtde_products']] )\n",
    "df43['frequency'] = mm.fit_transform( df43[['frequency']] )\n",
    "\n",
    "df43['qtde_returns'] = mm.fit_transform( df43[['qtde_returns']] )"
   ]
  },
  {
   "cell_type": "code",
   "execution_count": 50,
   "id": "ca99411f",
   "metadata": {
    "ExecuteTime": {
     "end_time": "2023-03-19T15:56:37.507071Z",
     "start_time": "2023-03-19T15:56:37.493071Z"
    }
   },
   "outputs": [
    {
     "data": {
      "text/plain": [
       "(5695, 5)"
      ]
     },
     "execution_count": 50,
     "metadata": {},
     "output_type": "execute_result"
    }
   ],
   "source": [
    "X = df43.copy()\n",
    "X.shape"
   ]
  },
  {
   "cell_type": "markdown",
   "id": "56ee1dd8",
   "metadata": {},
   "source": [
    "### 4.3.1 PCA"
   ]
  },
  {
   "cell_type": "code",
   "execution_count": 51,
   "id": "bd4ab930",
   "metadata": {
    "ExecuteTime": {
     "end_time": "2023-03-19T15:56:37.697522Z",
     "start_time": "2023-03-19T15:56:37.509029Z"
    }
   },
   "outputs": [
    {
     "data": {
      "image/png": "[encoded data removed]",
      "text/plain": [
       "<Figure size 640x480 with 1 Axes>"
      ]
     },
     "metadata": {},
     "output_type": "display_data"
    }
   ],
   "source": [
    "pca = PCA( n_components = X.shape[1] )\n",
    "\n",
    "principal_components = pca.fit_transform( X )\n",
    "\n",
    "# plot explainable variables\n",
    "features = range( pca.n_components_ )\n",
    "\n",
    "plt.bar( features, pca.explained_variance_ratio_, color = 'black')\n",
    "\n",
    "# pca component\n",
    "df_pca = pd.DataFrame( principal_components )"
   ]
  },
  {
   "cell_type": "code",
   "execution_count": 52,
   "id": "2c839bbb",
   "metadata": {
    "ExecuteTime": {
     "end_time": "2023-03-19T15:56:37.871521Z",
     "start_time": "2023-03-19T15:56:37.700516Z"
    }
   },
   "outputs": [
    {
     "data": {
      "image/png": "[encoded data removed]",
      "text/plain": [
       "<Figure size 640x480 with 1 Axes>"
      ]
     },
     "metadata": {},
     "output_type": "display_data"
    }
   ],
   "source": [
    "sns.scatterplot( x=0, y = 1, data = df_pca );"
   ]
  },
  {
   "cell_type": "code",
   "execution_count": null,
   "id": "8cf47686",
   "metadata": {},
   "outputs": [],
   "source": []
  },
  {
   "cell_type": "markdown",
   "id": "178cb420",
   "metadata": {},
   "source": [
    "### 4.3.2 UMAP"
   ]
  },
  {
   "cell_type": "code",
   "execution_count": 53,
   "id": "8d812a1c",
   "metadata": {
    "ExecuteTime": {
     "end_time": "2023-03-19T15:57:00.221450Z",
     "start_time": "2023-03-19T15:56:37.873519Z"
    }
   },
   "outputs": [
    {
     "data": {
      "text/plain": [
       "<AxesSubplot: xlabel='embedding_x', ylabel='embedding_y'>"
      ]
     },
     "execution_count": 53,
     "metadata": {},
     "output_type": "execute_result"
    },
    {
     "data": {
      "image/png": "[encoded data removed]",
      "text/plain": [
       "<Figure size 640x480 with 1 Axes>"
      ]
     },
     "metadata": {},
     "output_type": "display_data"
    }
   ],
   "source": [
    "reducer = UMAP( random_state = 42 )\n",
    "embedding = reducer.fit_transform( X )\n",
    "\n",
    "# embedding\n",
    "df_umap = pd.DataFrame()\n",
    "df_umap['embedding_x'] = embedding[:,0]\n",
    "df_umap['embedding_y'] = embedding[:,1]\n",
    "\n",
    "# plot UMAP\n",
    "sns.scatterplot( x = 'embedding_x', y = 'embedding_y',data = df_umap)"
   ]
  },
  {
   "cell_type": "code",
   "execution_count": null,
   "id": "18e8cbe9",
   "metadata": {},
   "outputs": [],
   "source": []
  },
  {
   "cell_type": "markdown",
   "id": "9118f280",
   "metadata": {},
   "source": [
    "### 4.3.3 t-SNE"
   ]
  },
  {
   "cell_type": "code",
   "execution_count": 54,
   "id": "65fea5dc",
   "metadata": {
    "ExecuteTime": {
     "end_time": "2023-03-19T15:57:34.028121Z",
     "start_time": "2023-03-19T15:57:00.223388Z"
    }
   },
   "outputs": [
    {
     "data": {
      "text/plain": [
       "<AxesSubplot: xlabel='embedding_x', ylabel='embedding_y'>"
      ]
     },
     "execution_count": 54,
     "metadata": {},
     "output_type": "execute_result"
    },
    {
     "data": {
      "image/png": "[encoded data removed]",
      "text/plain": [
       "<Figure size 640x480 with 1 Axes>"
      ]
     },
     "metadata": {},
     "output_type": "display_data"
    }
   ],
   "source": [
    "reducer = TSNE( n_components = 2, random_state = 42 )\n",
    "embedding = reducer.fit_transform( X )\n",
    "\n",
    "# embedding\n",
    "df_tsne = pd.DataFrame()\n",
    "df_tsne['embedding_x'] = embedding[:,0]\n",
    "df_tsne['embedding_y'] = embedding[:,1]\n",
    "\n",
    "# plot UMAP\n",
    "sns.scatterplot( x = 'embedding_x', y = 'embedding_y',data = df_tsne)"
   ]
  },
  {
   "cell_type": "code",
   "execution_count": null,
   "id": "88220629",
   "metadata": {
    "ExecuteTime": {
     "end_time": "2023-03-13T23:08:38.089332Z",
     "start_time": "2023-03-13T23:08:38.067347Z"
    }
   },
   "outputs": [],
   "source": []
  },
  {
   "cell_type": "markdown",
   "id": "bbbbbfd8",
   "metadata": {},
   "source": [
    "### 4.3.4 Tree-Based Embedding"
   ]
  },
  {
   "cell_type": "code",
   "execution_count": 55,
   "id": "e493d6a5",
   "metadata": {
    "ExecuteTime": {
     "end_time": "2023-03-19T15:57:36.101150Z",
     "start_time": "2023-03-19T15:57:34.031114Z"
    }
   },
   "outputs": [
    {
     "name": "stdout",
     "output_type": "stream",
     "text": [
      "(5695, 100)\n"
     ]
    }
   ],
   "source": [
    "# training dataset\n",
    "X = df43.drop(['gross_revenue'], axis = 1)\n",
    "Y = df43['gross_revenue']\n",
    "\n",
    "# model definition\n",
    "rf_model = RandomForestRegressor( n_estimators=100, random_state = 42)\n",
    "\n",
    "# model training\n",
    "rf_model.fit(X, Y)\n",
    "\n",
    "# leaf\n",
    "df_leaf = pd.DataFrame( rf_model.apply(X) )\n",
    "print(df_leaf.shape)"
   ]
  },
  {
   "cell_type": "code",
   "execution_count": 56,
   "id": "a355146b",
   "metadata": {
    "ExecuteTime": {
     "end_time": "2023-03-19T15:57:45.421488Z",
     "start_time": "2023-03-19T15:57:36.103133Z"
    }
   },
   "outputs": [
    {
     "data": {
      "text/plain": [
       "<AxesSubplot: xlabel='embedding_x', ylabel='embedding_y'>"
      ]
     },
     "execution_count": 56,
     "metadata": {},
     "output_type": "execute_result"
    },
    {
     "data": {
      "image/png": "[encoded data removed]",
      "text/plain": [
       "<Figure size 640x480 with 1 Axes>"
      ]
     },
     "metadata": {},
     "output_type": "display_data"
    }
   ],
   "source": [
    "reducer = UMAP( random_state = 42 )\n",
    "embedding = reducer.fit_transform( df_leaf )\n",
    "\n",
    "# embedding\n",
    "df_tree = pd.DataFrame()\n",
    "df_tree['embedding_x'] = embedding[:,0]\n",
    "df_tree['embedding_y'] = embedding[:,1]\n",
    "\n",
    "# plot UMAP\n",
    "sns.scatterplot( x = 'embedding_x', y = 'embedding_y',data = df_tree)"
   ]
  },
  {
   "cell_type": "code",
   "execution_count": null,
   "id": "787dd7e7",
   "metadata": {},
   "outputs": [],
   "source": []
  },
  {
   "cell_type": "markdown",
   "id": "b0bdf122",
   "metadata": {},
   "source": [
    "# 5.0 Data Preparation"
   ]
  },
  {
   "cell_type": "code",
   "execution_count": 126,
   "id": "d96c2513",
   "metadata": {
    "ExecuteTime": {
     "end_time": "2023-03-19T18:28:20.716546Z",
     "start_time": "2023-03-19T18:28:20.701586Z"
    }
   },
   "outputs": [],
   "source": [
    "# tree-based embedding\n",
    "df5 = df_tree.copy()\n",
    "d5.to_csv(caminho + '\\\\src\\\\data\\\\tree_based_embedding.csv', index = False)\n",
    "\n",
    "# tree-based embedding\n",
    "# df5 = df_umap.copy()\n",
    "\n",
    "# tree-based embedding\n",
    "# df5 = df_tsne.copy()"
   ]
  },
  {
   "cell_type": "code",
   "execution_count": null,
   "id": "086c0519",
   "metadata": {},
   "outputs": [],
   "source": []
  },
  {
   "cell_type": "markdown",
   "id": "3b289db5",
   "metadata": {},
   "source": [
    "# 7.0 Hyperparameter Fine Tunning"
   ]
  },
  {
   "cell_type": "code",
   "execution_count": 97,
   "id": "3265039b",
   "metadata": {
    "ExecuteTime": {
     "end_time": "2023-03-19T16:48:06.930090Z",
     "start_time": "2023-03-19T16:48:06.920072Z"
    }
   },
   "outputs": [
    {
     "data": {
      "text/html": [
       "<div>\n",
       "<style scoped>\n",
       "    .dataframe tbody tr th:only-of-type {\n",
       "        vertical-align: middle;\n",
       "    }\n",
       "\n",
       "    .dataframe tbody tr th {\n",
       "        vertical-align: top;\n",
       "    }\n",
       "\n",
       "    .dataframe thead th {\n",
       "        text-align: right;\n",
       "    }\n",
       "</style>\n",
       "<table border=\"1\" class=\"dataframe\">\n",
       "  <thead>\n",
       "    <tr style=\"text-align: right;\">\n",
       "      <th></th>\n",
       "      <th>embedding_x</th>\n",
       "      <th>embedding_y</th>\n",
       "    </tr>\n",
       "  </thead>\n",
       "  <tbody>\n",
       "    <tr>\n",
       "      <th>0</th>\n",
       "      <td>85.7287</td>\n",
       "      <td>-1.8677</td>\n",
       "    </tr>\n",
       "    <tr>\n",
       "      <th>1</th>\n",
       "      <td>10.3656</td>\n",
       "      <td>37.6700</td>\n",
       "    </tr>\n",
       "    <tr>\n",
       "      <th>2</th>\n",
       "      <td>-44.7644</td>\n",
       "      <td>30.4436</td>\n",
       "    </tr>\n",
       "    <tr>\n",
       "      <th>3</th>\n",
       "      <td>-9.6890</td>\n",
       "      <td>74.0240</td>\n",
       "    </tr>\n",
       "    <tr>\n",
       "      <th>4</th>\n",
       "      <td>52.8239</td>\n",
       "      <td>22.3119</td>\n",
       "    </tr>\n",
       "  </tbody>\n",
       "</table>\n",
       "</div>"
      ],
      "text/plain": [
       "   embedding_x  embedding_y\n",
       "0      85.7287      -1.8677\n",
       "1      10.3656      37.6700\n",
       "2     -44.7644      30.4436\n",
       "3      -9.6890      74.0240\n",
       "4      52.8239      22.3119"
      ]
     },
     "execution_count": 97,
     "metadata": {},
     "output_type": "execute_result"
    }
   ],
   "source": [
    "X = df5.copy()\n",
    "X.head()"
   ]
  },
  {
   "cell_type": "code",
   "execution_count": 98,
   "id": "dffc224a",
   "metadata": {
    "ExecuteTime": {
     "end_time": "2023-03-19T16:48:07.482271Z",
     "start_time": "2023-03-19T16:48:07.465359Z"
    }
   },
   "outputs": [],
   "source": [
    "# clusters = [2,3,4,5,6,7]\n",
    "clusters = np.arange(2, 25, 1)"
   ]
  },
  {
   "cell_type": "markdown",
   "id": "e10874f1",
   "metadata": {},
   "source": [
    "## 7.1 K-Means"
   ]
  },
  {
   "cell_type": "code",
   "execution_count": 99,
   "id": "8e2bf58a",
   "metadata": {
    "ExecuteTime": {
     "end_time": "2023-03-19T16:53:02.859714Z",
     "start_time": "2023-03-19T16:48:09.114426Z"
    }
   },
   "outputs": [],
   "source": [
    "kmeans_list = []\n",
    "\n",
    "for k in clusters:\n",
    "    # model definition\n",
    "    kmeans_model = KMeans(n_clusters = k, n_init = 100, random_state = 42)\n",
    "\n",
    "    # model training\n",
    "    kmeans_model.fit( X )\n",
    "\n",
    "\n",
    "    # model prediction\n",
    "    labels = kmeans_model.predict( X )\n",
    "\n",
    "    # model evaluation\n",
    "    sil = silhouette_score( X, labels, metric = 'euclidean')\n",
    "    kmeans_list.append( sil )\n",
    "#     print(sil)"
   ]
  },
  {
   "cell_type": "code",
   "execution_count": 100,
   "id": "1b8a75e1",
   "metadata": {
    "ExecuteTime": {
     "end_time": "2023-03-19T16:53:03.067388Z",
     "start_time": "2023-03-19T16:53:02.862707Z"
    }
   },
   "outputs": [
    {
     "data": {
      "text/plain": [
       "Text(0.5, 1.0, 'Silhouette Score  x  K clusters')"
      ]
     },
     "execution_count": 100,
     "metadata": {},
     "output_type": "execute_result"
    },
    {
     "data": {
      "image/png": "[encoded data removed]",
      "text/plain": [
       "<Figure size 640x480 with 1 Axes>"
      ]
     },
     "metadata": {},
     "output_type": "display_data"
    }
   ],
   "source": [
    "plt.plot( clusters, kmeans_list, linestyle = '--', marker = 'o', color = 'b');\n",
    "plt.xlabel('K clusters')\n",
    "plt.ylabel('Silhouette Score')\n",
    "plt.title('Silhouette Score  x  K clusters')"
   ]
  },
  {
   "cell_type": "code",
   "execution_count": null,
   "id": "c8851475",
   "metadata": {},
   "outputs": [],
   "source": []
  },
  {
   "cell_type": "code",
   "execution_count": null,
   "id": "d14f4c92",
   "metadata": {},
   "outputs": [],
   "source": []
  },
  {
   "cell_type": "markdown",
   "id": "48129e7c",
   "metadata": {},
   "source": [
    "## 7.2 GMM"
   ]
  },
  {
   "cell_type": "code",
   "execution_count": 101,
   "id": "97a26feb",
   "metadata": {
    "ExecuteTime": {
     "end_time": "2023-03-19T16:54:23.104613Z",
     "start_time": "2023-03-19T16:53:03.068694Z"
    }
   },
   "outputs": [],
   "source": [
    "gmm_list = []\n",
    "\n",
    "for k in clusters:\n",
    "    # model definition\n",
    "    gmm_model = GaussianMixture(n_components = k, n_init = 10, random_state = 42)\n",
    "\n",
    "    # model training\n",
    "    gmm_model.fit( X )\n",
    "\n",
    "\n",
    "    # model prediction\n",
    "    labels = gmm_model.predict( X )\n",
    "\n",
    "    # model evaluation\n",
    "    sil = silhouette_score( X, labels, metric = 'euclidean')\n",
    "    gmm_list.append( sil )\n",
    "#     print(sil)"
   ]
  },
  {
   "cell_type": "code",
   "execution_count": 102,
   "id": "0afc0ea8",
   "metadata": {
    "ExecuteTime": {
     "end_time": "2023-03-19T16:54:23.311123Z",
     "start_time": "2023-03-19T16:54:23.111715Z"
    }
   },
   "outputs": [
    {
     "data": {
      "text/plain": [
       "Text(0.5, 1.0, 'Silhouette Score  x  GMM clusters')"
      ]
     },
     "execution_count": 102,
     "metadata": {},
     "output_type": "execute_result"
    },
    {
     "data": {
      "image/png": "[encoded data removed]",
      "text/plain": [
       "<Figure size 640x480 with 1 Axes>"
      ]
     },
     "metadata": {},
     "output_type": "display_data"
    }
   ],
   "source": [
    "plt.plot( clusters, gmm_list, linestyle = '--', marker = 'o', color = 'b');\n",
    "plt.xlabel('GMM clusters')\n",
    "plt.ylabel('Silhouette Score')\n",
    "plt.title('Silhouette Score  x  GMM clusters')"
   ]
  },
  {
   "cell_type": "code",
   "execution_count": null,
   "id": "ba2c5c7b",
   "metadata": {},
   "outputs": [],
   "source": []
  },
  {
   "cell_type": "code",
   "execution_count": null,
   "id": "2381adee",
   "metadata": {},
   "outputs": [],
   "source": []
  },
  {
   "cell_type": "markdown",
   "id": "c9f0f50e",
   "metadata": {},
   "source": [
    "## 7.3 Hierarchical Clustering"
   ]
  },
  {
   "cell_type": "code",
   "execution_count": 103,
   "id": "5299771f",
   "metadata": {
    "ExecuteTime": {
     "end_time": "2023-03-19T16:54:24.092257Z",
     "start_time": "2023-03-19T16:54:23.313117Z"
    }
   },
   "outputs": [],
   "source": [
    "# model definition and training\n",
    "hc_model = linkage( X, 'ward')"
   ]
  },
  {
   "cell_type": "markdown",
   "id": "006fc605",
   "metadata": {},
   "source": [
    "### 7.3.1 H-Clustering Silhouette Score"
   ]
  },
  {
   "cell_type": "code",
   "execution_count": 104,
   "id": "b2c9172e",
   "metadata": {
    "ExecuteTime": {
     "end_time": "2023-03-19T16:54:55.055318Z",
     "start_time": "2023-03-19T16:54:24.094295Z"
    }
   },
   "outputs": [
    {
     "data": {
      "image/png": "[encoded data removed]",
      "text/plain": [
       "<Figure size 640x480 with 1 Axes>"
      ]
     },
     "metadata": {},
     "output_type": "display_data"
    }
   ],
   "source": [
    "hc_list = []\n",
    "\n",
    "for k in clusters:\n",
    "    # model definition and training\n",
    "    hc_model = linkage( X, 'ward')\n",
    "\n",
    "    # model predict\n",
    "    labels = fcluster( hc_model, t=k, criterion = 'maxclust' )\n",
    "\n",
    "    # metrics\n",
    "    sil = silhouette_score( X, labels, metric = 'euclidean' )\n",
    "#     print(sil)\n",
    "    hc_list.append(sil)\n",
    "    \n",
    "plt.plot( clusters, hc_list, linestyle = '--', marker = 'o', color = 'b');"
   ]
  },
  {
   "cell_type": "code",
   "execution_count": null,
   "id": "ce433f7f",
   "metadata": {},
   "outputs": [],
   "source": []
  },
  {
   "cell_type": "markdown",
   "id": "7fab5787",
   "metadata": {},
   "source": [
    "## 7.5 Results"
   ]
  },
  {
   "cell_type": "code",
   "execution_count": 75,
   "id": "ff038199",
   "metadata": {
    "ExecuteTime": {
     "end_time": "2023-03-19T16:24:13.271745Z",
     "start_time": "2023-03-19T16:24:13.243754Z"
    }
   },
   "outputs": [
    {
     "data": {
      "text/html": [
       "<style type=\"text/css\">\n",
       "#T_2ecce_row0_col22, #T_2ecce_row1_col21, #T_2ecce_row2_col22 {\n",
       "  background-color: lightgreen;\n",
       "}\n",
       "</style>\n",
       "<table id=\"T_2ecce\">\n",
       "  <thead>\n",
       "    <tr>\n",
       "      <th class=\"blank level0\" >&nbsp;</th>\n",
       "      <th id=\"T_2ecce_level0_col0\" class=\"col_heading level0 col0\" >2</th>\n",
       "      <th id=\"T_2ecce_level0_col1\" class=\"col_heading level0 col1\" >3</th>\n",
       "      <th id=\"T_2ecce_level0_col2\" class=\"col_heading level0 col2\" >4</th>\n",
       "      <th id=\"T_2ecce_level0_col3\" class=\"col_heading level0 col3\" >5</th>\n",
       "      <th id=\"T_2ecce_level0_col4\" class=\"col_heading level0 col4\" >6</th>\n",
       "      <th id=\"T_2ecce_level0_col5\" class=\"col_heading level0 col5\" >7</th>\n",
       "      <th id=\"T_2ecce_level0_col6\" class=\"col_heading level0 col6\" >8</th>\n",
       "      <th id=\"T_2ecce_level0_col7\" class=\"col_heading level0 col7\" >9</th>\n",
       "      <th id=\"T_2ecce_level0_col8\" class=\"col_heading level0 col8\" >10</th>\n",
       "      <th id=\"T_2ecce_level0_col9\" class=\"col_heading level0 col9\" >11</th>\n",
       "      <th id=\"T_2ecce_level0_col10\" class=\"col_heading level0 col10\" >12</th>\n",
       "      <th id=\"T_2ecce_level0_col11\" class=\"col_heading level0 col11\" >13</th>\n",
       "      <th id=\"T_2ecce_level0_col12\" class=\"col_heading level0 col12\" >14</th>\n",
       "      <th id=\"T_2ecce_level0_col13\" class=\"col_heading level0 col13\" >15</th>\n",
       "      <th id=\"T_2ecce_level0_col14\" class=\"col_heading level0 col14\" >16</th>\n",
       "      <th id=\"T_2ecce_level0_col15\" class=\"col_heading level0 col15\" >17</th>\n",
       "      <th id=\"T_2ecce_level0_col16\" class=\"col_heading level0 col16\" >18</th>\n",
       "      <th id=\"T_2ecce_level0_col17\" class=\"col_heading level0 col17\" >19</th>\n",
       "      <th id=\"T_2ecce_level0_col18\" class=\"col_heading level0 col18\" >20</th>\n",
       "      <th id=\"T_2ecce_level0_col19\" class=\"col_heading level0 col19\" >21</th>\n",
       "      <th id=\"T_2ecce_level0_col20\" class=\"col_heading level0 col20\" >22</th>\n",
       "      <th id=\"T_2ecce_level0_col21\" class=\"col_heading level0 col21\" >23</th>\n",
       "      <th id=\"T_2ecce_level0_col22\" class=\"col_heading level0 col22\" >24</th>\n",
       "    </tr>\n",
       "  </thead>\n",
       "  <tbody>\n",
       "    <tr>\n",
       "      <th id=\"T_2ecce_level0_row0\" class=\"row_heading level0 row0\" >KMeans</th>\n",
       "      <td id=\"T_2ecce_row0_col0\" class=\"data row0 col0\" >0.421771</td>\n",
       "      <td id=\"T_2ecce_row0_col1\" class=\"data row0 col1\" >0.419299</td>\n",
       "      <td id=\"T_2ecce_row0_col2\" class=\"data row0 col2\" >0.403612</td>\n",
       "      <td id=\"T_2ecce_row0_col3\" class=\"data row0 col3\" >0.427597</td>\n",
       "      <td id=\"T_2ecce_row0_col4\" class=\"data row0 col4\" >0.418075</td>\n",
       "      <td id=\"T_2ecce_row0_col5\" class=\"data row0 col5\" >0.435127</td>\n",
       "      <td id=\"T_2ecce_row0_col6\" class=\"data row0 col6\" >0.443684</td>\n",
       "      <td id=\"T_2ecce_row0_col7\" class=\"data row0 col7\" >0.457828</td>\n",
       "      <td id=\"T_2ecce_row0_col8\" class=\"data row0 col8\" >0.476907</td>\n",
       "      <td id=\"T_2ecce_row0_col9\" class=\"data row0 col9\" >0.483791</td>\n",
       "      <td id=\"T_2ecce_row0_col10\" class=\"data row0 col10\" >0.490489</td>\n",
       "      <td id=\"T_2ecce_row0_col11\" class=\"data row0 col11\" >0.503938</td>\n",
       "      <td id=\"T_2ecce_row0_col12\" class=\"data row0 col12\" >0.518349</td>\n",
       "      <td id=\"T_2ecce_row0_col13\" class=\"data row0 col13\" >0.525299</td>\n",
       "      <td id=\"T_2ecce_row0_col14\" class=\"data row0 col14\" >0.532810</td>\n",
       "      <td id=\"T_2ecce_row0_col15\" class=\"data row0 col15\" >0.529540</td>\n",
       "      <td id=\"T_2ecce_row0_col16\" class=\"data row0 col16\" >0.533960</td>\n",
       "      <td id=\"T_2ecce_row0_col17\" class=\"data row0 col17\" >0.536333</td>\n",
       "      <td id=\"T_2ecce_row0_col18\" class=\"data row0 col18\" >0.547602</td>\n",
       "      <td id=\"T_2ecce_row0_col19\" class=\"data row0 col19\" >0.560620</td>\n",
       "      <td id=\"T_2ecce_row0_col20\" class=\"data row0 col20\" >0.566721</td>\n",
       "      <td id=\"T_2ecce_row0_col21\" class=\"data row0 col21\" >0.572251</td>\n",
       "      <td id=\"T_2ecce_row0_col22\" class=\"data row0 col22\" >0.577588</td>\n",
       "    </tr>\n",
       "    <tr>\n",
       "      <th id=\"T_2ecce_level0_row1\" class=\"row_heading level0 row1\" >GMM</th>\n",
       "      <td id=\"T_2ecce_row1_col0\" class=\"data row1 col0\" >0.421520</td>\n",
       "      <td id=\"T_2ecce_row1_col1\" class=\"data row1 col1\" >0.408631</td>\n",
       "      <td id=\"T_2ecce_row1_col2\" class=\"data row1 col2\" >0.371223</td>\n",
       "      <td id=\"T_2ecce_row1_col3\" class=\"data row1 col3\" >0.379122</td>\n",
       "      <td id=\"T_2ecce_row1_col4\" class=\"data row1 col4\" >0.342845</td>\n",
       "      <td id=\"T_2ecce_row1_col5\" class=\"data row1 col5\" >0.309858</td>\n",
       "      <td id=\"T_2ecce_row1_col6\" class=\"data row1 col6\" >0.288054</td>\n",
       "      <td id=\"T_2ecce_row1_col7\" class=\"data row1 col7\" >0.402399</td>\n",
       "      <td id=\"T_2ecce_row1_col8\" class=\"data row1 col8\" >0.414188</td>\n",
       "      <td id=\"T_2ecce_row1_col9\" class=\"data row1 col9\" >0.414718</td>\n",
       "      <td id=\"T_2ecce_row1_col10\" class=\"data row1 col10\" >0.379013</td>\n",
       "      <td id=\"T_2ecce_row1_col11\" class=\"data row1 col11\" >0.450227</td>\n",
       "      <td id=\"T_2ecce_row1_col12\" class=\"data row1 col12\" >0.451618</td>\n",
       "      <td id=\"T_2ecce_row1_col13\" class=\"data row1 col13\" >0.441353</td>\n",
       "      <td id=\"T_2ecce_row1_col14\" class=\"data row1 col14\" >0.422179</td>\n",
       "      <td id=\"T_2ecce_row1_col15\" class=\"data row1 col15\" >0.423460</td>\n",
       "      <td id=\"T_2ecce_row1_col16\" class=\"data row1 col16\" >0.445435</td>\n",
       "      <td id=\"T_2ecce_row1_col17\" class=\"data row1 col17\" >0.463953</td>\n",
       "      <td id=\"T_2ecce_row1_col18\" class=\"data row1 col18\" >0.501845</td>\n",
       "      <td id=\"T_2ecce_row1_col19\" class=\"data row1 col19\" >0.433171</td>\n",
       "      <td id=\"T_2ecce_row1_col20\" class=\"data row1 col20\" >0.492405</td>\n",
       "      <td id=\"T_2ecce_row1_col21\" class=\"data row1 col21\" >0.545397</td>\n",
       "      <td id=\"T_2ecce_row1_col22\" class=\"data row1 col22\" >0.468163</td>\n",
       "    </tr>\n",
       "    <tr>\n",
       "      <th id=\"T_2ecce_level0_row2\" class=\"row_heading level0 row2\" >HC</th>\n",
       "      <td id=\"T_2ecce_row2_col0\" class=\"data row2 col0\" >0.348990</td>\n",
       "      <td id=\"T_2ecce_row2_col1\" class=\"data row2 col1\" >0.304687</td>\n",
       "      <td id=\"T_2ecce_row2_col2\" class=\"data row2 col2\" >0.359145</td>\n",
       "      <td id=\"T_2ecce_row2_col3\" class=\"data row2 col3\" >0.380326</td>\n",
       "      <td id=\"T_2ecce_row2_col4\" class=\"data row2 col4\" >0.406255</td>\n",
       "      <td id=\"T_2ecce_row2_col5\" class=\"data row2 col5\" >0.406526</td>\n",
       "      <td id=\"T_2ecce_row2_col6\" class=\"data row2 col6\" >0.429230</td>\n",
       "      <td id=\"T_2ecce_row2_col7\" class=\"data row2 col7\" >0.428657</td>\n",
       "      <td id=\"T_2ecce_row2_col8\" class=\"data row2 col8\" >0.422292</td>\n",
       "      <td id=\"T_2ecce_row2_col9\" class=\"data row2 col9\" >0.434106</td>\n",
       "      <td id=\"T_2ecce_row2_col10\" class=\"data row2 col10\" >0.453874</td>\n",
       "      <td id=\"T_2ecce_row2_col11\" class=\"data row2 col11\" >0.468612</td>\n",
       "      <td id=\"T_2ecce_row2_col12\" class=\"data row2 col12\" >0.481898</td>\n",
       "      <td id=\"T_2ecce_row2_col13\" class=\"data row2 col13\" >0.492014</td>\n",
       "      <td id=\"T_2ecce_row2_col14\" class=\"data row2 col14\" >0.503175</td>\n",
       "      <td id=\"T_2ecce_row2_col15\" class=\"data row2 col15\" >0.514198</td>\n",
       "      <td id=\"T_2ecce_row2_col16\" class=\"data row2 col16\" >0.520080</td>\n",
       "      <td id=\"T_2ecce_row2_col17\" class=\"data row2 col17\" >0.528415</td>\n",
       "      <td id=\"T_2ecce_row2_col18\" class=\"data row2 col18\" >0.527474</td>\n",
       "      <td id=\"T_2ecce_row2_col19\" class=\"data row2 col19\" >0.541861</td>\n",
       "      <td id=\"T_2ecce_row2_col20\" class=\"data row2 col20\" >0.551641</td>\n",
       "      <td id=\"T_2ecce_row2_col21\" class=\"data row2 col21\" >0.564020</td>\n",
       "      <td id=\"T_2ecce_row2_col22\" class=\"data row2 col22\" >0.572889</td>\n",
       "    </tr>\n",
       "  </tbody>\n",
       "</table>\n"
      ],
      "text/plain": [
       "<pandas.io.formats.style.Styler at 0x2432b365d60>"
      ]
     },
     "execution_count": 75,
     "metadata": {},
     "output_type": "execute_result"
    }
   ],
   "source": [
    "# tree-based\n",
    "df_results = pd.DataFrame(\n",
    "    {'KMeans': kmeans_list,\n",
    "    'GMM':gmm_list,\n",
    "    'HC':hc_list} ).T\n",
    "\n",
    "df_results.columns = clusters\n",
    "df_results.style.highlight_max(color = 'lightgreen', axis = 1)"
   ]
  },
  {
   "cell_type": "code",
   "execution_count": 89,
   "id": "7f44ccbf",
   "metadata": {
    "ExecuteTime": {
     "end_time": "2023-03-19T16:44:51.489652Z",
     "start_time": "2023-03-19T16:44:51.458702Z"
    }
   },
   "outputs": [
    {
     "data": {
      "text/html": [
       "<style type=\"text/css\">\n",
       "#T_5721b_row0_col22, #T_5721b_row1_col19, #T_5721b_row2_col22 {\n",
       "  background-color: lightgreen;\n",
       "}\n",
       "</style>\n",
       "<table id=\"T_5721b\">\n",
       "  <thead>\n",
       "    <tr>\n",
       "      <th class=\"blank level0\" >&nbsp;</th>\n",
       "      <th id=\"T_5721b_level0_col0\" class=\"col_heading level0 col0\" >2</th>\n",
       "      <th id=\"T_5721b_level0_col1\" class=\"col_heading level0 col1\" >3</th>\n",
       "      <th id=\"T_5721b_level0_col2\" class=\"col_heading level0 col2\" >4</th>\n",
       "      <th id=\"T_5721b_level0_col3\" class=\"col_heading level0 col3\" >5</th>\n",
       "      <th id=\"T_5721b_level0_col4\" class=\"col_heading level0 col4\" >6</th>\n",
       "      <th id=\"T_5721b_level0_col5\" class=\"col_heading level0 col5\" >7</th>\n",
       "      <th id=\"T_5721b_level0_col6\" class=\"col_heading level0 col6\" >8</th>\n",
       "      <th id=\"T_5721b_level0_col7\" class=\"col_heading level0 col7\" >9</th>\n",
       "      <th id=\"T_5721b_level0_col8\" class=\"col_heading level0 col8\" >10</th>\n",
       "      <th id=\"T_5721b_level0_col9\" class=\"col_heading level0 col9\" >11</th>\n",
       "      <th id=\"T_5721b_level0_col10\" class=\"col_heading level0 col10\" >12</th>\n",
       "      <th id=\"T_5721b_level0_col11\" class=\"col_heading level0 col11\" >13</th>\n",
       "      <th id=\"T_5721b_level0_col12\" class=\"col_heading level0 col12\" >14</th>\n",
       "      <th id=\"T_5721b_level0_col13\" class=\"col_heading level0 col13\" >15</th>\n",
       "      <th id=\"T_5721b_level0_col14\" class=\"col_heading level0 col14\" >16</th>\n",
       "      <th id=\"T_5721b_level0_col15\" class=\"col_heading level0 col15\" >17</th>\n",
       "      <th id=\"T_5721b_level0_col16\" class=\"col_heading level0 col16\" >18</th>\n",
       "      <th id=\"T_5721b_level0_col17\" class=\"col_heading level0 col17\" >19</th>\n",
       "      <th id=\"T_5721b_level0_col18\" class=\"col_heading level0 col18\" >20</th>\n",
       "      <th id=\"T_5721b_level0_col19\" class=\"col_heading level0 col19\" >21</th>\n",
       "      <th id=\"T_5721b_level0_col20\" class=\"col_heading level0 col20\" >22</th>\n",
       "      <th id=\"T_5721b_level0_col21\" class=\"col_heading level0 col21\" >23</th>\n",
       "      <th id=\"T_5721b_level0_col22\" class=\"col_heading level0 col22\" >24</th>\n",
       "    </tr>\n",
       "  </thead>\n",
       "  <tbody>\n",
       "    <tr>\n",
       "      <th id=\"T_5721b_level0_row0\" class=\"row_heading level0 row0\" >KMeans</th>\n",
       "      <td id=\"T_5721b_row0_col0\" class=\"data row0 col0\" >0.429525</td>\n",
       "      <td id=\"T_5721b_row0_col1\" class=\"data row0 col1\" >0.462432</td>\n",
       "      <td id=\"T_5721b_row0_col2\" class=\"data row0 col2\" >0.481702</td>\n",
       "      <td id=\"T_5721b_row0_col3\" class=\"data row0 col3\" >0.473352</td>\n",
       "      <td id=\"T_5721b_row0_col4\" class=\"data row0 col4\" >0.474931</td>\n",
       "      <td id=\"T_5721b_row0_col5\" class=\"data row0 col5\" >0.482425</td>\n",
       "      <td id=\"T_5721b_row0_col6\" class=\"data row0 col6\" >0.430128</td>\n",
       "      <td id=\"T_5721b_row0_col7\" class=\"data row0 col7\" >0.436584</td>\n",
       "      <td id=\"T_5721b_row0_col8\" class=\"data row0 col8\" >0.444601</td>\n",
       "      <td id=\"T_5721b_row0_col9\" class=\"data row0 col9\" >0.464409</td>\n",
       "      <td id=\"T_5721b_row0_col10\" class=\"data row0 col10\" >0.499770</td>\n",
       "      <td id=\"T_5721b_row0_col11\" class=\"data row0 col11\" >0.519313</td>\n",
       "      <td id=\"T_5721b_row0_col12\" class=\"data row0 col12\" >0.531960</td>\n",
       "      <td id=\"T_5721b_row0_col13\" class=\"data row0 col13\" >0.538380</td>\n",
       "      <td id=\"T_5721b_row0_col14\" class=\"data row0 col14\" >0.547072</td>\n",
       "      <td id=\"T_5721b_row0_col15\" class=\"data row0 col15\" >0.558742</td>\n",
       "      <td id=\"T_5721b_row0_col16\" class=\"data row0 col16\" >0.570363</td>\n",
       "      <td id=\"T_5721b_row0_col17\" class=\"data row0 col17\" >0.578626</td>\n",
       "      <td id=\"T_5721b_row0_col18\" class=\"data row0 col18\" >0.578618</td>\n",
       "      <td id=\"T_5721b_row0_col19\" class=\"data row0 col19\" >0.570117</td>\n",
       "      <td id=\"T_5721b_row0_col20\" class=\"data row0 col20\" >0.578346</td>\n",
       "      <td id=\"T_5721b_row0_col21\" class=\"data row0 col21\" >0.569899</td>\n",
       "      <td id=\"T_5721b_row0_col22\" class=\"data row0 col22\" >0.603378</td>\n",
       "    </tr>\n",
       "    <tr>\n",
       "      <th id=\"T_5721b_level0_row1\" class=\"row_heading level0 row1\" >GMM</th>\n",
       "      <td id=\"T_5721b_row1_col0\" class=\"data row1 col0\" >0.398454</td>\n",
       "      <td id=\"T_5721b_row1_col1\" class=\"data row1 col1\" >0.441686</td>\n",
       "      <td id=\"T_5721b_row1_col2\" class=\"data row1 col2\" >0.466726</td>\n",
       "      <td id=\"T_5721b_row1_col3\" class=\"data row1 col3\" >0.463681</td>\n",
       "      <td id=\"T_5721b_row1_col4\" class=\"data row1 col4\" >0.414193</td>\n",
       "      <td id=\"T_5721b_row1_col5\" class=\"data row1 col5\" >0.338520</td>\n",
       "      <td id=\"T_5721b_row1_col6\" class=\"data row1 col6\" >0.452251</td>\n",
       "      <td id=\"T_5721b_row1_col7\" class=\"data row1 col7\" >0.416837</td>\n",
       "      <td id=\"T_5721b_row1_col8\" class=\"data row1 col8\" >0.353069</td>\n",
       "      <td id=\"T_5721b_row1_col9\" class=\"data row1 col9\" >0.380927</td>\n",
       "      <td id=\"T_5721b_row1_col10\" class=\"data row1 col10\" >0.417105</td>\n",
       "      <td id=\"T_5721b_row1_col11\" class=\"data row1 col11\" >0.408684</td>\n",
       "      <td id=\"T_5721b_row1_col12\" class=\"data row1 col12\" >0.477702</td>\n",
       "      <td id=\"T_5721b_row1_col13\" class=\"data row1 col13\" >0.506071</td>\n",
       "      <td id=\"T_5721b_row1_col14\" class=\"data row1 col14\" >0.495301</td>\n",
       "      <td id=\"T_5721b_row1_col15\" class=\"data row1 col15\" >0.484304</td>\n",
       "      <td id=\"T_5721b_row1_col16\" class=\"data row1 col16\" >0.520041</td>\n",
       "      <td id=\"T_5721b_row1_col17\" class=\"data row1 col17\" >0.512614</td>\n",
       "      <td id=\"T_5721b_row1_col18\" class=\"data row1 col18\" >0.451882</td>\n",
       "      <td id=\"T_5721b_row1_col19\" class=\"data row1 col19\" >0.549538</td>\n",
       "      <td id=\"T_5721b_row1_col20\" class=\"data row1 col20\" >0.527483</td>\n",
       "      <td id=\"T_5721b_row1_col21\" class=\"data row1 col21\" >0.535823</td>\n",
       "      <td id=\"T_5721b_row1_col22\" class=\"data row1 col22\" >0.537085</td>\n",
       "    </tr>\n",
       "    <tr>\n",
       "      <th id=\"T_5721b_level0_row2\" class=\"row_heading level0 row2\" >HC</th>\n",
       "      <td id=\"T_5721b_row2_col0\" class=\"data row2 col0\" >0.372304</td>\n",
       "      <td id=\"T_5721b_row2_col1\" class=\"data row2 col1\" >0.402446</td>\n",
       "      <td id=\"T_5721b_row2_col2\" class=\"data row2 col2\" >0.412910</td>\n",
       "      <td id=\"T_5721b_row2_col3\" class=\"data row2 col3\" >0.429573</td>\n",
       "      <td id=\"T_5721b_row2_col4\" class=\"data row2 col4\" >0.458218</td>\n",
       "      <td id=\"T_5721b_row2_col5\" class=\"data row2 col5\" >0.470299</td>\n",
       "      <td id=\"T_5721b_row2_col6\" class=\"data row2 col6\" >0.455686</td>\n",
       "      <td id=\"T_5721b_row2_col7\" class=\"data row2 col7\" >0.423133</td>\n",
       "      <td id=\"T_5721b_row2_col8\" class=\"data row2 col8\" >0.440430</td>\n",
       "      <td id=\"T_5721b_row2_col9\" class=\"data row2 col9\" >0.449047</td>\n",
       "      <td id=\"T_5721b_row2_col10\" class=\"data row2 col10\" >0.482008</td>\n",
       "      <td id=\"T_5721b_row2_col11\" class=\"data row2 col11\" >0.498727</td>\n",
       "      <td id=\"T_5721b_row2_col12\" class=\"data row2 col12\" >0.518881</td>\n",
       "      <td id=\"T_5721b_row2_col13\" class=\"data row2 col13\" >0.524372</td>\n",
       "      <td id=\"T_5721b_row2_col14\" class=\"data row2 col14\" >0.539553</td>\n",
       "      <td id=\"T_5721b_row2_col15\" class=\"data row2 col15\" >0.547636</td>\n",
       "      <td id=\"T_5721b_row2_col16\" class=\"data row2 col16\" >0.560113</td>\n",
       "      <td id=\"T_5721b_row2_col17\" class=\"data row2 col17\" >0.560936</td>\n",
       "      <td id=\"T_5721b_row2_col18\" class=\"data row2 col18\" >0.570594</td>\n",
       "      <td id=\"T_5721b_row2_col19\" class=\"data row2 col19\" >0.558558</td>\n",
       "      <td id=\"T_5721b_row2_col20\" class=\"data row2 col20\" >0.565999</td>\n",
       "      <td id=\"T_5721b_row2_col21\" class=\"data row2 col21\" >0.584894</td>\n",
       "      <td id=\"T_5721b_row2_col22\" class=\"data row2 col22\" >0.590413</td>\n",
       "    </tr>\n",
       "  </tbody>\n",
       "</table>\n"
      ],
      "text/plain": [
       "<pandas.io.formats.style.Styler at 0x243361b17f0>"
      ]
     },
     "execution_count": 89,
     "metadata": {},
     "output_type": "execute_result"
    }
   ],
   "source": [
    "# umap\n",
    "df_results = pd.DataFrame(\n",
    "    {'KMeans': kmeans_list,\n",
    "    'GMM':gmm_list,\n",
    "    'HC':hc_list} ).T\n",
    "\n",
    "df_results.columns = clusters\n",
    "df_results.style.highlight_max(color = 'lightgreen', axis = 1)"
   ]
  },
  {
   "cell_type": "code",
   "execution_count": 105,
   "id": "5243a743",
   "metadata": {
    "ExecuteTime": {
     "end_time": "2023-03-19T16:54:55.087184Z",
     "start_time": "2023-03-19T16:54:55.057265Z"
    }
   },
   "outputs": [
    {
     "data": {
      "text/html": [
       "<style type=\"text/css\">\n",
       "#T_d05ca_row0_col21, #T_d05ca_row1_col21, #T_d05ca_row2_col21 {\n",
       "  background-color: lightgreen;\n",
       "}\n",
       "</style>\n",
       "<table id=\"T_d05ca\">\n",
       "  <thead>\n",
       "    <tr>\n",
       "      <th class=\"blank level0\" >&nbsp;</th>\n",
       "      <th id=\"T_d05ca_level0_col0\" class=\"col_heading level0 col0\" >2</th>\n",
       "      <th id=\"T_d05ca_level0_col1\" class=\"col_heading level0 col1\" >3</th>\n",
       "      <th id=\"T_d05ca_level0_col2\" class=\"col_heading level0 col2\" >4</th>\n",
       "      <th id=\"T_d05ca_level0_col3\" class=\"col_heading level0 col3\" >5</th>\n",
       "      <th id=\"T_d05ca_level0_col4\" class=\"col_heading level0 col4\" >6</th>\n",
       "      <th id=\"T_d05ca_level0_col5\" class=\"col_heading level0 col5\" >7</th>\n",
       "      <th id=\"T_d05ca_level0_col6\" class=\"col_heading level0 col6\" >8</th>\n",
       "      <th id=\"T_d05ca_level0_col7\" class=\"col_heading level0 col7\" >9</th>\n",
       "      <th id=\"T_d05ca_level0_col8\" class=\"col_heading level0 col8\" >10</th>\n",
       "      <th id=\"T_d05ca_level0_col9\" class=\"col_heading level0 col9\" >11</th>\n",
       "      <th id=\"T_d05ca_level0_col10\" class=\"col_heading level0 col10\" >12</th>\n",
       "      <th id=\"T_d05ca_level0_col11\" class=\"col_heading level0 col11\" >13</th>\n",
       "      <th id=\"T_d05ca_level0_col12\" class=\"col_heading level0 col12\" >14</th>\n",
       "      <th id=\"T_d05ca_level0_col13\" class=\"col_heading level0 col13\" >15</th>\n",
       "      <th id=\"T_d05ca_level0_col14\" class=\"col_heading level0 col14\" >16</th>\n",
       "      <th id=\"T_d05ca_level0_col15\" class=\"col_heading level0 col15\" >17</th>\n",
       "      <th id=\"T_d05ca_level0_col16\" class=\"col_heading level0 col16\" >18</th>\n",
       "      <th id=\"T_d05ca_level0_col17\" class=\"col_heading level0 col17\" >19</th>\n",
       "      <th id=\"T_d05ca_level0_col18\" class=\"col_heading level0 col18\" >20</th>\n",
       "      <th id=\"T_d05ca_level0_col19\" class=\"col_heading level0 col19\" >21</th>\n",
       "      <th id=\"T_d05ca_level0_col20\" class=\"col_heading level0 col20\" >22</th>\n",
       "      <th id=\"T_d05ca_level0_col21\" class=\"col_heading level0 col21\" >23</th>\n",
       "      <th id=\"T_d05ca_level0_col22\" class=\"col_heading level0 col22\" >24</th>\n",
       "    </tr>\n",
       "  </thead>\n",
       "  <tbody>\n",
       "    <tr>\n",
       "      <th id=\"T_d05ca_level0_row0\" class=\"row_heading level0 row0\" >KMeans</th>\n",
       "      <td id=\"T_d05ca_row0_col0\" class=\"data row0 col0\" >0.358707</td>\n",
       "      <td id=\"T_d05ca_row0_col1\" class=\"data row0 col1\" >0.386391</td>\n",
       "      <td id=\"T_d05ca_row0_col2\" class=\"data row0 col2\" >0.410798</td>\n",
       "      <td id=\"T_d05ca_row0_col3\" class=\"data row0 col3\" >0.401629</td>\n",
       "      <td id=\"T_d05ca_row0_col4\" class=\"data row0 col4\" >0.422657</td>\n",
       "      <td id=\"T_d05ca_row0_col5\" class=\"data row0 col5\" >0.425187</td>\n",
       "      <td id=\"T_d05ca_row0_col6\" class=\"data row0 col6\" >0.420420</td>\n",
       "      <td id=\"T_d05ca_row0_col7\" class=\"data row0 col7\" >0.430319</td>\n",
       "      <td id=\"T_d05ca_row0_col8\" class=\"data row0 col8\" >0.426001</td>\n",
       "      <td id=\"T_d05ca_row0_col9\" class=\"data row0 col9\" >0.441740</td>\n",
       "      <td id=\"T_d05ca_row0_col10\" class=\"data row0 col10\" >0.438141</td>\n",
       "      <td id=\"T_d05ca_row0_col11\" class=\"data row0 col11\" >0.442159</td>\n",
       "      <td id=\"T_d05ca_row0_col12\" class=\"data row0 col12\" >0.445275</td>\n",
       "      <td id=\"T_d05ca_row0_col13\" class=\"data row0 col13\" >0.446146</td>\n",
       "      <td id=\"T_d05ca_row0_col14\" class=\"data row0 col14\" >0.448063</td>\n",
       "      <td id=\"T_d05ca_row0_col15\" class=\"data row0 col15\" >0.453429</td>\n",
       "      <td id=\"T_d05ca_row0_col16\" class=\"data row0 col16\" >0.464082</td>\n",
       "      <td id=\"T_d05ca_row0_col17\" class=\"data row0 col17\" >0.465699</td>\n",
       "      <td id=\"T_d05ca_row0_col18\" class=\"data row0 col18\" >0.467330</td>\n",
       "      <td id=\"T_d05ca_row0_col19\" class=\"data row0 col19\" >0.473706</td>\n",
       "      <td id=\"T_d05ca_row0_col20\" class=\"data row0 col20\" >0.465901</td>\n",
       "      <td id=\"T_d05ca_row0_col21\" class=\"data row0 col21\" >0.479078</td>\n",
       "      <td id=\"T_d05ca_row0_col22\" class=\"data row0 col22\" >0.474562</td>\n",
       "    </tr>\n",
       "    <tr>\n",
       "      <th id=\"T_d05ca_level0_row1\" class=\"row_heading level0 row1\" >GMM</th>\n",
       "      <td id=\"T_d05ca_row1_col0\" class=\"data row1 col0\" >0.352949</td>\n",
       "      <td id=\"T_d05ca_row1_col1\" class=\"data row1 col1\" >0.356591</td>\n",
       "      <td id=\"T_d05ca_row1_col2\" class=\"data row1 col2\" >0.408258</td>\n",
       "      <td id=\"T_d05ca_row1_col3\" class=\"data row1 col3\" >0.381609</td>\n",
       "      <td id=\"T_d05ca_row1_col4\" class=\"data row1 col4\" >0.389501</td>\n",
       "      <td id=\"T_d05ca_row1_col5\" class=\"data row1 col5\" >0.402391</td>\n",
       "      <td id=\"T_d05ca_row1_col6\" class=\"data row1 col6\" >0.367991</td>\n",
       "      <td id=\"T_d05ca_row1_col7\" class=\"data row1 col7\" >0.329724</td>\n",
       "      <td id=\"T_d05ca_row1_col8\" class=\"data row1 col8\" >0.324481</td>\n",
       "      <td id=\"T_d05ca_row1_col9\" class=\"data row1 col9\" >0.358130</td>\n",
       "      <td id=\"T_d05ca_row1_col10\" class=\"data row1 col10\" >0.336486</td>\n",
       "      <td id=\"T_d05ca_row1_col11\" class=\"data row1 col11\" >0.280444</td>\n",
       "      <td id=\"T_d05ca_row1_col12\" class=\"data row1 col12\" >0.356660</td>\n",
       "      <td id=\"T_d05ca_row1_col13\" class=\"data row1 col13\" >0.337739</td>\n",
       "      <td id=\"T_d05ca_row1_col14\" class=\"data row1 col14\" >0.365856</td>\n",
       "      <td id=\"T_d05ca_row1_col15\" class=\"data row1 col15\" >0.368695</td>\n",
       "      <td id=\"T_d05ca_row1_col16\" class=\"data row1 col16\" >0.393108</td>\n",
       "      <td id=\"T_d05ca_row1_col17\" class=\"data row1 col17\" >0.398002</td>\n",
       "      <td id=\"T_d05ca_row1_col18\" class=\"data row1 col18\" >0.409010</td>\n",
       "      <td id=\"T_d05ca_row1_col19\" class=\"data row1 col19\" >0.423280</td>\n",
       "      <td id=\"T_d05ca_row1_col20\" class=\"data row1 col20\" >0.348832</td>\n",
       "      <td id=\"T_d05ca_row1_col21\" class=\"data row1 col21\" >0.445087</td>\n",
       "      <td id=\"T_d05ca_row1_col22\" class=\"data row1 col22\" >0.444693</td>\n",
       "    </tr>\n",
       "    <tr>\n",
       "      <th id=\"T_d05ca_level0_row2\" class=\"row_heading level0 row2\" >HC</th>\n",
       "      <td id=\"T_d05ca_row2_col0\" class=\"data row2 col0\" >0.331309</td>\n",
       "      <td id=\"T_d05ca_row2_col1\" class=\"data row2 col1\" >0.311434</td>\n",
       "      <td id=\"T_d05ca_row2_col2\" class=\"data row2 col2\" >0.349052</td>\n",
       "      <td id=\"T_d05ca_row2_col3\" class=\"data row2 col3\" >0.384022</td>\n",
       "      <td id=\"T_d05ca_row2_col4\" class=\"data row2 col4\" >0.399581</td>\n",
       "      <td id=\"T_d05ca_row2_col5\" class=\"data row2 col5\" >0.422134</td>\n",
       "      <td id=\"T_d05ca_row2_col6\" class=\"data row2 col6\" >0.422915</td>\n",
       "      <td id=\"T_d05ca_row2_col7\" class=\"data row2 col7\" >0.413174</td>\n",
       "      <td id=\"T_d05ca_row2_col8\" class=\"data row2 col8\" >0.387751</td>\n",
       "      <td id=\"T_d05ca_row2_col9\" class=\"data row2 col9\" >0.382645</td>\n",
       "      <td id=\"T_d05ca_row2_col10\" class=\"data row2 col10\" >0.383704</td>\n",
       "      <td id=\"T_d05ca_row2_col11\" class=\"data row2 col11\" >0.385569</td>\n",
       "      <td id=\"T_d05ca_row2_col12\" class=\"data row2 col12\" >0.395506</td>\n",
       "      <td id=\"T_d05ca_row2_col13\" class=\"data row2 col13\" >0.397227</td>\n",
       "      <td id=\"T_d05ca_row2_col14\" class=\"data row2 col14\" >0.411853</td>\n",
       "      <td id=\"T_d05ca_row2_col15\" class=\"data row2 col15\" >0.416379</td>\n",
       "      <td id=\"T_d05ca_row2_col16\" class=\"data row2 col16\" >0.429827</td>\n",
       "      <td id=\"T_d05ca_row2_col17\" class=\"data row2 col17\" >0.443206</td>\n",
       "      <td id=\"T_d05ca_row2_col18\" class=\"data row2 col18\" >0.447965</td>\n",
       "      <td id=\"T_d05ca_row2_col19\" class=\"data row2 col19\" >0.460334</td>\n",
       "      <td id=\"T_d05ca_row2_col20\" class=\"data row2 col20\" >0.462218</td>\n",
       "      <td id=\"T_d05ca_row2_col21\" class=\"data row2 col21\" >0.467046</td>\n",
       "      <td id=\"T_d05ca_row2_col22\" class=\"data row2 col22\" >0.465677</td>\n",
       "    </tr>\n",
       "  </tbody>\n",
       "</table>\n"
      ],
      "text/plain": [
       "<pandas.io.formats.style.Styler at 0x243388cc220>"
      ]
     },
     "execution_count": 105,
     "metadata": {},
     "output_type": "execute_result"
    }
   ],
   "source": [
    "# t-sne\n",
    "df_results = pd.DataFrame(\n",
    "    {'KMeans': kmeans_list,\n",
    "    'GMM':gmm_list,\n",
    "    'HC':hc_list} ).T\n",
    "\n",
    "df_results.columns = clusters\n",
    "df_results.style.highlight_max(color = 'lightgreen', axis = 1)"
   ]
  },
  {
   "cell_type": "code",
   "execution_count": null,
   "id": "77837918",
   "metadata": {},
   "outputs": [],
   "source": []
  },
  {
   "cell_type": "markdown",
   "id": "b8d572f1",
   "metadata": {},
   "source": [
    "# 8.0 Model Training"
   ]
  },
  {
   "cell_type": "code",
   "execution_count": null,
   "id": "f77ddf1b",
   "metadata": {},
   "outputs": [],
   "source": []
  },
  {
   "cell_type": "markdown",
   "id": "b336dde8",
   "metadata": {},
   "source": [
    "## 8.2 GMM"
   ]
  },
  {
   "cell_type": "code",
   "execution_count": 109,
   "id": "c350ba81",
   "metadata": {
    "ExecuteTime": {
     "end_time": "2023-03-19T17:20:46.403445Z",
     "start_time": "2023-03-19T17:19:46.499059Z"
    }
   },
   "outputs": [],
   "source": [
    "k = 8\n",
    "\n",
    "gmm_model = GaussianMixture(n_components = k, n_init = 300, random_state = 32)\n",
    "\n",
    "# model training\n",
    "gmm_model.fit( X )\n",
    "\n",
    "\n",
    "# model prediction\n",
    "labels = gmm_model.predict( X )\n",
    "\n",
    "# model evaluation\n",
    "sil = silhouette_score( X, labels, metric = 'euclidean')\n",
    "#     print(sil)"
   ]
  },
  {
   "cell_type": "markdown",
   "id": "ba2d2b89",
   "metadata": {},
   "source": [
    "### 8.2.1 Cluster Validation"
   ]
  },
  {
   "cell_type": "code",
   "execution_count": 110,
   "id": "a2946ac9",
   "metadata": {
    "ExecuteTime": {
     "end_time": "2023-03-19T17:20:46.419341Z",
     "start_time": "2023-03-19T17:20:46.407351Z"
    }
   },
   "outputs": [
    {
     "name": "stdout",
     "output_type": "stream",
     "text": [
      "SS score: 0.2322438359260559\n"
     ]
    }
   ],
   "source": [
    "# WSS\n",
    "# print('WSS score: {}'.format(kmeans.inertia_))\n",
    "\n",
    "## SS\n",
    "print('SS score: {}'.format(sil))"
   ]
  },
  {
   "cell_type": "code",
   "execution_count": null,
   "id": "e25c526b",
   "metadata": {},
   "outputs": [],
   "source": []
  },
  {
   "cell_type": "markdown",
   "id": "e475d774",
   "metadata": {},
   "source": [
    "# 9.0 Cluster Analysis"
   ]
  },
  {
   "cell_type": "code",
   "execution_count": 111,
   "id": "18033339",
   "metadata": {
    "ExecuteTime": {
     "end_time": "2023-03-19T17:20:46.451280Z",
     "start_time": "2023-03-19T17:20:46.426235Z"
    }
   },
   "outputs": [],
   "source": [
    "df9 = X.copy()\n",
    "df9['cluster'] = labels"
   ]
  },
  {
   "cell_type": "code",
   "execution_count": null,
   "id": "0c8450ff",
   "metadata": {
    "ExecuteTime": {
     "end_time": "2023-03-13T22:57:05.559407Z",
     "start_time": "2023-03-13T22:57:05.552425Z"
    }
   },
   "outputs": [],
   "source": []
  },
  {
   "cell_type": "markdown",
   "id": "9ee7db84",
   "metadata": {},
   "source": [
    "## 9.2  Visualization Inspection - GMM"
   ]
  },
  {
   "cell_type": "code",
   "execution_count": 112,
   "id": "2512d176",
   "metadata": {
    "ExecuteTime": {
     "end_time": "2023-03-19T17:20:47.262570Z",
     "start_time": "2023-03-19T17:20:46.461134Z"
    }
   },
   "outputs": [
    {
     "data": {
      "text/plain": [
       "<AxesSubplot: xlabel='embedding_x', ylabel='embedding_y'>"
      ]
     },
     "execution_count": 112,
     "metadata": {},
     "output_type": "execute_result"
    },
    {
     "data": {
      "image/png": "[encoded data removed]",
      "text/plain": [
       "<Figure size 640x480 with 1 Axes>"
      ]
     },
     "metadata": {},
     "output_type": "display_data"
    }
   ],
   "source": [
    "sns.scatterplot(x = 'embedding_x',y='embedding_y', data = df9, hue = 'cluster', palette = 'deep') #8"
   ]
  },
  {
   "cell_type": "code",
   "execution_count": null,
   "id": "78539468",
   "metadata": {},
   "outputs": [],
   "source": []
  },
  {
   "cell_type": "markdown",
   "id": "f8a8fe73",
   "metadata": {},
   "source": [
    "## 9.2 Cluster Profile"
   ]
  },
  {
   "cell_type": "code",
   "execution_count": 113,
   "id": "6eb9cca7",
   "metadata": {
    "ExecuteTime": {
     "end_time": "2023-03-19T17:20:47.277530Z",
     "start_time": "2023-03-19T17:20:47.264566Z"
    }
   },
   "outputs": [
    {
     "data": {
      "text/html": [
       "<div>\n",
       "<style scoped>\n",
       "    .dataframe tbody tr th:only-of-type {\n",
       "        vertical-align: middle;\n",
       "    }\n",
       "\n",
       "    .dataframe tbody tr th {\n",
       "        vertical-align: top;\n",
       "    }\n",
       "\n",
       "    .dataframe thead th {\n",
       "        text-align: right;\n",
       "    }\n",
       "</style>\n",
       "<table border=\"1\" class=\"dataframe\">\n",
       "  <thead>\n",
       "    <tr style=\"text-align: right;\">\n",
       "      <th></th>\n",
       "      <th>customer_id</th>\n",
       "      <th>gross_revenue</th>\n",
       "      <th>recency_days</th>\n",
       "      <th>qtde_products</th>\n",
       "      <th>frequency</th>\n",
       "      <th>qtde_returns</th>\n",
       "      <th>cluster</th>\n",
       "    </tr>\n",
       "  </thead>\n",
       "  <tbody>\n",
       "    <tr>\n",
       "      <th>0</th>\n",
       "      <td>17850</td>\n",
       "      <td>5391.2100</td>\n",
       "      <td>372.0000</td>\n",
       "      <td>297.0000</td>\n",
       "      <td>17.0000</td>\n",
       "      <td>40.0000</td>\n",
       "      <td>1</td>\n",
       "    </tr>\n",
       "    <tr>\n",
       "      <th>1</th>\n",
       "      <td>13047</td>\n",
       "      <td>3232.5900</td>\n",
       "      <td>56.0000</td>\n",
       "      <td>171.0000</td>\n",
       "      <td>0.0283</td>\n",
       "      <td>35.0000</td>\n",
       "      <td>2</td>\n",
       "    </tr>\n",
       "    <tr>\n",
       "      <th>2</th>\n",
       "      <td>12583</td>\n",
       "      <td>6705.3800</td>\n",
       "      <td>2.0000</td>\n",
       "      <td>232.0000</td>\n",
       "      <td>0.0403</td>\n",
       "      <td>50.0000</td>\n",
       "      <td>6</td>\n",
       "    </tr>\n",
       "    <tr>\n",
       "      <th>3</th>\n",
       "      <td>13748</td>\n",
       "      <td>948.2500</td>\n",
       "      <td>95.0000</td>\n",
       "      <td>28.0000</td>\n",
       "      <td>0.0179</td>\n",
       "      <td>0.0000</td>\n",
       "      <td>7</td>\n",
       "    </tr>\n",
       "    <tr>\n",
       "      <th>4</th>\n",
       "      <td>15100</td>\n",
       "      <td>876.0000</td>\n",
       "      <td>333.0000</td>\n",
       "      <td>3.0000</td>\n",
       "      <td>0.0732</td>\n",
       "      <td>22.0000</td>\n",
       "      <td>5</td>\n",
       "    </tr>\n",
       "  </tbody>\n",
       "</table>\n",
       "</div>"
      ],
      "text/plain": [
       "   customer_id  gross_revenue  recency_days  qtde_products  frequency  \\\n",
       "0        17850      5391.2100      372.0000       297.0000    17.0000   \n",
       "1        13047      3232.5900       56.0000       171.0000     0.0283   \n",
       "2        12583      6705.3800        2.0000       232.0000     0.0403   \n",
       "3        13748       948.2500       95.0000        28.0000     0.0179   \n",
       "4        15100       876.0000      333.0000         3.0000     0.0732   \n",
       "\n",
       "   qtde_returns  cluster  \n",
       "0       40.0000        1  \n",
       "1       35.0000        2  \n",
       "2       50.0000        6  \n",
       "3        0.0000        7  \n",
       "4       22.0000        5  "
      ]
     },
     "execution_count": 113,
     "metadata": {},
     "output_type": "execute_result"
    }
   ],
   "source": [
    "df92 = df4[cols_selected].copy()\n",
    "# df92['cluster'] = labels_kmeans\n",
    "df92['cluster'] = labels\n",
    "df92.head()"
   ]
  },
  {
   "cell_type": "code",
   "execution_count": 114,
   "id": "6b0bec02",
   "metadata": {
    "ExecuteTime": {
     "end_time": "2023-03-19T17:20:47.325409Z",
     "start_time": "2023-03-19T17:20:47.278528Z"
    }
   },
   "outputs": [
    {
     "data": {
      "text/html": [
       "<div>\n",
       "<style scoped>\n",
       "    .dataframe tbody tr th:only-of-type {\n",
       "        vertical-align: middle;\n",
       "    }\n",
       "\n",
       "    .dataframe tbody tr th {\n",
       "        vertical-align: top;\n",
       "    }\n",
       "\n",
       "    .dataframe thead th {\n",
       "        text-align: right;\n",
       "    }\n",
       "</style>\n",
       "<table border=\"1\" class=\"dataframe\">\n",
       "  <thead>\n",
       "    <tr style=\"text-align: right;\">\n",
       "      <th></th>\n",
       "      <th>cluster</th>\n",
       "      <th>customer_id</th>\n",
       "      <th>perc_cluster</th>\n",
       "      <th>gross_revenue</th>\n",
       "      <th>recency_days</th>\n",
       "      <th>qtde_products</th>\n",
       "      <th>frequency</th>\n",
       "      <th>qtde_returns</th>\n",
       "    </tr>\n",
       "  </thead>\n",
       "  <tbody>\n",
       "    <tr>\n",
       "      <th>6</th>\n",
       "      <td>6</td>\n",
       "      <td>480</td>\n",
       "      <td>8.4284</td>\n",
       "      <td>8653.0858</td>\n",
       "      <td>3.5979</td>\n",
       "      <td>308.9396</td>\n",
       "      <td>0.0582</td>\n",
       "      <td>99.7750</td>\n",
       "    </tr>\n",
       "    <tr>\n",
       "      <th>3</th>\n",
       "      <td>3</td>\n",
       "      <td>748</td>\n",
       "      <td>13.1343</td>\n",
       "      <td>2151.4094</td>\n",
       "      <td>14.4920</td>\n",
       "      <td>120.3703</td>\n",
       "      <td>0.0367</td>\n",
       "      <td>26.2353</td>\n",
       "    </tr>\n",
       "    <tr>\n",
       "      <th>2</th>\n",
       "      <td>2</td>\n",
       "      <td>785</td>\n",
       "      <td>13.7840</td>\n",
       "      <td>1705.2666</td>\n",
       "      <td>41.7962</td>\n",
       "      <td>98.8904</td>\n",
       "      <td>0.0282</td>\n",
       "      <td>14.7019</td>\n",
       "    </tr>\n",
       "    <tr>\n",
       "      <th>7</th>\n",
       "      <td>7</td>\n",
       "      <td>305</td>\n",
       "      <td>5.3556</td>\n",
       "      <td>1344.3750</td>\n",
       "      <td>85.8361</td>\n",
       "      <td>66.1607</td>\n",
       "      <td>0.0263</td>\n",
       "      <td>7.7902</td>\n",
       "    </tr>\n",
       "    <tr>\n",
       "      <th>0</th>\n",
       "      <td>0</td>\n",
       "      <td>452</td>\n",
       "      <td>7.9368</td>\n",
       "      <td>1029.1473</td>\n",
       "      <td>20.0088</td>\n",
       "      <td>82.7832</td>\n",
       "      <td>1.0540</td>\n",
       "      <td>1.2987</td>\n",
       "    </tr>\n",
       "    <tr>\n",
       "      <th>1</th>\n",
       "      <td>1</td>\n",
       "      <td>472</td>\n",
       "      <td>8.2880</td>\n",
       "      <td>745.2326</td>\n",
       "      <td>228.2225</td>\n",
       "      <td>44.8051</td>\n",
       "      <td>0.4639</td>\n",
       "      <td>7.7161</td>\n",
       "    </tr>\n",
       "    <tr>\n",
       "      <th>4</th>\n",
       "      <td>4</td>\n",
       "      <td>724</td>\n",
       "      <td>12.7129</td>\n",
       "      <td>728.6587</td>\n",
       "      <td>212.0414</td>\n",
       "      <td>49.5359</td>\n",
       "      <td>1.0068</td>\n",
       "      <td>3.7818</td>\n",
       "    </tr>\n",
       "    <tr>\n",
       "      <th>5</th>\n",
       "      <td>5</td>\n",
       "      <td>1729</td>\n",
       "      <td>30.3600</td>\n",
       "      <td>722.0573</td>\n",
       "      <td>187.4297</td>\n",
       "      <td>55.9740</td>\n",
       "      <td>0.9294</td>\n",
       "      <td>51.8641</td>\n",
       "    </tr>\n",
       "  </tbody>\n",
       "</table>\n",
       "</div>"
      ],
      "text/plain": [
       "   cluster  customer_id  perc_cluster  gross_revenue  recency_days  \\\n",
       "6        6          480        8.4284      8653.0858        3.5979   \n",
       "3        3          748       13.1343      2151.4094       14.4920   \n",
       "2        2          785       13.7840      1705.2666       41.7962   \n",
       "7        7          305        5.3556      1344.3750       85.8361   \n",
       "0        0          452        7.9368      1029.1473       20.0088   \n",
       "1        1          472        8.2880       745.2326      228.2225   \n",
       "4        4          724       12.7129       728.6587      212.0414   \n",
       "5        5         1729       30.3600       722.0573      187.4297   \n",
       "\n",
       "   qtde_products  frequency  qtde_returns  \n",
       "6       308.9396     0.0582       99.7750  \n",
       "3       120.3703     0.0367       26.2353  \n",
       "2        98.8904     0.0282       14.7019  \n",
       "7        66.1607     0.0263        7.7902  \n",
       "0        82.7832     1.0540        1.2987  \n",
       "1        44.8051     0.4639        7.7161  \n",
       "4        49.5359     1.0068        3.7818  \n",
       "5        55.9740     0.9294       51.8641  "
      ]
     },
     "execution_count": 114,
     "metadata": {},
     "output_type": "execute_result"
    }
   ],
   "source": [
    "# number of customer\n",
    "df_cluster = df92[['customer_id','cluster']].groupby('cluster').count().reset_index()\n",
    "df_cluster['perc_cluster'] = 100 * df_cluster['customer_id'] / df_cluster['customer_id'].sum()\n",
    "\n",
    "# average gross revenue\n",
    "df_cluster_gross_revenue = df92[['gross_revenue','cluster']].groupby('cluster').mean().reset_index()\n",
    "df_cluster = df_cluster.merge(df_cluster_gross_revenue, on = 'cluster', how = 'inner')\n",
    "\n",
    "# average recency days\n",
    "df_cluster_recency_days = df92[['recency_days','cluster']].groupby('cluster').mean().reset_index()\n",
    "df_cluster = df_cluster.merge(df_cluster_recency_days, on = 'cluster', how = 'inner')\n",
    "\n",
    "# average qtd products\n",
    "df_cluster_invoice_no = df92[['qtde_products','cluster']].groupby('cluster').mean().reset_index()\n",
    "df_cluster = df_cluster.merge(df_cluster_invoice_no, on = 'cluster', how = 'inner')\n",
    "\n",
    "# average frequency\n",
    "df_cluster_invoice_no = df92[['frequency','cluster']].groupby('cluster').mean().reset_index()\n",
    "df_cluster = df_cluster.merge(df_cluster_invoice_no, on = 'cluster', how = 'inner')\n",
    "\n",
    "# average returns\n",
    "df_cluster_invoice_no = df92[['qtde_returns','cluster']].groupby('cluster').mean().reset_index()\n",
    "df_cluster = df_cluster.merge(df_cluster_invoice_no, on = 'cluster', how = 'inner')\n",
    "\n",
    "\n",
    "df_cluster.sort_values(by=['gross_revenue'], ascending = False)"
   ]
  },
  {
   "cell_type": "code",
   "execution_count": 115,
   "id": "01b10c03",
   "metadata": {
    "ExecuteTime": {
     "end_time": "2023-03-19T17:25:24.925257Z",
     "start_time": "2023-03-19T17:25:24.913290Z"
    }
   },
   "outputs": [],
   "source": [
    "# 6 Cluster Insiders\n",
    "# 3 Cluster More Products\n",
    "# 2 Cluster Spend Money\n",
    "# 7 Cluster Even More Products\n",
    "# 0 Cluster Less Days\n",
    "# 1 Cluster Less 1k\n",
    "# 4 Cluster Stop Returners\n",
    "# 5 Cluster More Buy"
   ]
  },
  {
   "cell_type": "code",
   "execution_count": null,
   "id": "bacf89fa",
   "metadata": {},
   "outputs": [],
   "source": []
  },
  {
   "cell_type": "markdown",
   "id": "49cdb972",
   "metadata": {},
   "source": [
    "- Cluster 01 (Insiders):\n",
    "    - Número de clientes: 468 (15 % do total)\n",
    "    - Recência média de 21 dias\n",
    "    - Compras em média de 424 compras\n",
    "    - Receita média de $ 8835,90\n",
    "    \n",
    "\n",
    "- Cluster 02:\n",
    "    - Número de clientes: 31 (0,71 % do total)\n",
    "    - Recência média de 13 dias\n",
    "    - Compras em média de 53 compras\n",
    "    - Receita média de $ 40.543,52\n",
    "\n",
    "\n",
    "- Cluster 03:\n",
    "    - Número de clientes: 4335 (99,15 % do total)\n",
    "    - Recência média de 92 dias\n",
    "    - Compras em média de 4 compras\n",
    "    - Receita média de $ 1372,58"
   ]
  },
  {
   "cell_type": "markdown",
   "id": "32d72972",
   "metadata": {},
   "source": [
    "# 10 EDA - Hypothesis"
   ]
  },
  {
   "cell_type": "code",
   "execution_count": 116,
   "id": "cebb6a5e",
   "metadata": {
    "ExecuteTime": {
     "end_time": "2023-03-19T17:25:29.618595Z",
     "start_time": "2023-03-19T17:25:29.597316Z"
    }
   },
   "outputs": [
    {
     "data": {
      "text/html": [
       "<div>\n",
       "<style scoped>\n",
       "    .dataframe tbody tr th:only-of-type {\n",
       "        vertical-align: middle;\n",
       "    }\n",
       "\n",
       "    .dataframe tbody tr th {\n",
       "        vertical-align: top;\n",
       "    }\n",
       "\n",
       "    .dataframe thead th {\n",
       "        text-align: right;\n",
       "    }\n",
       "</style>\n",
       "<table border=\"1\" class=\"dataframe\">\n",
       "  <thead>\n",
       "    <tr style=\"text-align: right;\">\n",
       "      <th></th>\n",
       "      <th>customer_id</th>\n",
       "      <th>gross_revenue</th>\n",
       "      <th>recency_days</th>\n",
       "      <th>qtde_products</th>\n",
       "      <th>frequency</th>\n",
       "      <th>qtde_returns</th>\n",
       "      <th>cluster</th>\n",
       "    </tr>\n",
       "  </thead>\n",
       "  <tbody>\n",
       "    <tr>\n",
       "      <th>0</th>\n",
       "      <td>17850</td>\n",
       "      <td>5391.2100</td>\n",
       "      <td>372.0000</td>\n",
       "      <td>297.0000</td>\n",
       "      <td>17.0000</td>\n",
       "      <td>40.0000</td>\n",
       "      <td>1</td>\n",
       "    </tr>\n",
       "    <tr>\n",
       "      <th>1</th>\n",
       "      <td>13047</td>\n",
       "      <td>3232.5900</td>\n",
       "      <td>56.0000</td>\n",
       "      <td>171.0000</td>\n",
       "      <td>0.0283</td>\n",
       "      <td>35.0000</td>\n",
       "      <td>2</td>\n",
       "    </tr>\n",
       "    <tr>\n",
       "      <th>2</th>\n",
       "      <td>12583</td>\n",
       "      <td>6705.3800</td>\n",
       "      <td>2.0000</td>\n",
       "      <td>232.0000</td>\n",
       "      <td>0.0403</td>\n",
       "      <td>50.0000</td>\n",
       "      <td>6</td>\n",
       "    </tr>\n",
       "    <tr>\n",
       "      <th>3</th>\n",
       "      <td>13748</td>\n",
       "      <td>948.2500</td>\n",
       "      <td>95.0000</td>\n",
       "      <td>28.0000</td>\n",
       "      <td>0.0179</td>\n",
       "      <td>0.0000</td>\n",
       "      <td>7</td>\n",
       "    </tr>\n",
       "    <tr>\n",
       "      <th>4</th>\n",
       "      <td>15100</td>\n",
       "      <td>876.0000</td>\n",
       "      <td>333.0000</td>\n",
       "      <td>3.0000</td>\n",
       "      <td>0.0732</td>\n",
       "      <td>22.0000</td>\n",
       "      <td>5</td>\n",
       "    </tr>\n",
       "  </tbody>\n",
       "</table>\n",
       "</div>"
      ],
      "text/plain": [
       "   customer_id  gross_revenue  recency_days  qtde_products  frequency  \\\n",
       "0        17850      5391.2100      372.0000       297.0000    17.0000   \n",
       "1        13047      3232.5900       56.0000       171.0000     0.0283   \n",
       "2        12583      6705.3800        2.0000       232.0000     0.0403   \n",
       "3        13748       948.2500       95.0000        28.0000     0.0179   \n",
       "4        15100       876.0000      333.0000         3.0000     0.0732   \n",
       "\n",
       "   qtde_returns  cluster  \n",
       "0       40.0000        1  \n",
       "1       35.0000        2  \n",
       "2       50.0000        6  \n",
       "3        0.0000        7  \n",
       "4       22.0000        5  "
      ]
     },
     "execution_count": 116,
     "metadata": {},
     "output_type": "execute_result"
    }
   ],
   "source": [
    "df10 = df92.copy()\n",
    "df10.head()"
   ]
  },
  {
   "cell_type": "code",
   "execution_count": null,
   "id": "1b93ed99",
   "metadata": {},
   "outputs": [],
   "source": []
  },
  {
   "cell_type": "markdown",
   "id": "054593a4",
   "metadata": {},
   "source": [
    "# 11.0 Deploy to Production"
   ]
  },
  {
   "cell_type": "code",
   "execution_count": 117,
   "id": "d3b6f5c8",
   "metadata": {
    "ExecuteTime": {
     "end_time": "2023-03-19T17:25:32.573018Z",
     "start_time": "2023-03-19T17:25:32.564043Z"
    }
   },
   "outputs": [],
   "source": [
    "for i in ['recency_days','qtde_returns','qtde_products']:\n",
    "    df92[i] = df92[i].astype('int64')"
   ]
  },
  {
   "cell_type": "code",
   "execution_count": 13,
   "id": "a205f658",
   "metadata": {
    "ExecuteTime": {
     "end_time": "2023-03-19T20:24:20.976667Z",
     "start_time": "2023-03-19T20:24:20.969732Z"
    }
   },
   "outputs": [
    {
     "data": {
      "text/plain": [
       "'sqlite:///C:\\\\repos\\\\portfolio_projetos\\\\pa005_insider_clustering\\\\notebooks\\\\insiders_db.sqlite'"
      ]
     },
     "execution_count": 13,
     "metadata": {},
     "output_type": "execute_result"
    }
   ],
   "source": [
    "banco = 'sqlite:///' + caminho + '\\\\notebooks\\\\insiders_db.sqlite'\n",
    "banco"
   ]
  },
  {
   "cell_type": "code",
   "execution_count": 14,
   "id": "3f19bddf",
   "metadata": {
    "ExecuteTime": {
     "end_time": "2023-03-19T20:24:21.416253Z",
     "start_time": "2023-03-19T20:24:21.395311Z"
    }
   },
   "outputs": [],
   "source": [
    "conn = create_engine(banco)"
   ]
  },
  {
   "cell_type": "code",
   "execution_count": 15,
   "id": "94fe6705",
   "metadata": {
    "ExecuteTime": {
     "end_time": "2023-03-19T20:24:32.593342Z",
     "start_time": "2023-03-19T20:24:32.570362Z"
    }
   },
   "outputs": [
    {
     "data": {
      "text/plain": [
       "<sqlalchemy.engine.cursor.LegacyCursorResult at 0x1e065844580>"
      ]
     },
     "execution_count": 15,
     "metadata": {},
     "output_type": "execute_result"
    }
   ],
   "source": [
    "query_truncate_table_insiders = \"\"\" DROP TABLE insiders\"\"\"\n",
    "conn.execute( query_truncate_table_insiders )"
   ]
  },
  {
   "cell_type": "code",
   "execution_count": 16,
   "id": "fcbdf3b4",
   "metadata": {
    "ExecuteTime": {
     "end_time": "2023-03-19T20:24:34.816111Z",
     "start_time": "2023-03-19T20:24:34.804142Z"
    }
   },
   "outputs": [
    {
     "data": {
      "text/plain": [
       "<sqlalchemy.engine.cursor.LegacyCursorResult at 0x1e05be89700>"
      ]
     },
     "execution_count": 16,
     "metadata": {},
     "output_type": "execute_result"
    }
   ],
   "source": [
    "# create table\n",
    "query_create_insiders = \"\"\"\n",
    "    CREATE TABLE insiders (\n",
    "    customer_id      INTEGER,\n",
    "    gross_revenue    REAL,\n",
    "    recency_days     INTEGER,\n",
    "    qtde_products    INTEGER,\n",
    "    frequency        REAL,\n",
    "    qtde_returns     INTEGER,\n",
    "    cluster          INTEGER\n",
    "    )\n",
    "    \"\"\"\n",
    "\n",
    "# conn = sqlite3.connect('insiders_db.sqlite')\n",
    "conn.execute( query_create_insiders )\n",
    "# conn.commit()\n",
    "# conn.close()"
   ]
  },
  {
   "cell_type": "code",
   "execution_count": 17,
   "id": "63998db0",
   "metadata": {
    "ExecuteTime": {
     "end_time": "2023-03-19T20:24:40.617743Z",
     "start_time": "2023-03-19T20:24:40.596810Z"
    }
   },
   "outputs": [
    {
     "ename": "NameError",
     "evalue": "name 'df92' is not defined",
     "output_type": "error",
     "traceback": [
      "\u001b[1;31m---------------------------------------------------------------------------\u001b[0m",
      "\u001b[1;31mNameError\u001b[0m                                 Traceback (most recent call last)",
      "Cell \u001b[1;32mIn[17], line 2\u001b[0m\n\u001b[0;32m      1\u001b[0m \u001b[38;5;66;03m# # insert data\u001b[39;00m\n\u001b[1;32m----> 2\u001b[0m \u001b[43mdf92\u001b[49m\u001b[38;5;241m.\u001b[39mto_sql(\u001b[38;5;124m'\u001b[39m\u001b[38;5;124minsiders\u001b[39m\u001b[38;5;124m'\u001b[39m,con \u001b[38;5;241m=\u001b[39m conn, if_exists \u001b[38;5;241m=\u001b[39m \u001b[38;5;124m'\u001b[39m\u001b[38;5;124mappend\u001b[39m\u001b[38;5;124m'\u001b[39m, index \u001b[38;5;241m=\u001b[39m \u001b[38;5;28;01mFalse\u001b[39;00m)\n",
      "\u001b[1;31mNameError\u001b[0m: name 'df92' is not defined"
     ]
    }
   ],
   "source": [
    "# # insert data\n",
    "df92.to_sql('insiders',con = conn, if_exists = 'append', index = False)"
   ]
  },
  {
   "cell_type": "code",
   "execution_count": 122,
   "id": "37a10cce",
   "metadata": {
    "ExecuteTime": {
     "end_time": "2023-03-19T17:25:40.757621Z",
     "start_time": "2023-03-19T17:25:40.710747Z"
    }
   },
   "outputs": [
    {
     "data": {
      "text/html": [
       "<div>\n",
       "<style scoped>\n",
       "    .dataframe tbody tr th:only-of-type {\n",
       "        vertical-align: middle;\n",
       "    }\n",
       "\n",
       "    .dataframe tbody tr th {\n",
       "        vertical-align: top;\n",
       "    }\n",
       "\n",
       "    .dataframe thead th {\n",
       "        text-align: right;\n",
       "    }\n",
       "</style>\n",
       "<table border=\"1\" class=\"dataframe\">\n",
       "  <thead>\n",
       "    <tr style=\"text-align: right;\">\n",
       "      <th></th>\n",
       "      <th>customer_id</th>\n",
       "      <th>gross_revenue</th>\n",
       "      <th>recency_days</th>\n",
       "      <th>qtde_products</th>\n",
       "      <th>frequency</th>\n",
       "      <th>qtde_returns</th>\n",
       "      <th>cluster</th>\n",
       "    </tr>\n",
       "  </thead>\n",
       "  <tbody>\n",
       "    <tr>\n",
       "      <th>0</th>\n",
       "      <td>17850</td>\n",
       "      <td>5391.2100</td>\n",
       "      <td>372</td>\n",
       "      <td>297</td>\n",
       "      <td>17.0000</td>\n",
       "      <td>40</td>\n",
       "      <td>1</td>\n",
       "    </tr>\n",
       "    <tr>\n",
       "      <th>1</th>\n",
       "      <td>13047</td>\n",
       "      <td>3232.5900</td>\n",
       "      <td>56</td>\n",
       "      <td>171</td>\n",
       "      <td>0.0283</td>\n",
       "      <td>35</td>\n",
       "      <td>2</td>\n",
       "    </tr>\n",
       "    <tr>\n",
       "      <th>2</th>\n",
       "      <td>12583</td>\n",
       "      <td>6705.3800</td>\n",
       "      <td>2</td>\n",
       "      <td>232</td>\n",
       "      <td>0.0403</td>\n",
       "      <td>50</td>\n",
       "      <td>6</td>\n",
       "    </tr>\n",
       "    <tr>\n",
       "      <th>3</th>\n",
       "      <td>13748</td>\n",
       "      <td>948.2500</td>\n",
       "      <td>95</td>\n",
       "      <td>28</td>\n",
       "      <td>0.0179</td>\n",
       "      <td>0</td>\n",
       "      <td>7</td>\n",
       "    </tr>\n",
       "    <tr>\n",
       "      <th>4</th>\n",
       "      <td>15100</td>\n",
       "      <td>876.0000</td>\n",
       "      <td>333</td>\n",
       "      <td>3</td>\n",
       "      <td>0.0732</td>\n",
       "      <td>22</td>\n",
       "      <td>5</td>\n",
       "    </tr>\n",
       "    <tr>\n",
       "      <th>...</th>\n",
       "      <td>...</td>\n",
       "      <td>...</td>\n",
       "      <td>...</td>\n",
       "      <td>...</td>\n",
       "      <td>...</td>\n",
       "      <td>...</td>\n",
       "      <td>...</td>\n",
       "    </tr>\n",
       "    <tr>\n",
       "      <th>5690</th>\n",
       "      <td>22706</td>\n",
       "      <td>5699.0000</td>\n",
       "      <td>1</td>\n",
       "      <td>634</td>\n",
       "      <td>1.0000</td>\n",
       "      <td>0</td>\n",
       "      <td>0</td>\n",
       "    </tr>\n",
       "    <tr>\n",
       "      <th>5691</th>\n",
       "      <td>22707</td>\n",
       "      <td>6756.0600</td>\n",
       "      <td>0</td>\n",
       "      <td>730</td>\n",
       "      <td>1.0000</td>\n",
       "      <td>0</td>\n",
       "      <td>0</td>\n",
       "    </tr>\n",
       "    <tr>\n",
       "      <th>5692</th>\n",
       "      <td>22708</td>\n",
       "      <td>3217.2000</td>\n",
       "      <td>0</td>\n",
       "      <td>59</td>\n",
       "      <td>1.0000</td>\n",
       "      <td>0</td>\n",
       "      <td>0</td>\n",
       "    </tr>\n",
       "    <tr>\n",
       "      <th>5693</th>\n",
       "      <td>22709</td>\n",
       "      <td>3950.7200</td>\n",
       "      <td>0</td>\n",
       "      <td>217</td>\n",
       "      <td>1.0000</td>\n",
       "      <td>0</td>\n",
       "      <td>0</td>\n",
       "    </tr>\n",
       "    <tr>\n",
       "      <th>5694</th>\n",
       "      <td>12713</td>\n",
       "      <td>794.5500</td>\n",
       "      <td>0</td>\n",
       "      <td>37</td>\n",
       "      <td>1.0000</td>\n",
       "      <td>0</td>\n",
       "      <td>0</td>\n",
       "    </tr>\n",
       "  </tbody>\n",
       "</table>\n",
       "<p>5695 rows × 7 columns</p>\n",
       "</div>"
      ],
      "text/plain": [
       "      customer_id  gross_revenue  recency_days  qtde_products  frequency  \\\n",
       "0           17850      5391.2100           372            297    17.0000   \n",
       "1           13047      3232.5900            56            171     0.0283   \n",
       "2           12583      6705.3800             2            232     0.0403   \n",
       "3           13748       948.2500            95             28     0.0179   \n",
       "4           15100       876.0000           333              3     0.0732   \n",
       "...           ...            ...           ...            ...        ...   \n",
       "5690        22706      5699.0000             1            634     1.0000   \n",
       "5691        22707      6756.0600             0            730     1.0000   \n",
       "5692        22708      3217.2000             0             59     1.0000   \n",
       "5693        22709      3950.7200             0            217     1.0000   \n",
       "5694        12713       794.5500             0             37     1.0000   \n",
       "\n",
       "      qtde_returns  cluster  \n",
       "0               40        1  \n",
       "1               35        2  \n",
       "2               50        6  \n",
       "3                0        7  \n",
       "4               22        5  \n",
       "...            ...      ...  \n",
       "5690             0        0  \n",
       "5691             0        0  \n",
       "5692             0        0  \n",
       "5693             0        0  \n",
       "5694             0        0  \n",
       "\n",
       "[5695 rows x 7 columns]"
      ]
     },
     "execution_count": 122,
     "metadata": {},
     "output_type": "execute_result"
    }
   ],
   "source": [
    "# select data\n",
    "query = \"\"\" SELECT * FROM insiders\"\"\"\n",
    "df_query = pd.read_sql( query, conn)\n",
    "df_query"
   ]
  },
  {
   "cell_type": "code",
   "execution_count": null,
   "id": "efcd9491",
   "metadata": {
    "ExecuteTime": {
     "end_time": "2023-03-19T18:26:07.124150Z",
     "start_time": "2023-03-19T18:26:07.110187Z"
    }
   },
   "outputs": [],
   "source": []
  },
  {
   "cell_type": "code",
   "execution_count": null,
   "id": "f2b73488",
   "metadata": {},
   "outputs": [],
   "source": [
    "# call C:\\Users\\pedro\\miniconda3\\condabin\\activate.bat\n",
    "# conda activate pa005insiderclustering\n",
    "# cd C:\\repos\\portfolio_projetos\\pa005_insider_clustering\n",
    "# set data_python=%date:~6,4%-%date:~3,2%-%date:~0,2%%time:~0,2%:%time:~3,2%:%time:~6,2%\n",
    "# set path_pa005=C:\\repos\\portfolio_projetos\\pa005_insider_clustering\n",
    "# papermill %path_pa005%\\notebooks\\c0.10-Deploy.ipynb %path_pa005%\\notebooks\\c0.11-Deploy_%data_python%.ipynb"
   ]
  },
  {
   "cell_type": "code",
   "execution_count": null,
   "id": "7cc942b5",
   "metadata": {},
   "outputs": [],
   "source": []
  }
 ],
 "metadata": {
  "hide_input": false,
  "kernelspec": {
   "display_name": "Python 3 (ipykernel)",
   "language": "python",
   "name": "python3"
  },
  "language_info": {
   "codemirror_mode": {
    "name": "ipython",
    "version": 3
   },
   "file_extension": ".py",
   "mimetype": "text/x-python",
   "name": "python",
   "nbconvert_exporter": "python",
   "pygments_lexer": "ipython3",
   "version": "3.8.0"
  },
  "toc": {
   "base_numbering": 1,
   "nav_menu": {},
   "number_sections": true,
   "sideBar": true,
   "skip_h1_title": false,
   "title_cell": "Table of Contents",
   "title_sidebar": "Contents",
   "toc_cell": false,
   "toc_position": {},
   "toc_section_display": true,
   "toc_window_display": true
  },
  "vscode": {
   "interpreter": {
    "hash": "cfd73117ffdae4ac378dd428f8f07c65dbc9654b8e02b04e135b20ed888f32b5"
   }
  }
 },
 "nbformat": 4,
 "nbformat_minor": 5
}
