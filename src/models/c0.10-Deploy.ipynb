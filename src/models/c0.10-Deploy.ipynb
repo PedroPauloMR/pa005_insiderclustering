{
 "cells": [
  {
   "cell_type": "markdown",
   "id": "fd800d5f",
   "metadata": {
    "hide_input": false
   },
   "source": [
    "# PA005: High Value Customer Identification (Insiders)"
   ]
  },
  {
   "cell_type": "markdown",
   "id": "bec5327c",
   "metadata": {},
   "source": [
    "# 0.0 Imports"
   ]
  },
  {
   "cell_type": "code",
   "execution_count": null,
   "id": "1fe5b02b",
   "metadata": {
    "ExecuteTime": {
     "end_time": "2023-04-02T14:30:22.127702Z",
     "start_time": "2023-04-02T14:30:22.117727Z"
    }
   },
   "outputs": [],
   "source": [
    "import pandas as pd\n",
    "import re\n",
    "import numpy as np\n",
    "import matplotlib.pyplot as plt\n",
    "import seaborn as sns\n",
    "\n",
    "import sqlite3\n",
    "import psycopg2\n",
    "\n",
    "from sqlalchemy import create_engine\n",
    "import scipy.stats as st\n",
    "from umap.umap_ import UMAP\n",
    "\n",
    "from plotly import express as px\n",
    "\n",
    "\n",
    "from sklearn.cluster import KMeans, DBSCAN\n",
    "\n",
    "from sklearn.preprocessing import StandardScaler,MinMaxScaler,RobustScaler\n",
    "\n",
    "from sklearn.decomposition import PCA\n",
    "\n",
    "from sklearn.manifold import TSNE\n",
    "\n",
    "from sklearn.ensemble import RandomForestRegressor\n",
    "\n",
    "from sklearn.mixture import GaussianMixture\n",
    "\n",
    "from sklearn.metrics import silhouette_score, silhouette_samples\n",
    "\n",
    "from scipy.cluster.hierarchy import  linkage,dendrogram, fcluster\n",
    "\n",
    "from sklearn.neighbors import NearestNeighbors\n",
    "\n",
    "import s3fs\n",
    "pd.set_option('display.float_format', lambda x: '%.4f' % x)\n",
    "import warnings\n",
    "warnings.filterwarnings(\"ignore\")"
   ]
  },
  {
   "cell_type": "markdown",
   "id": "cba79f5a",
   "metadata": {},
   "source": [
    "# 0.2 Load Data"
   ]
  },
  {
   "cell_type": "code",
   "execution_count": null,
   "id": "d17f3693",
   "metadata": {},
   "outputs": [],
   "source": [
    "AWS_KEY = ''\n",
    "AWS_SECRET = ''\n",
    "AWS_BUCKET = ''"
   ]
  },
  {
   "cell_type": "code",
   "execution_count": null,
   "id": "d8e2572c",
   "metadata": {
    "ExecuteTime": {
     "end_time": "2023-04-02T14:30:33.930542Z",
     "start_time": "2023-04-02T14:30:22.129985Z"
    }
   },
   "outputs": [],
   "source": [
    "df_raw = pd.read_csv(AWS_BUCKET,encoding = 'ISO 8859-1',\n",
    "    storage_options={\n",
    "        \"key\": AWS_KEY,\n",
    "        \"secret\": AWS_SECRET},\n",
    ")\n",
    "df_raw"
   ]
  },
  {
   "cell_type": "code",
   "execution_count": null,
   "id": "e9bb2414",
   "metadata": {
    "ExecuteTime": {
     "end_time": "2023-04-02T14:30:33.945505Z",
     "start_time": "2023-04-02T14:30:33.932567Z"
    }
   },
   "outputs": [],
   "source": [
    "caminho = 'C:\\\\repos\\\\portfolio_projetos\\\\pa005_insider_clustering'\n",
    "# caminho = 's3://insiders-db-pedro/'\n",
    "# df_raw = pd.read_csv(caminho + '\\\\data\\\\raw\\\\Ecommerce.csv', encoding = 'ISO 8859-1')"
   ]
  },
  {
   "cell_type": "code",
   "execution_count": null,
   "id": "ea5f2b5e",
   "metadata": {
    "ExecuteTime": {
     "end_time": "2023-04-02T14:30:33.993866Z",
     "start_time": "2023-04-02T14:30:33.948496Z"
    }
   },
   "outputs": [],
   "source": [
    "df_raw = df_raw.drop(['Unnamed: 8'], axis = 1)\n",
    "\n",
    "df_raw.head()"
   ]
  },
  {
   "cell_type": "markdown",
   "id": "bcd500c2",
   "metadata": {
    "ExecuteTime": {
     "end_time": "2023-01-28T15:12:36.453933Z",
     "start_time": "2023-01-28T15:12:36.444960Z"
    }
   },
   "source": [
    "# 1.0 Descrição os dados"
   ]
  },
  {
   "cell_type": "code",
   "execution_count": null,
   "id": "7eb2b3ee",
   "metadata": {
    "ExecuteTime": {
     "end_time": "2023-04-02T14:30:34.025976Z",
     "start_time": "2023-04-02T14:30:33.994899Z"
    }
   },
   "outputs": [],
   "source": [
    "df1 = df_raw.copy()"
   ]
  },
  {
   "cell_type": "markdown",
   "id": "f863e8c1",
   "metadata": {},
   "source": [
    "## 1.1 Rename columns"
   ]
  },
  {
   "cell_type": "code",
   "execution_count": null,
   "id": "c438c9d4",
   "metadata": {
    "ExecuteTime": {
     "end_time": "2023-04-02T14:30:34.057181Z",
     "start_time": "2023-04-02T14:30:34.027974Z"
    }
   },
   "outputs": [],
   "source": [
    "cols_new = ['invoice_no','stock_code','description','quantity','invoice_date','unit_price','customer_id','country']\n",
    "\n",
    "df1.columns = cols_new\n",
    "df1.head()"
   ]
  },
  {
   "cell_type": "markdown",
   "id": "87689e50",
   "metadata": {},
   "source": [
    "## 1.2 Data dimension"
   ]
  },
  {
   "cell_type": "code",
   "execution_count": null,
   "id": "5d809de7",
   "metadata": {
    "ExecuteTime": {
     "end_time": "2023-04-02T14:30:34.073143Z",
     "start_time": "2023-04-02T14:30:34.059179Z"
    }
   },
   "outputs": [],
   "source": [
    "print(\"Number of rows: {} \\nNumber of columns: {}\".format(df1.shape[0], df1.shape[1]))"
   ]
  },
  {
   "cell_type": "markdown",
   "id": "ced0d42d",
   "metadata": {},
   "source": [
    "## 1.3 Data types"
   ]
  },
  {
   "cell_type": "code",
   "execution_count": null,
   "id": "59d14ff9",
   "metadata": {
    "ExecuteTime": {
     "end_time": "2023-04-02T14:30:34.088443Z",
     "start_time": "2023-04-02T14:30:34.075179Z"
    }
   },
   "outputs": [],
   "source": [
    "df1.dtypes"
   ]
  },
  {
   "cell_type": "markdown",
   "id": "19ab00d9",
   "metadata": {},
   "source": [
    "## 1.4 Check NA"
   ]
  },
  {
   "cell_type": "code",
   "execution_count": null,
   "id": "d2fd5d32",
   "metadata": {
    "ExecuteTime": {
     "end_time": "2023-04-02T14:30:34.435642Z",
     "start_time": "2023-04-02T14:30:34.090304Z"
    }
   },
   "outputs": [],
   "source": [
    "df1.isna().sum()"
   ]
  },
  {
   "cell_type": "markdown",
   "id": "df643360",
   "metadata": {},
   "source": [
    "## 1.5 Replace NA"
   ]
  },
  {
   "cell_type": "code",
   "execution_count": null,
   "id": "e4f12b19",
   "metadata": {
    "ExecuteTime": {
     "end_time": "2023-04-02T14:30:34.516163Z",
     "start_time": "2023-04-02T14:30:34.440706Z"
    }
   },
   "outputs": [],
   "source": [
    "df_missing = df1.loc[df1['customer_id'].isna() ]\n",
    "df_not_missing = df1.loc[~df1['customer_id'].isna() ]\n",
    "df_not_missing.head()"
   ]
  },
  {
   "cell_type": "code",
   "execution_count": null,
   "id": "672f80d0",
   "metadata": {
    "ExecuteTime": {
     "end_time": "2023-04-02T14:30:34.531682Z",
     "start_time": "2023-04-02T14:30:34.520709Z"
    }
   },
   "outputs": [],
   "source": [
    "print('Missing => {}  and NOT missing => {}'.format(df_missing.shape[0],df_not_missing.shape[0]))"
   ]
  },
  {
   "cell_type": "code",
   "execution_count": null,
   "id": "a9bb0407",
   "metadata": {
    "ExecuteTime": {
     "end_time": "2023-04-02T14:30:34.548357Z",
     "start_time": "2023-04-02T14:30:34.532820Z"
    }
   },
   "outputs": [],
   "source": [
    "missing_invoice = df_missing['invoice_no'].drop_duplicates().tolist()\n",
    "missing_invoice[0:9]"
   ]
  },
  {
   "cell_type": "code",
   "execution_count": null,
   "id": "cb859e2a",
   "metadata": {
    "ExecuteTime": {
     "end_time": "2023-04-02T14:30:34.580455Z",
     "start_time": "2023-04-02T14:30:34.550727Z"
    }
   },
   "outputs": [],
   "source": [
    "df_not_missing.loc[df_not_missing['invoice_no'].isin( missing_invoice )]\n",
    "# nao existe invoice_no do missing presente no not missing"
   ]
  },
  {
   "cell_type": "code",
   "execution_count": null,
   "id": "02c13de6",
   "metadata": {
    "ExecuteTime": {
     "end_time": "2023-04-02T14:30:34.598408Z",
     "start_time": "2023-04-02T14:30:34.582549Z"
    }
   },
   "outputs": [],
   "source": [
    "# atribuição dos novos \"customer_id\", apenas para nao perder os dados dos 25%\n",
    "#df_not_missing['customer_id'].max()  # 18287"
   ]
  },
  {
   "cell_type": "code",
   "execution_count": null,
   "id": "ec798dbf",
   "metadata": {
    "ExecuteTime": {
     "end_time": "2023-04-02T14:30:34.824143Z",
     "start_time": "2023-04-02T14:30:34.603500Z"
    }
   },
   "outputs": [],
   "source": [
    "# create reference\n",
    "df_backup = pd.DataFrame(df_missing['invoice_no'].drop_duplicates() )\n",
    "df_backup['customer_id'] = np.arange(19000, 19000 + len(df_backup), 1)\n",
    "\n",
    "# merge original with reference dataframe\n",
    "df1 = pd.merge( df1, df_backup, on = 'invoice_no', how = 'left')\n",
    "\n",
    "# coalesce\n",
    "df1['customer_id'] = df1['customer_id_x'].combine_first( df1['customer_id_y'] )\n",
    "df1 = df1.drop(['customer_id_y','customer_id_x'], axis = 1)\n",
    "df1.head()"
   ]
  },
  {
   "cell_type": "code",
   "execution_count": null,
   "id": "5f8f69b9",
   "metadata": {
    "ExecuteTime": {
     "end_time": "2023-04-02T14:30:35.132282Z",
     "start_time": "2023-04-02T14:30:34.825720Z"
    }
   },
   "outputs": [],
   "source": [
    "df1.isna().sum()"
   ]
  },
  {
   "cell_type": "code",
   "execution_count": null,
   "id": "3ade3914",
   "metadata": {
    "ExecuteTime": {
     "end_time": "2023-04-02T14:30:35.147626Z",
     "start_time": "2023-04-02T14:30:35.132282Z"
    }
   },
   "outputs": [],
   "source": [
    "# com a mudança dos missings acima, rodar novamente as analises descritivas abaixo para verificar mudanças de comportamento"
   ]
  },
  {
   "cell_type": "code",
   "execution_count": null,
   "id": "1c0777cc",
   "metadata": {},
   "outputs": [],
   "source": []
  },
  {
   "cell_type": "code",
   "execution_count": null,
   "id": "57a755b0",
   "metadata": {
    "ExecuteTime": {
     "end_time": "2023-04-02T14:30:35.162826Z",
     "start_time": "2023-04-02T14:30:35.150061Z"
    }
   },
   "outputs": [],
   "source": [
    "# # remove\n",
    "# df1 = df1.dropna(subset = ['description','customer_id'])\n",
    "\n",
    "# print('Removed data: {:.2f}%'.format(100*(1 - (df1.shape[0]/df_raw.shape[0]))))"
   ]
  },
  {
   "cell_type": "code",
   "execution_count": null,
   "id": "f3ed91a1",
   "metadata": {
    "ExecuteTime": {
     "end_time": "2023-04-02T14:30:35.178357Z",
     "start_time": "2023-04-02T14:30:35.163826Z"
    }
   },
   "outputs": [],
   "source": [
    "# df1.isna().sum()"
   ]
  },
  {
   "cell_type": "code",
   "execution_count": null,
   "id": "24d2e22f",
   "metadata": {},
   "outputs": [],
   "source": []
  },
  {
   "cell_type": "markdown",
   "id": "8ac010ae",
   "metadata": {},
   "source": [
    "## 1.6 Change dtypes"
   ]
  },
  {
   "cell_type": "code",
   "execution_count": null,
   "id": "f58b415b",
   "metadata": {
    "ExecuteTime": {
     "end_time": "2023-04-02T14:30:35.257834Z",
     "start_time": "2023-04-02T14:30:35.180350Z"
    }
   },
   "outputs": [],
   "source": [
    "# invoice_date\n",
    "df1['invoice_date'] = pd.to_datetime(df1['invoice_date'], format='%d-%b-%y')\n",
    "\n",
    "# customer_id\n",
    "df1['customer_id'] = df1['customer_id'].astype('int64')\n",
    "df1.head()"
   ]
  },
  {
   "cell_type": "code",
   "execution_count": null,
   "id": "46d4ba1e",
   "metadata": {
    "ExecuteTime": {
     "end_time": "2023-04-02T14:30:35.272898Z",
     "start_time": "2023-04-02T14:30:35.258888Z"
    }
   },
   "outputs": [],
   "source": [
    "df1.dtypes"
   ]
  },
  {
   "cell_type": "markdown",
   "id": "59615a9c",
   "metadata": {},
   "source": [
    "## 1.7 Descriptive Statistics"
   ]
  },
  {
   "cell_type": "code",
   "execution_count": null,
   "id": "efc9b8c1",
   "metadata": {
    "ExecuteTime": {
     "end_time": "2023-04-02T14:30:35.337013Z",
     "start_time": "2023-04-02T14:30:35.273830Z"
    }
   },
   "outputs": [],
   "source": [
    "num_attributes = df1.select_dtypes(include=['int64','float64'])\n",
    "cat_attributes = df1.select_dtypes(exclude=['int64','float64','datetime64[ns]'])"
   ]
  },
  {
   "cell_type": "markdown",
   "id": "b95e413c",
   "metadata": {},
   "source": [
    "### 1.7.1 Numerical Attributes"
   ]
  },
  {
   "cell_type": "code",
   "execution_count": null,
   "id": "ed82bec9",
   "metadata": {
    "ExecuteTime": {
     "end_time": "2023-04-02T14:30:35.446561Z",
     "start_time": "2023-04-02T14:30:35.338140Z"
    }
   },
   "outputs": [],
   "source": [
    "# central tendency - mean / median\n",
    "ct1 = pd.DataFrame(num_attributes.apply(np.mean)).T\n",
    "ct2 = pd.DataFrame(num_attributes.apply(np.median)).T\n",
    "\n",
    "# dispersion - std / skew / kurtosis / min / max\n",
    "d1 = pd.DataFrame(num_attributes.apply(np.std)).T\n",
    "d2 = pd.DataFrame(num_attributes.apply(np.min)).T\n",
    "d3 = pd.DataFrame(num_attributes.apply(np.max)).T\n",
    "d4 = pd.DataFrame(num_attributes.apply(lambda x: x.max() - x.min() )).T\n",
    "d5 = pd.DataFrame(num_attributes.apply(lambda x: x.skew() )).T\n",
    "d6 = pd.DataFrame(num_attributes.apply(lambda x: x.kurtosis() )).T\n",
    "\n",
    "# concatenate\n",
    "m = pd.concat( [d2,d3,d4,ct1,ct2,d1,d5,d6]).T.reset_index()\n",
    "m.columns = ['attributes','min','max','range','mean','median','std', 'skew','kurtosis']\n",
    "m"
   ]
  },
  {
   "cell_type": "code",
   "execution_count": null,
   "id": "c38ac102",
   "metadata": {
    "ExecuteTime": {
     "end_time": "2023-04-02T14:30:35.462505Z",
     "start_time": "2023-04-02T14:30:35.448543Z"
    }
   },
   "outputs": [],
   "source": [
    "# quantidade com valor negativo ? (Devolução)\n",
    "# preço unitario de zero ? Promoção ?\n"
   ]
  },
  {
   "cell_type": "code",
   "execution_count": null,
   "id": "43156007",
   "metadata": {},
   "outputs": [],
   "source": []
  },
  {
   "cell_type": "markdown",
   "id": "235700da",
   "metadata": {},
   "source": [
    "### 1.7.2 Categorical Attributes"
   ]
  },
  {
   "cell_type": "code",
   "execution_count": null,
   "id": "4d4890cc",
   "metadata": {
    "ExecuteTime": {
     "end_time": "2023-04-02T14:30:36.047005Z",
     "start_time": "2023-04-02T14:30:35.464503Z"
    }
   },
   "outputs": [],
   "source": [
    "# cat_attributes['invoice_no'].astype('int64')\n",
    "# invoice_no\n",
    "df_letter_invoices = df1.loc[df1['invoice_no'].apply( lambda x: bool(re.search('[^0-9]+', x)) )]\n",
    "print('Total of invoices with letter: ', df_letter_invoices.shape[0])\n",
    "print('Total of invoices with letter and quantity < 0: ',df_letter_invoices.loc[\n",
    "                                        df_letter_invoices['quantity'] < 0].shape[0])"
   ]
  },
  {
   "cell_type": "code",
   "execution_count": null,
   "id": "5a289133",
   "metadata": {
    "ExecuteTime": {
     "end_time": "2023-04-02T14:30:36.595555Z",
     "start_time": "2023-04-02T14:30:36.049003Z"
    }
   },
   "outputs": [],
   "source": [
    "# stock code\n",
    "# pegar somente letras\n",
    "df1.loc[df1['stock_code'].apply( lambda x: bool(re.search('^[a-zA-Z]+$', x)) ),\n",
    "                   'stock_code'].unique()"
   ]
  },
  {
   "cell_type": "code",
   "execution_count": null,
   "id": "e97a3f03",
   "metadata": {
    "ExecuteTime": {
     "end_time": "2023-04-02T14:30:36.610859Z",
     "start_time": "2023-04-02T14:30:36.596627Z"
    }
   },
   "outputs": [],
   "source": [
    "# acao:  remove stock_code in ['POST', 'D', 'M', 'PADS', 'DOT', 'CRUK']\n"
   ]
  },
  {
   "cell_type": "code",
   "execution_count": null,
   "id": "262908fd",
   "metadata": {
    "ExecuteTime": {
     "end_time": "2023-04-02T14:30:36.642877Z",
     "start_time": "2023-04-02T14:30:36.619841Z"
    }
   },
   "outputs": [],
   "source": [
    "# description\n",
    "df1.head()\n",
    "\n",
    "# delete description"
   ]
  },
  {
   "cell_type": "code",
   "execution_count": null,
   "id": "95293dd5",
   "metadata": {
    "ExecuteTime": {
     "end_time": "2023-04-02T14:30:36.690064Z",
     "start_time": "2023-04-02T14:30:36.644393Z"
    }
   },
   "outputs": [],
   "source": [
    "# country\n",
    "df1['country'].unique()"
   ]
  },
  {
   "cell_type": "code",
   "execution_count": null,
   "id": "664b91b6",
   "metadata": {
    "ExecuteTime": {
     "end_time": "2023-04-02T14:30:36.733047Z",
     "start_time": "2023-04-02T14:30:36.692063Z"
    }
   },
   "outputs": [],
   "source": [
    "df1['country'].value_counts( normalize = True).head()"
   ]
  },
  {
   "cell_type": "code",
   "execution_count": null,
   "id": "ebf6bae4",
   "metadata": {
    "ExecuteTime": {
     "end_time": "2023-04-02T14:30:36.812345Z",
     "start_time": "2023-04-02T14:30:36.733047Z"
    }
   },
   "outputs": [],
   "source": [
    "df1[['country','customer_id']].drop_duplicates().groupby('country').count().sort_values(by = 'customer_id',\n",
    "                                                                                        ascending = False).head()"
   ]
  },
  {
   "cell_type": "code",
   "execution_count": null,
   "id": "159900ee",
   "metadata": {},
   "outputs": [],
   "source": []
  },
  {
   "cell_type": "code",
   "execution_count": null,
   "id": "31e7cde6",
   "metadata": {},
   "outputs": [],
   "source": []
  },
  {
   "cell_type": "markdown",
   "id": "97f2f075",
   "metadata": {},
   "source": [
    "# 2.0 Filtragem das variáveis"
   ]
  },
  {
   "cell_type": "code",
   "execution_count": null,
   "id": "87d2010f",
   "metadata": {
    "ExecuteTime": {
     "end_time": "2023-04-02T14:30:36.844451Z",
     "start_time": "2023-04-02T14:30:36.813270Z"
    }
   },
   "outputs": [],
   "source": [
    "df2 = df1.copy()"
   ]
  },
  {
   "cell_type": "code",
   "execution_count": null,
   "id": "7b6bed13",
   "metadata": {
    "ExecuteTime": {
     "end_time": "2023-04-02T14:30:37.164469Z",
     "start_time": "2023-04-02T14:30:36.846611Z"
    }
   },
   "outputs": [],
   "source": [
    "df2.sort_values(['customer_id','invoice_no','description']).head(10) \n",
    "# há devolução se olhar o primeiro individuo, pois o \"C\" parece ser a flag para devolução"
   ]
  },
  {
   "cell_type": "code",
   "execution_count": null,
   "id": "82f76531",
   "metadata": {
    "ExecuteTime": {
     "end_time": "2023-04-02T14:30:37.196020Z",
     "start_time": "2023-04-02T14:30:37.166054Z"
    }
   },
   "outputs": [],
   "source": [
    "# quantity (negative)\n",
    "df2.loc[df2['quantity'] < 0 ].sort_values('invoice_no').head()"
   ]
  },
  {
   "cell_type": "code",
   "execution_count": null,
   "id": "4d25ad10",
   "metadata": {
    "ExecuteTime": {
     "end_time": "2023-04-02T14:30:37.488278Z",
     "start_time": "2023-04-02T14:30:37.198969Z"
    }
   },
   "outputs": [],
   "source": [
    "#====== NUMERICAL ===========\n",
    "# unity price > 0\n",
    "df2 = df2.loc[df2['unit_price'] > 0.040]\n",
    "\n",
    "# stock code != ['POST, D, M, DOT, CRUK]\n",
    "df2 = df2.loc[~df2['stock_code'].isin( ['POST', 'D', 'DOT', 'M', 'S', 'AMAZONFEE', 'm', 'DCGSSBOY',\n",
    "       'DCGSSGIRL', 'PADS', 'B', 'CRUK'] ) ]\n",
    "\n",
    "# description\n",
    "df2 = df2.drop(['description'], axis = 1)\n",
    "\n",
    "# country change\n",
    "df2 = df2.loc[ ~df2['country'].isin( ['Unspecified','European Community'])]\n",
    "\n",
    "\n",
    "# esse cliente apareceu com compras e estornos altos após o pandas profiling na etapa de verificar outliers\n",
    "df2 = df2.loc[~df2['customer_id'].isin( [16446])]\n",
    "\n",
    "\n",
    "# quantity\n",
    "df2_returns = df2.loc[ df2['quantity'] < 0]\n",
    "df2_purchases = df2.loc[ df2['quantity'] >= 0]"
   ]
  },
  {
   "cell_type": "code",
   "execution_count": null,
   "id": "f63fd4aa",
   "metadata": {},
   "outputs": [],
   "source": []
  },
  {
   "cell_type": "markdown",
   "id": "01186448",
   "metadata": {},
   "source": [
    "# 3.0 Feature Engineering"
   ]
  },
  {
   "cell_type": "code",
   "execution_count": null,
   "id": "33186b55",
   "metadata": {
    "ExecuteTime": {
     "end_time": "2023-04-02T14:30:37.519847Z",
     "start_time": "2023-04-02T14:30:37.490196Z"
    }
   },
   "outputs": [],
   "source": [
    "df3 = df2.copy()"
   ]
  },
  {
   "cell_type": "markdown",
   "id": "7c97441c",
   "metadata": {},
   "source": [
    "## 3.1 Feature creation"
   ]
  },
  {
   "cell_type": "code",
   "execution_count": null,
   "id": "a22d31a6",
   "metadata": {
    "ExecuteTime": {
     "end_time": "2023-04-02T14:30:37.551545Z",
     "start_time": "2023-04-02T14:30:37.521847Z"
    }
   },
   "outputs": [],
   "source": [
    "# data reference\n",
    "df_ref = df3.drop(['invoice_no', 'stock_code', 'quantity', 'invoice_date',\n",
    "       'unit_price', 'country'], axis = 1).drop_duplicates().reset_index(drop = True)\n",
    "\n",
    "df_ref.head()"
   ]
  },
  {
   "cell_type": "markdown",
   "id": "e772eca5",
   "metadata": {},
   "source": [
    "### 3.1.1 Gross revenue"
   ]
  },
  {
   "cell_type": "code",
   "execution_count": null,
   "id": "1de5ade7",
   "metadata": {
    "ExecuteTime": {
     "end_time": "2023-04-02T14:30:37.584368Z",
     "start_time": "2023-04-02T14:30:37.555585Z"
    }
   },
   "outputs": [],
   "source": [
    "# gross revenue = quantity * price (faturamento)\n",
    "df2_purchases['gross_revenue'] = df2_purchases['quantity'] * df2_purchases['unit_price']"
   ]
  },
  {
   "cell_type": "code",
   "execution_count": null,
   "id": "9a7340c2",
   "metadata": {
    "ExecuteTime": {
     "end_time": "2023-04-02T14:30:37.650046Z",
     "start_time": "2023-04-02T14:30:37.585545Z"
    }
   },
   "outputs": [],
   "source": [
    "# monetary\n",
    "df_monetary = df2_purchases[['customer_id','gross_revenue']].groupby('customer_id').sum().reset_index()"
   ]
  },
  {
   "cell_type": "code",
   "execution_count": null,
   "id": "fe4fe5b0",
   "metadata": {
    "ExecuteTime": {
     "end_time": "2023-04-02T14:30:37.666477Z",
     "start_time": "2023-04-02T14:30:37.650603Z"
    }
   },
   "outputs": [],
   "source": [
    "df_ref = pd.merge(df_ref, df_monetary, on = 'customer_id',how = 'left')\n",
    "\n",
    "df_ref.isna().sum() # tem NA por conta de ser somente as compras 'positivas'"
   ]
  },
  {
   "cell_type": "markdown",
   "id": "93a48d98",
   "metadata": {},
   "source": [
    "### 3.1.2 Recency - day from last purchase"
   ]
  },
  {
   "cell_type": "code",
   "execution_count": null,
   "id": "ad23bde4",
   "metadata": {
    "ExecuteTime": {
     "end_time": "2023-04-02T14:30:37.734797Z",
     "start_time": "2023-04-02T14:30:37.670952Z"
    }
   },
   "outputs": [],
   "source": [
    "# recency - last day purchase\n",
    "df_recency = df2_purchases[['customer_id','invoice_date']].groupby('customer_id').max().reset_index()\n",
    "\n",
    "# pego o df1 com max() pois eu considero que seria eu olhando pra \"hoje\" no meu dataset e tirando 'hoje - datas'\n",
    "df_recency['recency_days'] = ( df2_purchases['invoice_date'].max() - df_recency['invoice_date']  ).dt.days\n",
    "df_recency = df_recency[['customer_id','recency_days']].copy()\n",
    "df_ref = pd.merge(df_ref, df_recency, on = 'customer_id', how = 'left')\n",
    "df_ref.isna().sum()"
   ]
  },
  {
   "cell_type": "code",
   "execution_count": null,
   "id": "184a0687",
   "metadata": {
    "ExecuteTime": {
     "end_time": "2023-03-05T17:01:27.222231Z",
     "start_time": "2023-03-05T17:01:27.211218Z"
    }
   },
   "outputs": [],
   "source": []
  },
  {
   "cell_type": "code",
   "execution_count": null,
   "id": "65b09281",
   "metadata": {
    "ExecuteTime": {
     "end_time": "2023-03-05T17:00:20.916428Z",
     "start_time": "2023-03-05T17:00:20.903465Z"
    }
   },
   "outputs": [],
   "source": []
  },
  {
   "cell_type": "markdown",
   "id": "967c149d",
   "metadata": {},
   "source": [
    "### 3.1.5 Quantity of unique products purchased"
   ]
  },
  {
   "cell_type": "code",
   "execution_count": null,
   "id": "013aa145",
   "metadata": {
    "ExecuteTime": {
     "end_time": "2023-04-02T14:30:37.867141Z",
     "start_time": "2023-04-02T14:30:37.740641Z"
    }
   },
   "outputs": [],
   "source": [
    "# number of products\n",
    "df_frequency = df2_purchases[['customer_id','stock_code']].groupby(\n",
    "                                'customer_id').count().reset_index().rename(columns={'stock_code':'qtde_products'})\n",
    "df_ref = pd.merge(df_ref, df_frequency, on = 'customer_id', how = 'left')\n",
    "df_ref.isna().sum()"
   ]
  },
  {
   "cell_type": "code",
   "execution_count": null,
   "id": "873ef4ac",
   "metadata": {
    "ExecuteTime": {
     "end_time": "2023-04-02T14:30:37.883048Z",
     "start_time": "2023-04-02T14:30:37.872073Z"
    }
   },
   "outputs": [],
   "source": [
    "df_ref.head()"
   ]
  },
  {
   "cell_type": "markdown",
   "id": "eb14d048",
   "metadata": {},
   "source": [
    "### 3.1.7 Frequency purchase"
   ]
  },
  {
   "cell_type": "code",
   "execution_count": null,
   "id": "e7aabfc5",
   "metadata": {
    "ExecuteTime": {
     "end_time": "2023-04-02T14:30:37.998935Z",
     "start_time": "2023-04-02T14:30:37.890026Z"
    }
   },
   "outputs": [],
   "source": [
    "df2[['invoice_no','customer_id','invoice_date']].drop_duplicates().head()"
   ]
  },
  {
   "cell_type": "code",
   "execution_count": null,
   "id": "eacec176",
   "metadata": {
    "ExecuteTime": {
     "end_time": "2023-04-02T14:30:39.165152Z",
     "start_time": "2023-04-02T14:30:38.000933Z"
    }
   },
   "outputs": [],
   "source": [
    "df_aux = df2_purchases[['invoice_no','customer_id','invoice_date']].drop_duplicates().groupby('customer_id').agg(\n",
    "                    max_ = ('invoice_date','max'),\n",
    "                    min_ = ('invoice_date','min'),\n",
    "                    days_ = ('invoice_date',lambda x: (x.max() - x.min()).days + 1),\n",
    "                    buy_ = ('invoice_date','count')).reset_index()\n",
    "\n",
    "# frequency\n",
    "df_aux['frequency'] = df_aux[['days_','buy_']].apply(lambda x: x['buy_'] / x['days_'] if x['days_'] != 0\n",
    "                                                else 0, axis = 1)\n",
    "# merge\n",
    "df_ref = pd.merge(df_ref, df_aux[['customer_id','frequency']], on = 'customer_id', how = 'left')\n",
    "df_ref"
   ]
  },
  {
   "cell_type": "code",
   "execution_count": null,
   "id": "ae6107a5",
   "metadata": {
    "ExecuteTime": {
     "end_time": "2023-04-02T14:30:39.181143Z",
     "start_time": "2023-04-02T14:30:39.167138Z"
    }
   },
   "outputs": [],
   "source": [
    "df_ref.isna().sum()"
   ]
  },
  {
   "cell_type": "code",
   "execution_count": null,
   "id": "2598c599",
   "metadata": {},
   "outputs": [],
   "source": []
  },
  {
   "cell_type": "markdown",
   "id": "83c4b982",
   "metadata": {},
   "source": [
    "### 3.1.8 Number of returns"
   ]
  },
  {
   "cell_type": "code",
   "execution_count": null,
   "id": "0bdb879c",
   "metadata": {
    "ExecuteTime": {
     "end_time": "2023-04-02T14:30:39.213527Z",
     "start_time": "2023-04-02T14:30:39.184096Z"
    }
   },
   "outputs": [],
   "source": [
    "df_returns = df2_returns[['customer_id','quantity']].groupby('customer_id').sum().reset_index()\n",
    "df_returns.rename(columns = {'quantity':'qtde_returns'}, inplace = True)\n",
    "\n",
    "df_returns['qtde_returns'] = df_returns['qtde_returns'] * ( -1 )\n",
    "\n",
    "df_ref = pd.merge(df_ref, df_returns, on = 'customer_id', how = 'left')\n",
    "\n",
    "df_ref.loc[df_ref['qtde_returns'].isna(), 'qtde_returns'] = 0\n",
    "\n",
    "df_ref.isna().sum()"
   ]
  },
  {
   "cell_type": "code",
   "execution_count": null,
   "id": "0b66c8e1",
   "metadata": {},
   "outputs": [],
   "source": []
  },
  {
   "cell_type": "code",
   "execution_count": null,
   "id": "938a05ec",
   "metadata": {},
   "outputs": [],
   "source": []
  },
  {
   "cell_type": "markdown",
   "id": "d68bf649",
   "metadata": {
    "ExecuteTime": {
     "end_time": "2023-01-28T15:13:25.963360Z",
     "start_time": "2023-01-28T15:13:25.955379Z"
    }
   },
   "source": [
    "# 4.0 EDA (exploratory data analysis)"
   ]
  },
  {
   "cell_type": "code",
   "execution_count": null,
   "id": "a6d92bd3",
   "metadata": {
    "ExecuteTime": {
     "end_time": "2023-04-02T14:30:39.229433Z",
     "start_time": "2023-04-02T14:30:39.215766Z"
    }
   },
   "outputs": [],
   "source": [
    "df4 = df_ref.dropna().copy()\n",
    "df4.isna().sum()"
   ]
  },
  {
   "cell_type": "code",
   "execution_count": null,
   "id": "a1f3e67d",
   "metadata": {
    "ExecuteTime": {
     "end_time": "2023-04-02T14:30:39.245439Z",
     "start_time": "2023-04-02T14:30:39.231430Z"
    }
   },
   "outputs": [],
   "source": [
    "df4.shape"
   ]
  },
  {
   "cell_type": "code",
   "execution_count": null,
   "id": "d55c38aa",
   "metadata": {},
   "outputs": [],
   "source": []
  },
  {
   "cell_type": "markdown",
   "id": "2aa8e919",
   "metadata": {},
   "source": [
    "## 4.3 Space Study"
   ]
  },
  {
   "cell_type": "code",
   "execution_count": null,
   "id": "faa05e03",
   "metadata": {
    "ExecuteTime": {
     "end_time": "2023-04-02T14:30:39.260971Z",
     "start_time": "2023-04-02T14:30:39.246440Z"
    }
   },
   "outputs": [],
   "source": [
    "# original dataset\n",
    "# df43 = df4.drop(['customer_id'], axis = 1).copy()\n",
    "\n",
    "# selected dataset\n",
    "cols_selected = ['customer_id','gross_revenue','recency_days','qtde_products','frequency','qtde_returns']\n",
    "df43 = df4[cols_selected].drop(['customer_id'], axis = 1).copy()\n",
    "df43.head()"
   ]
  },
  {
   "cell_type": "code",
   "execution_count": null,
   "id": "d7c60371",
   "metadata": {
    "ExecuteTime": {
     "end_time": "2023-04-02T14:30:39.293011Z",
     "start_time": "2023-04-02T14:30:39.263039Z"
    }
   },
   "outputs": [],
   "source": [
    "# rescaling/standartization\n",
    "mm = MinMaxScaler()\n",
    "# ss = StandardScaler()\n",
    "# rs = RobustScaler()\n",
    "\n",
    "df43['gross_revenue'] = mm.fit_transform( df43[['gross_revenue']] )\n",
    "df43['recency_days'] = mm.fit_transform( df43[['recency_days']] )\n",
    "df43['qtde_products'] = mm.fit_transform( df43[['qtde_products']] )\n",
    "df43['frequency'] = mm.fit_transform( df43[['frequency']] )\n",
    "\n",
    "df43['qtde_returns'] = mm.fit_transform( df43[['qtde_returns']] )"
   ]
  },
  {
   "cell_type": "code",
   "execution_count": null,
   "id": "ca99411f",
   "metadata": {
    "ExecuteTime": {
     "end_time": "2023-04-02T14:30:39.308985Z",
     "start_time": "2023-04-02T14:30:39.295005Z"
    }
   },
   "outputs": [],
   "source": [
    "X = df43.copy()\n",
    "X.shape"
   ]
  },
  {
   "cell_type": "markdown",
   "id": "56ee1dd8",
   "metadata": {},
   "source": [
    "### 4.3.1 PCA"
   ]
  },
  {
   "cell_type": "code",
   "execution_count": null,
   "id": "bd4ab930",
   "metadata": {
    "ExecuteTime": {
     "end_time": "2023-04-02T14:30:39.324337Z",
     "start_time": "2023-04-02T14:30:39.310449Z"
    }
   },
   "outputs": [],
   "source": [
    "# pca = PCA( n_components = X.shape[1] )\n",
    "\n",
    "# principal_components = pca.fit_transform( X )\n",
    "\n",
    "# # plot explainable variables\n",
    "# features = range( pca.n_components_ )\n",
    "\n",
    "# plt.bar( features, pca.explained_variance_ratio_, color = 'black')\n",
    "\n",
    "# # pca component\n",
    "# df_pca = pd.DataFrame( principal_components )"
   ]
  },
  {
   "cell_type": "code",
   "execution_count": null,
   "id": "2c839bbb",
   "metadata": {
    "ExecuteTime": {
     "end_time": "2023-04-02T14:30:39.340162Z",
     "start_time": "2023-04-02T14:30:39.326254Z"
    }
   },
   "outputs": [],
   "source": [
    "# sns.scatterplot( x=0, y = 1, data = df_pca );"
   ]
  },
  {
   "cell_type": "code",
   "execution_count": null,
   "id": "8cf47686",
   "metadata": {},
   "outputs": [],
   "source": []
  },
  {
   "cell_type": "markdown",
   "id": "178cb420",
   "metadata": {},
   "source": [
    "### 4.3.2 UMAP"
   ]
  },
  {
   "cell_type": "code",
   "execution_count": null,
   "id": "8d812a1c",
   "metadata": {
    "ExecuteTime": {
     "end_time": "2023-04-02T14:30:39.355767Z",
     "start_time": "2023-04-02T14:30:39.341161Z"
    }
   },
   "outputs": [],
   "source": [
    "# reducer = UMAP( random_state = 42 )\n",
    "# embedding = reducer.fit_transform( X )\n",
    "\n",
    "# # embedding\n",
    "# df_umap = pd.DataFrame()\n",
    "# df_umap['embedding_x'] = embedding[:,0]\n",
    "# df_umap['embedding_y'] = embedding[:,1]\n",
    "\n",
    "# # plot UMAP\n",
    "# sns.scatterplot( x = 'embedding_x', y = 'embedding_y',data = df_umap)"
   ]
  },
  {
   "cell_type": "code",
   "execution_count": null,
   "id": "18e8cbe9",
   "metadata": {},
   "outputs": [],
   "source": []
  },
  {
   "cell_type": "markdown",
   "id": "9118f280",
   "metadata": {},
   "source": [
    "### 4.3.3 t-SNE"
   ]
  },
  {
   "cell_type": "code",
   "execution_count": null,
   "id": "65fea5dc",
   "metadata": {
    "ExecuteTime": {
     "end_time": "2023-04-02T14:30:39.370887Z",
     "start_time": "2023-04-02T14:30:39.356767Z"
    }
   },
   "outputs": [],
   "source": [
    "# reducer = TSNE( n_components = 2, random_state = 42 )\n",
    "# embedding = reducer.fit_transform( X )\n",
    "\n",
    "# # embedding\n",
    "# df_tsne = pd.DataFrame()\n",
    "# df_tsne['embedding_x'] = embedding[:,0]\n",
    "# df_tsne['embedding_y'] = embedding[:,1]\n",
    "\n",
    "# # plot UMAP\n",
    "# sns.scatterplot( x = 'embedding_x', y = 'embedding_y',data = df_tsne)"
   ]
  },
  {
   "cell_type": "code",
   "execution_count": null,
   "id": "88220629",
   "metadata": {
    "ExecuteTime": {
     "end_time": "2023-03-13T23:08:38.089332Z",
     "start_time": "2023-03-13T23:08:38.067347Z"
    }
   },
   "outputs": [],
   "source": []
  },
  {
   "cell_type": "markdown",
   "id": "bbbbbfd8",
   "metadata": {},
   "source": [
    "### 4.3.4 Tree-Based Embedding"
   ]
  },
  {
   "cell_type": "code",
   "execution_count": null,
   "id": "e493d6a5",
   "metadata": {
    "ExecuteTime": {
     "end_time": "2023-04-02T14:30:41.582499Z",
     "start_time": "2023-04-02T14:30:39.377920Z"
    }
   },
   "outputs": [],
   "source": [
    "# training dataset\n",
    "X = df43.drop(['gross_revenue'], axis = 1)\n",
    "Y = df43['gross_revenue']\n",
    "\n",
    "# model definition\n",
    "rf_model = RandomForestRegressor( n_estimators=100, random_state = 42)\n",
    "\n",
    "# model training\n",
    "rf_model.fit(X, Y)\n",
    "\n",
    "# leaf\n",
    "df_leaf = pd.DataFrame( rf_model.apply(X) )\n",
    "print(df_leaf.shape)"
   ]
  },
  {
   "cell_type": "code",
   "execution_count": null,
   "id": "a355146b",
   "metadata": {
    "ExecuteTime": {
     "end_time": "2023-04-02T14:31:01.753276Z",
     "start_time": "2023-04-02T14:30:41.586132Z"
    }
   },
   "outputs": [],
   "source": [
    "reducer = UMAP( random_state = 42 )\n",
    "embedding = reducer.fit_transform( df_leaf )\n",
    "\n",
    "# embedding\n",
    "df_tree = pd.DataFrame()\n",
    "df_tree['embedding_x'] = embedding[:,0]\n",
    "df_tree['embedding_y'] = embedding[:,1]\n",
    "\n",
    "# plot UMAP\n",
    "sns.scatterplot( x = 'embedding_x', y = 'embedding_y',data = df_tree)"
   ]
  },
  {
   "cell_type": "code",
   "execution_count": null,
   "id": "787dd7e7",
   "metadata": {},
   "outputs": [],
   "source": []
  },
  {
   "cell_type": "markdown",
   "id": "b0bdf122",
   "metadata": {},
   "source": [
    "# 5.0 Data Preparation"
   ]
  },
  {
   "cell_type": "code",
   "execution_count": null,
   "id": "d96c2513",
   "metadata": {
    "ExecuteTime": {
     "end_time": "2023-04-02T14:31:01.769121Z",
     "start_time": "2023-04-02T14:31:01.755849Z"
    }
   },
   "outputs": [],
   "source": [
    "# tree-based embedding\n",
    "df5 = df_tree.copy()\n",
    "d5.to_csv(caminho + '\\\\src\\\\data\\\\tree_based_embedding.csv', index = False)\n",
    "\n",
    "# tree-based embedding\n",
    "# df5 = df_umap.copy()\n",
    "\n",
    "# tree-based embedding\n",
    "# df5 = df_tsne.copy()"
   ]
  },
  {
   "cell_type": "code",
   "execution_count": null,
   "id": "086c0519",
   "metadata": {},
   "outputs": [],
   "source": []
  },
  {
   "cell_type": "markdown",
   "id": "3b289db5",
   "metadata": {},
   "source": [
    "# 7.0 Hyperparameter Fine Tunning"
   ]
  },
  {
   "cell_type": "code",
   "execution_count": null,
   "id": "3265039b",
   "metadata": {
    "ExecuteTime": {
     "end_time": "2023-04-02T14:31:01.785117Z",
     "start_time": "2023-04-02T14:31:01.771120Z"
    }
   },
   "outputs": [],
   "source": [
    "X = df5.copy()\n",
    "X.head()"
   ]
  },
  {
   "cell_type": "code",
   "execution_count": null,
   "id": "dffc224a",
   "metadata": {
    "ExecuteTime": {
     "end_time": "2023-04-02T14:31:01.800867Z",
     "start_time": "2023-04-02T14:31:01.787078Z"
    }
   },
   "outputs": [],
   "source": [
    "# clusters = [2,3,4,5,6,7]\n",
    "clusters = np.arange(2, 25, 1)"
   ]
  },
  {
   "cell_type": "markdown",
   "id": "e10874f1",
   "metadata": {},
   "source": [
    "## 7.1 K-Means"
   ]
  },
  {
   "cell_type": "code",
   "execution_count": null,
   "id": "8e2bf58a",
   "metadata": {
    "ExecuteTime": {
     "end_time": "2023-04-02T14:31:01.816860Z",
     "start_time": "2023-04-02T14:31:01.802862Z"
    }
   },
   "outputs": [],
   "source": [
    "# kmeans_list = []\n",
    "\n",
    "# for k in clusters:\n",
    "#     # model definition\n",
    "#     kmeans_model = KMeans(n_clusters = k, n_init = 100, random_state = 42)\n",
    "\n",
    "#     # model training\n",
    "#     kmeans_model.fit( X )\n",
    "\n",
    "\n",
    "#     # model prediction\n",
    "#     labels = kmeans_model.predict( X )\n",
    "\n",
    "#     # model evaluation\n",
    "#     sil = silhouette_score( X, labels, metric = 'euclidean')\n",
    "#     kmeans_list.append( sil )\n",
    "# #     print(sil)"
   ]
  },
  {
   "cell_type": "code",
   "execution_count": null,
   "id": "1b8a75e1",
   "metadata": {
    "ExecuteTime": {
     "end_time": "2023-04-02T14:31:01.831846Z",
     "start_time": "2023-04-02T14:31:01.818842Z"
    }
   },
   "outputs": [],
   "source": [
    "# plt.plot( clusters, kmeans_list, linestyle = '--', marker = 'o', color = 'b');\n",
    "# plt.xlabel('K clusters')\n",
    "# plt.ylabel('Silhouette Score')\n",
    "# plt.title('Silhouette Score  x  K clusters')"
   ]
  },
  {
   "cell_type": "code",
   "execution_count": null,
   "id": "c8851475",
   "metadata": {},
   "outputs": [],
   "source": []
  },
  {
   "cell_type": "code",
   "execution_count": null,
   "id": "d14f4c92",
   "metadata": {},
   "outputs": [],
   "source": []
  },
  {
   "cell_type": "markdown",
   "id": "48129e7c",
   "metadata": {},
   "source": [
    "## 7.2 GMM"
   ]
  },
  {
   "cell_type": "code",
   "execution_count": null,
   "id": "97a26feb",
   "metadata": {
    "ExecuteTime": {
     "end_time": "2023-04-02T14:31:01.848061Z",
     "start_time": "2023-04-02T14:31:01.832847Z"
    }
   },
   "outputs": [],
   "source": [
    "# gmm_list = []\n",
    "\n",
    "# for k in clusters:\n",
    "#     # model definition\n",
    "#     gmm_model = GaussianMixture(n_components = k, n_init = 10, random_state = 42)\n",
    "\n",
    "#     # model training\n",
    "#     gmm_model.fit( X )\n",
    "\n",
    "\n",
    "#     # model prediction\n",
    "#     labels = gmm_model.predict( X )\n",
    "\n",
    "#     # model evaluation\n",
    "#     sil = silhouette_score( X, labels, metric = 'euclidean')\n",
    "#     gmm_list.append( sil )\n",
    "# #     print(sil)"
   ]
  },
  {
   "cell_type": "code",
   "execution_count": null,
   "id": "0afc0ea8",
   "metadata": {
    "ExecuteTime": {
     "end_time": "2023-04-02T14:31:01.863699Z",
     "start_time": "2023-04-02T14:31:01.849062Z"
    }
   },
   "outputs": [],
   "source": [
    "# plt.plot( clusters, gmm_list, linestyle = '--', marker = 'o', color = 'b');\n",
    "# plt.xlabel('GMM clusters')\n",
    "# plt.ylabel('Silhouette Score')\n",
    "# plt.title('Silhouette Score  x  GMM clusters')"
   ]
  },
  {
   "cell_type": "code",
   "execution_count": null,
   "id": "ba2c5c7b",
   "metadata": {},
   "outputs": [],
   "source": []
  },
  {
   "cell_type": "code",
   "execution_count": null,
   "id": "2381adee",
   "metadata": {},
   "outputs": [],
   "source": []
  },
  {
   "cell_type": "markdown",
   "id": "c9f0f50e",
   "metadata": {},
   "source": [
    "## 7.3 Hierarchical Clustering"
   ]
  },
  {
   "cell_type": "code",
   "execution_count": null,
   "id": "5299771f",
   "metadata": {
    "ExecuteTime": {
     "end_time": "2023-04-02T14:31:01.879708Z",
     "start_time": "2023-04-02T14:31:01.865698Z"
    }
   },
   "outputs": [],
   "source": [
    "# # model definition and training\n",
    "# hc_model = linkage( X, 'ward')"
   ]
  },
  {
   "cell_type": "markdown",
   "id": "006fc605",
   "metadata": {},
   "source": [
    "### 7.3.1 H-Clustering Silhouette Score"
   ]
  },
  {
   "cell_type": "code",
   "execution_count": null,
   "id": "b2c9172e",
   "metadata": {
    "ExecuteTime": {
     "end_time": "2023-04-02T14:31:01.895621Z",
     "start_time": "2023-04-02T14:31:01.881655Z"
    }
   },
   "outputs": [],
   "source": [
    "# hc_list = []\n",
    "\n",
    "# for k in clusters:\n",
    "#     # model definition and training\n",
    "#     hc_model = linkage( X, 'ward')\n",
    "\n",
    "#     # model predict\n",
    "#     labels = fcluster( hc_model, t=k, criterion = 'maxclust' )\n",
    "\n",
    "#     # metrics\n",
    "#     sil = silhouette_score( X, labels, metric = 'euclidean' )\n",
    "# #     print(sil)\n",
    "#     hc_list.append(sil)\n",
    "    \n",
    "# plt.plot( clusters, hc_list, linestyle = '--', marker = 'o', color = 'b');"
   ]
  },
  {
   "cell_type": "code",
   "execution_count": null,
   "id": "ce433f7f",
   "metadata": {},
   "outputs": [],
   "source": []
  },
  {
   "cell_type": "markdown",
   "id": "7fab5787",
   "metadata": {},
   "source": [
    "## 7.5 Results"
   ]
  },
  {
   "cell_type": "code",
   "execution_count": null,
   "id": "ff038199",
   "metadata": {
    "ExecuteTime": {
     "end_time": "2023-04-02T14:31:01.911627Z",
     "start_time": "2023-04-02T14:31:01.897615Z"
    }
   },
   "outputs": [],
   "source": [
    "# # tree-based\n",
    "# df_results = pd.DataFrame(\n",
    "#     {'KMeans': kmeans_list,\n",
    "#     'GMM':gmm_list,\n",
    "#     'HC':hc_list} ).T\n",
    "\n",
    "# df_results.columns = clusters\n",
    "# df_results.style.highlight_max(color = 'lightgreen', axis = 1)"
   ]
  },
  {
   "cell_type": "code",
   "execution_count": null,
   "id": "7f44ccbf",
   "metadata": {
    "ExecuteTime": {
     "end_time": "2023-04-02T14:31:01.926588Z",
     "start_time": "2023-04-02T14:31:01.913622Z"
    }
   },
   "outputs": [],
   "source": [
    "# # umap\n",
    "# df_results = pd.DataFrame(\n",
    "#     {'KMeans': kmeans_list,\n",
    "#     'GMM':gmm_list,\n",
    "#     'HC':hc_list} ).T\n",
    "\n",
    "# df_results.columns = clusters\n",
    "# df_results.style.highlight_max(color = 'lightgreen', axis = 1)"
   ]
  },
  {
   "cell_type": "code",
   "execution_count": null,
   "id": "5243a743",
   "metadata": {
    "ExecuteTime": {
     "end_time": "2023-04-02T14:31:01.942588Z",
     "start_time": "2023-04-02T14:31:01.928583Z"
    }
   },
   "outputs": [],
   "source": [
    "# # t-sne\n",
    "# df_results = pd.DataFrame(\n",
    "#     {'KMeans': kmeans_list,\n",
    "#     'GMM':gmm_list,\n",
    "#     'HC':hc_list} ).T\n",
    "\n",
    "# df_results.columns = clusters\n",
    "# df_results.style.highlight_max(color = 'lightgreen', axis = 1)"
   ]
  },
  {
   "cell_type": "code",
   "execution_count": null,
   "id": "77837918",
   "metadata": {},
   "outputs": [],
   "source": []
  },
  {
   "cell_type": "markdown",
   "id": "b8d572f1",
   "metadata": {},
   "source": [
    "# 8.0 Model Training"
   ]
  },
  {
   "cell_type": "code",
   "execution_count": null,
   "id": "f77ddf1b",
   "metadata": {},
   "outputs": [],
   "source": []
  },
  {
   "cell_type": "markdown",
   "id": "b336dde8",
   "metadata": {},
   "source": [
    "## 8.2 GMM"
   ]
  },
  {
   "cell_type": "code",
   "execution_count": null,
   "id": "c350ba81",
   "metadata": {
    "ExecuteTime": {
     "end_time": "2023-04-02T14:32:03.267454Z",
     "start_time": "2023-04-02T14:31:01.944541Z"
    }
   },
   "outputs": [],
   "source": [
    "k = 8\n",
    "\n",
    "gmm_model = GaussianMixture(n_components = k, n_init = 300, random_state = 32)\n",
    "\n",
    "# model training\n",
    "gmm_model.fit( X )\n",
    "\n",
    "\n",
    "# model prediction\n",
    "labels = gmm_model.predict( X )\n",
    "\n",
    "# model evaluation\n",
    "sil = silhouette_score( X, labels, metric = 'euclidean')\n",
    "#     print(sil)"
   ]
  },
  {
   "cell_type": "markdown",
   "id": "ba2d2b89",
   "metadata": {},
   "source": [
    "### 8.2.1 Cluster Validation"
   ]
  },
  {
   "cell_type": "code",
   "execution_count": null,
   "id": "a2946ac9",
   "metadata": {
    "ExecuteTime": {
     "end_time": "2023-04-02T14:32:03.283413Z",
     "start_time": "2023-04-02T14:32:03.269451Z"
    }
   },
   "outputs": [],
   "source": [
    "# WSS\n",
    "# print('WSS score: {}'.format(kmeans.inertia_))\n",
    "\n",
    "## SS\n",
    "print('SS score: {}'.format(sil))"
   ]
  },
  {
   "cell_type": "code",
   "execution_count": null,
   "id": "e25c526b",
   "metadata": {},
   "outputs": [],
   "source": []
  },
  {
   "cell_type": "markdown",
   "id": "e475d774",
   "metadata": {},
   "source": [
    "# 9.0 Cluster Analysis"
   ]
  },
  {
   "cell_type": "code",
   "execution_count": null,
   "id": "18033339",
   "metadata": {
    "ExecuteTime": {
     "end_time": "2023-04-02T14:32:03.299371Z",
     "start_time": "2023-04-02T14:32:03.285407Z"
    }
   },
   "outputs": [],
   "source": [
    "df9 = X.copy()\n",
    "df9['cluster'] = labels"
   ]
  },
  {
   "cell_type": "code",
   "execution_count": null,
   "id": "0c8450ff",
   "metadata": {
    "ExecuteTime": {
     "end_time": "2023-03-13T22:57:05.559407Z",
     "start_time": "2023-03-13T22:57:05.552425Z"
    }
   },
   "outputs": [],
   "source": []
  },
  {
   "cell_type": "markdown",
   "id": "9ee7db84",
   "metadata": {},
   "source": [
    "## 9.2  Visualization Inspection - GMM"
   ]
  },
  {
   "cell_type": "code",
   "execution_count": null,
   "id": "2512d176",
   "metadata": {
    "ExecuteTime": {
     "end_time": "2023-04-02T14:32:04.175511Z",
     "start_time": "2023-04-02T14:32:03.301367Z"
    }
   },
   "outputs": [],
   "source": [
    "sns.scatterplot(x = 'embedding_x',y='embedding_y', data = df9, hue = 'cluster', palette = 'deep') #8"
   ]
  },
  {
   "cell_type": "code",
   "execution_count": null,
   "id": "78539468",
   "metadata": {},
   "outputs": [],
   "source": []
  },
  {
   "cell_type": "markdown",
   "id": "f8a8fe73",
   "metadata": {},
   "source": [
    "## 9.2 Cluster Profile"
   ]
  },
  {
   "cell_type": "code",
   "execution_count": null,
   "id": "6eb9cca7",
   "metadata": {
    "ExecuteTime": {
     "end_time": "2023-04-02T14:32:04.191470Z",
     "start_time": "2023-04-02T14:32:04.178505Z"
    }
   },
   "outputs": [],
   "source": [
    "df92 = df4[cols_selected].copy()\n",
    "# df92['cluster'] = labels_kmeans\n",
    "df92['cluster'] = labels\n",
    "df92.head()"
   ]
  },
  {
   "cell_type": "code",
   "execution_count": null,
   "id": "6b0bec02",
   "metadata": {
    "ExecuteTime": {
     "end_time": "2023-04-02T14:32:04.254095Z",
     "start_time": "2023-04-02T14:32:04.192467Z"
    }
   },
   "outputs": [],
   "source": [
    "# number of customer\n",
    "df_cluster = df92[['customer_id','cluster']].groupby('cluster').count().reset_index()\n",
    "df_cluster['perc_cluster'] = 100 * df_cluster['customer_id'] / df_cluster['customer_id'].sum()\n",
    "\n",
    "# average gross revenue\n",
    "df_cluster_gross_revenue = df92[['gross_revenue','cluster']].groupby('cluster').mean().reset_index()\n",
    "df_cluster = df_cluster.merge(df_cluster_gross_revenue, on = 'cluster', how = 'inner')\n",
    "\n",
    "# average recency days\n",
    "df_cluster_recency_days = df92[['recency_days','cluster']].groupby('cluster').mean().reset_index()\n",
    "df_cluster = df_cluster.merge(df_cluster_recency_days, on = 'cluster', how = 'inner')\n",
    "\n",
    "# average qtd products\n",
    "df_cluster_invoice_no = df92[['qtde_products','cluster']].groupby('cluster').mean().reset_index()\n",
    "df_cluster = df_cluster.merge(df_cluster_invoice_no, on = 'cluster', how = 'inner')\n",
    "\n",
    "# average frequency\n",
    "df_cluster_invoice_no = df92[['frequency','cluster']].groupby('cluster').mean().reset_index()\n",
    "df_cluster = df_cluster.merge(df_cluster_invoice_no, on = 'cluster', how = 'inner')\n",
    "\n",
    "# average returns\n",
    "df_cluster_invoice_no = df92[['qtde_returns','cluster']].groupby('cluster').mean().reset_index()\n",
    "df_cluster = df_cluster.merge(df_cluster_invoice_no, on = 'cluster', how = 'inner')\n",
    "\n",
    "\n",
    "df_cluster.sort_values(by=['gross_revenue'], ascending = False)"
   ]
  },
  {
   "cell_type": "code",
   "execution_count": null,
   "id": "01b10c03",
   "metadata": {
    "ExecuteTime": {
     "end_time": "2023-04-02T14:32:04.269578Z",
     "start_time": "2023-04-02T14:32:04.256090Z"
    }
   },
   "outputs": [],
   "source": [
    "# 6 Cluster Insiders\n",
    "# 3 Cluster More Products\n",
    "# 2 Cluster Spend Money\n",
    "# 7 Cluster Even More Products\n",
    "# 0 Cluster Less Days\n",
    "# 1 Cluster Less 1k\n",
    "# 4 Cluster Stop Returners\n",
    "# 5 Cluster More Buy"
   ]
  },
  {
   "cell_type": "code",
   "execution_count": null,
   "id": "bacf89fa",
   "metadata": {},
   "outputs": [],
   "source": []
  },
  {
   "cell_type": "markdown",
   "id": "49cdb972",
   "metadata": {},
   "source": [
    "- Cluster 01 (Insiders):\n",
    "    - Número de clientes: 468 (15 % do total)\n",
    "    - Recência média de 21 dias\n",
    "    - Compras em média de 424 compras\n",
    "    - Receita média de $ 8835,90\n",
    "    \n",
    "\n",
    "- Cluster 02:\n",
    "    - Número de clientes: 31 (0,71 % do total)\n",
    "    - Recência média de 13 dias\n",
    "    - Compras em média de 53 compras\n",
    "    - Receita média de $ 40.543,52\n",
    "\n",
    "\n",
    "- Cluster 03:\n",
    "    - Número de clientes: 4335 (99,15 % do total)\n",
    "    - Recência média de 92 dias\n",
    "    - Compras em média de 4 compras\n",
    "    - Receita média de $ 1372,58"
   ]
  },
  {
   "cell_type": "markdown",
   "id": "32d72972",
   "metadata": {},
   "source": [
    "# 10 EDA - Hypothesis"
   ]
  },
  {
   "cell_type": "code",
   "execution_count": null,
   "id": "cebb6a5e",
   "metadata": {
    "ExecuteTime": {
     "end_time": "2023-04-02T14:32:04.285173Z",
     "start_time": "2023-04-02T14:32:04.271212Z"
    }
   },
   "outputs": [],
   "source": [
    "df10 = df92.copy()\n",
    "df10.head()"
   ]
  },
  {
   "cell_type": "code",
   "execution_count": null,
   "id": "1b93ed99",
   "metadata": {},
   "outputs": [],
   "source": []
  },
  {
   "cell_type": "markdown",
   "id": "054593a4",
   "metadata": {},
   "source": [
    "# 11.0 Deploy to Production"
   ]
  },
  {
   "cell_type": "code",
   "execution_count": null,
   "id": "d3b6f5c8",
   "metadata": {
    "ExecuteTime": {
     "end_time": "2023-04-02T14:33:44.298901Z",
     "start_time": "2023-04-02T14:33:44.287893Z"
    }
   },
   "outputs": [],
   "source": [
    "for i in ['recency_days','qtde_returns','qtde_products']:\n",
    "    df92[i] = df92[i].astype('int64')"
   ]
  },
  {
   "cell_type": "code",
   "execution_count": null,
   "id": "5e50c441",
   "metadata": {
    "ExecuteTime": {
     "end_time": "2023-04-02T14:27:05.189904Z",
     "start_time": "2023-04-02T14:27:05.175817Z"
    }
   },
   "outputs": [],
   "source": [
    "endpoint = 'sqlite:///' + caminho + '\\\\notebooks\\\\insiders_db.sqlite'\n",
    "endpoint"
   ]
  },
  {
   "cell_type": "code",
   "execution_count": null,
   "id": "cfec550c",
   "metadata": {
    "ExecuteTime": {
     "end_time": "2023-04-02T15:45:42.551858Z",
     "start_time": "2023-04-02T15:45:42.536277Z"
    }
   },
   "outputs": [],
   "source": [
    "host = ''\n",
    "username = ''\n",
    "database = ''\n",
    "pwd = ''\n",
    "port = '5432'\n",
    "\n",
    "endpoint = 'postgresql://{}:{}@{}/{}'.format(username, pwd, host, database)\n",
    "endpoint"
   ]
  },
  {
   "cell_type": "code",
   "execution_count": null,
   "id": "704fb22b",
   "metadata": {
    "ExecuteTime": {
     "end_time": "2023-04-02T14:29:19.233094Z",
     "start_time": "2023-04-02T14:29:19.169254Z"
    }
   },
   "outputs": [],
   "source": []
  },
  {
   "cell_type": "code",
   "execution_count": null,
   "id": "3f19bddf",
   "metadata": {
    "ExecuteTime": {
     "end_time": "2023-04-02T14:30:06.816527Z",
     "start_time": "2023-04-02T14:30:06.776639Z"
    }
   },
   "outputs": [],
   "source": [
    "conn = create_engine(endpoint)"
   ]
  },
  {
   "cell_type": "code",
   "execution_count": null,
   "id": "94fe6705",
   "metadata": {
    "ExecuteTime": {
     "end_time": "2023-04-02T14:33:55.935273Z",
     "start_time": "2023-04-02T14:33:49.840511Z"
    }
   },
   "outputs": [],
   "source": [
    "# query_truncate_table_insiders = \"\"\" DROP TABLE insiders\"\"\"\n",
    "# conn.execute( query_truncate_table_insiders )"
   ]
  },
  {
   "cell_type": "code",
   "execution_count": null,
   "id": "fcbdf3b4",
   "metadata": {
    "ExecuteTime": {
     "end_time": "2023-04-02T14:34:04.749059Z",
     "start_time": "2023-04-02T14:34:04.267966Z"
    }
   },
   "outputs": [],
   "source": [
    "# # create table\n",
    "# query_create_insiders = \"\"\"\n",
    "#     CREATE TABLE insiders (\n",
    "#     customer_id      INTEGER,\n",
    "#     gross_revenue    REAL,\n",
    "#     recency_days     INTEGER,\n",
    "#     qtde_products    INTEGER,\n",
    "#     frequency        REAL,\n",
    "#     qtde_returns     INTEGER,\n",
    "#     cluster          INTEGER\n",
    "#     )\n",
    "#     \"\"\"\n",
    "\n",
    "# # conn = sqlite3.connect('insiders_db.sqlite')\n",
    "# conn.execute( query_create_insiders )\n",
    "# # conn.commit()\n",
    "# # conn.close()"
   ]
  },
  {
   "cell_type": "code",
   "execution_count": null,
   "id": "63998db0",
   "metadata": {
    "ExecuteTime": {
     "end_time": "2023-04-02T14:34:09.592575Z",
     "start_time": "2023-04-02T14:34:07.236155Z"
    }
   },
   "outputs": [],
   "source": [
    "# # insert data\n",
    "df92.to_sql('insiders',con = conn, if_exists = 'append', index = False)"
   ]
  },
  {
   "cell_type": "code",
   "execution_count": null,
   "id": "37a10cce",
   "metadata": {
    "ExecuteTime": {
     "end_time": "2023-04-02T14:34:11.187239Z",
     "start_time": "2023-04-02T14:34:09.596509Z"
    }
   },
   "outputs": [],
   "source": [
    "# select data\n",
    "query = \"\"\" SELECT * FROM insiders\"\"\"\n",
    "df_query = pd.read_sql( query, conn)\n",
    "df_query"
   ]
  },
  {
   "cell_type": "code",
   "execution_count": null,
   "id": "efcd9491",
   "metadata": {
    "ExecuteTime": {
     "end_time": "2023-03-19T18:26:07.124150Z",
     "start_time": "2023-03-19T18:26:07.110187Z"
    }
   },
   "outputs": [],
   "source": [
    "conn.close()"
   ]
  },
  {
   "cell_type": "code",
   "execution_count": null,
   "id": "f2b73488",
   "metadata": {},
   "outputs": [],
   "source": [
    "# call C:\\Users\\pedro\\miniconda3\\condabin\\activate.bat\n",
    "# conda activate pa005insiderclustering\n",
    "# cd C:\\repos\\portfolio_projetos\\pa005_insider_clustering\n",
    "# set data_python=%date:~6,4%-%date:~3,2%-%date:~0,2%%time:~0,2%:%time:~3,2%:%time:~6,2%\n",
    "# set path_pa005=C:\\repos\\portfolio_projetos\\pa005_insider_clustering\n",
    "# papermill %path_pa005%\\notebooks\\c0.10-Deploy.ipynb %path_pa005%\\notebooks\\c0.11-Deploy_%data_python%.ipynb"
   ]
  },
  {
   "cell_type": "code",
   "execution_count": null,
   "id": "7cc942b5",
   "metadata": {},
   "outputs": [],
   "source": []
  }
 ],
 "metadata": {
  "hide_input": false,
  "kernelspec": {
   "display_name": "Python 3 (ipykernel)",
   "language": "python",
   "name": "python3"
  },
  "language_info": {
   "codemirror_mode": {
    "name": "ipython",
    "version": 3
   },
   "file_extension": ".py",
   "mimetype": "text/x-python",
   "name": "python",
   "nbconvert_exporter": "python",
   "pygments_lexer": "ipython3",
   "version": "3.8.0"
  },
  "toc": {
   "base_numbering": 1,
   "nav_menu": {},
   "number_sections": true,
   "sideBar": true,
   "skip_h1_title": false,
   "title_cell": "Table of Contents",
   "title_sidebar": "Contents",
   "toc_cell": false,
   "toc_position": {},
   "toc_section_display": true,
   "toc_window_display": true
  },
  "vscode": {
   "interpreter": {
    "hash": "cfd73117ffdae4ac378dd428f8f07c65dbc9654b8e02b04e135b20ed888f32b5"
   }
  }
 },
 "nbformat": 4,
 "nbformat_minor": 5
}
